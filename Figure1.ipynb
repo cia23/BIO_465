{
 "cells": [
  {
   "cell_type": "code",
   "execution_count": 1,
   "metadata": {},
   "outputs": [],
   "source": [
    "import pandas as pd\n",
    "import numpy as np\n",
    "import matplotlib.pyplot as plt\n",
    "import seaborn as sns\n",
    "\n",
    "# returns a dataframe with the frequency of digits 0-9 from given list of nums\n",
    "def get_frequencies(nums):\n",
    "    freqs_list = [0, 0, 0, 0, 0, 0, 0, 0, 0, 0]\n",
    "    for num in nums:\n",
    "        if not pd.isna(num):\n",
    "            freqs_list[num] += 1\n",
    "    freqs_df = pd.DataFrame(freqs_list, index=range(0, 10), columns=['freq'])\n",
    "\n",
    "    return freqs_df\n",
    "\n",
    "#returns the first digit after the decimal point\n",
    "def first_after_decimal(num):\n",
    "    if pd.isna(num):\n",
    "        return\n",
    "    if str(num) == 'Null':\n",
    "        return\n",
    "    if str(num) == 'n. def.':\n",
    "        return\n",
    "    if num == 0:\n",
    "        return\n",
    "    else:\n",
    "        num = float(num) * 10000000\n",
    "        return(first_digit(abs(num)))\n",
    "#     return(first_digit(abs(num)))\n",
    "#     return int((abs(float(num)) * 10) % 10)"
   ]
  },
  {
   "cell_type": "code",
   "execution_count": 2,
   "metadata": {},
   "outputs": [],
   "source": [
    "def first_digit(num):\n",
    "    if pd.isna(num):\n",
    "        return\n",
    "    v = str(num)[0]\n",
    "    if v == '.':\n",
    "        return\n",
    "#     print(int(str(num)))\n",
    "    return int(str(num)[0])"
   ]
  },
  {
   "cell_type": "code",
   "execution_count": 3,
   "metadata": {},
   "outputs": [],
   "source": [
    "all_files = ['Data/35166117_TableS7.csv','Data/35166117_TableS5_raw.csv','Data/32543193_TableS3.csv', # 3\n",
    "             'Data/30371095_TableS5_STS_dependent_termini.csv','Data/30371095_TableS2_TAILSMT_BAM7vsSTSvsDMSO.csv', # 5\n",
    "             'Data/32242669_protein_water_normalized.csv','Data/30371095_UnnamedTable_MTS_N-termini_identified.csv', # 7\n",
    "             'Data/33175545_TableS3.csv','Data/32519869_TableS1_Whole_Tissue_Proteome_Matrix.csv', # 9\n",
    "             'Data/28217993_DataS12_normalized.csv','Data/29634277_S2_LFQ.csv','Data/33515806_Table4.csv', # 12\n",
    "             'Data/29718670_S12.csv','Data/30767541_S3_Metaproteomics_colon_content.csv', # 14\n",
    "             'Data/34855411_Proteins.csv','Data/29635916_S2_MaxQuant_log2.csv', # 16\n",
    "             'Data/32108472_LiCl_sucrose_peptide_output.csv','Data/34783559.csv','Data/24712744_S4_replicate1.csv', # 19\n",
    "             'Data/32108472_ECF_ProteinGroup.csv','Data/33242424_TableS1_DEG(protein).csv', # 21\n",
    "             'Data/32242669_peptide_water_raw.csv','Data/33337894_TableS3.csv','Data/29718670_S8.csv', # 24\n",
    "             'Data/32242669_protein_PMSI_raw.csv','Data/27535590_TableS-2.csv','Data/32975419_Table_S19.csv', # 27\n",
    "             'Data/29195270_S-9.csv','Data/33242424_TableS1_DEG(Phospho).csv','Data/29195270_S-1.csv', # 30\n",
    "             'Data/30814501.csv','Data/30213844.csv','Data/31682457_TableS4a.csv', # 33\n",
    "             'Data/30371095_TableS4_BAM7_dependent_termini.csv','Data/34673282.csv','Data/35085786_Proteins.csv', # 36\n",
    "             'Data/34780180_S1.csv','Data/32108472_ECF_peptide_output.csv',  # 38\n",
    "             'Data/29718670_S7.csv','Data/24677030.csv','Data/33242952_TableS1_Dataset2_Parkin_colony.csv', # 41\n",
    "             'Data/32181667_TableS2.csv','Data/32878984_normalized.csv','Data/35093608_Table_S5.csv', # 44\n",
    "             'Data/34874173_Table_S1.csv',  # 46\n",
    "             'Data/32108472_Trypsin_shaving_ProteinGroup.csv','Data/26080680_table6_sheet1.csv', # 47\n",
    "             'Data/33594990.csv','Data/32108472_LiCl_sucrose_ProteinGroup.csv','Data/28217993_DataS12_raw.csv', # 50\n",
    "             'Data/30394099_30K_25%.csv','Data/35089061.csv', # 52 \n",
    "             'Data/33175545_TableS2.csv','Data/30371095.csv','Data/30394099_30K_75%.csv','Data/30239205.csv', # 56\n",
    "             'Data/32181667_TableS1.csv','Data/32242669_protein_water_raw.csv','Data/31859514_S1.csv', # 59\n",
    "             'Data/29718670_S10.csv','Data/35091530_TableS5.csv','Data/33508502.csv', # 62\n",
    "             'Data/35166117_TableS5_imputed.csv','Data/24712744_S4_replicate3.csv','Data/30394099_30K_100%.csv', # 65\n",
    "             'Data/29195270_S-7.csv','Data/32975419_Table_S21.csv', # 67 \n",
    "             'Data/29196338.csv','Data/34919406.csv','Data/34515489.csv','Data/31131048.csv', # 71\n",
    "             'Data/35091530_TableS6.csv','Data/32242669_peptide_PMSI_normalized.csv','Data/29718670_S9.csv', # 74\n",
    "             'Data/30767541_S3_Metaproteomics_colon_mucus.csv','Data/26080680_table6_sheet2.csv', # 76\n",
    "             'Data/29195270_S-3.csv','Data/35166117_TableS1_imputed.csv','Data/35091530_TableS3.csv', # 79 \n",
    "             'Data/32975419_Table_S17.csv','Data/28102081_Table_S1.csv','Data/34806897.csv', # 82\n",
    "             'Data/29718670_S11.csv','Data/34783559_B.csv','Data/35166117_TableS3_raw.csv','Data/34742921.csv', # 86\n",
    "             'Data/24712744_S5_replicate2.csv','Data/24712744_S2_Sheet1.csv','Data/32975419_Table_S18.csv', # 89\n",
    "             'Data/29250956_Table_S4.csv','Data/34677046.csv','Data/33242424_TableS1_DEG(RNA).csv', # 92\n",
    "             'Data/32878984_raw.csv','Data/35091530_TableS4.csv', # 94\n",
    "             'Data/32108472_Trypsin_shaving_peptide_output.csv','Data/34647699.csv', # 96\n",
    "             'Data/30371095_TableS3_Proteolysis_in_mitochondrial_pt.csv', # 97\n",
    "             'Data/26151086_TableS1_All_Quantified_Protein.csv','Data/33749263.csv', # 99\n",
    "             'Data/31682457_TableS3a.csv','Data/32975419_Table_S16.csv', # 101 \n",
    "             'Data/27794609_double_digestion.csv','Data/32242669_peptide_PMSI_raw.csv','Data/26080680_table2.csv', # 104\n",
    "             'Data/32242669_peptide_water_normalized.csv','Data/30767541_S3_Metaproteomics_cecum_content.csv', # 106\n",
    "             'Data/30394099_30K_35%.csv','Data/22329341.csv','Data/32378902_TableS3.csv', # 109\n",
    "             'Data/35166117_TableS3_imputed.csv','Data/27794609_single_digestion.csv','Data/34874173_Table_S3.csv', # 112\n",
    "             'Data/26080680_table7.csv','Data/35091530_TableS2.csv','Data/29634277_S2_intensity.csv', # 115\n",
    "             'Data/32975419_Table_S20.csv','Data/35166117_TableS1_raw.csv','Data/33515806_Table3.csv', # 118\n",
    "             'Data/29972301_S6_Protein_Intensities.csv','Data/30394099_60K_25%.csv', # 120 \n",
    "             'Data/24712744_S5_replicate3.csv','Data/29718670_S14.csv','Data/29367434.csv', # 123\n",
    "             'Data/24712744_S4_replicate2.csv','Data/23672200.csv','Data/29121770_Supple.Table2.csv',\n",
    "             'Data/30394099_30K_50%.csv','Data/27025989_S1_raw.csv','Data/29250956_Table_S2.csv',\n",
    "             'Data/33054241.csv','Data/34780180_S2.csv','Data/32242669_protein_PMSI_normalized.csv',\n",
    "             'Data/26080680_table4.csv','Data/24712744_S5_replicate1.csv',\n",
    "             'Data/29250956_Table_S1.csv', 'Data/25728785_N-end_rule_TMT.csv','Data/32338516_TableS2_Sheet1.csv',\n",
    "             'Data/30371095_TableS1_TAILSMT_data.csv', 'Data/33453410.csv']\n",
    "\n",
    "\n",
    "\n",
    "\n",
    "# \"Data/5.csv\",\"Data/28.csv\",\"Data/35.csv\",\"Data/53.csv\",\"Data/66_has_NA_values.csv\"\n",
    "#File 77 has words, no values\n",
    "# Get rid of files 78 and 98\n",
    "#90 looks weird because has raw values with small range"
   ]
  },
  {
   "cell_type": "code",
   "execution_count": 4,
   "metadata": {
    "scrolled": true
   },
   "outputs": [
    {
     "name": "stdout",
     "output_type": "stream",
     "text": [
      "1\n",
      "2\n",
      "3\n",
      "4\n",
      "5\n",
      "6\n",
      "7\n",
      "8\n",
      "9\n",
      "10\n",
      "11\n",
      "12\n",
      "13\n",
      "14\n",
      "15\n",
      "16\n",
      "17\n",
      "18\n",
      "19\n",
      "20\n",
      "21\n",
      "22\n",
      "23\n",
      "24\n",
      "25\n",
      "26\n",
      "27\n",
      "28\n",
      "29\n",
      "30\n",
      "31\n",
      "32\n",
      "33\n",
      "34\n",
      "35\n",
      "36\n",
      "37\n",
      "38\n",
      "39\n",
      "40\n",
      "41\n",
      "42\n",
      "43\n",
      "44\n",
      "45\n",
      "46\n",
      "47\n",
      "48\n",
      "49\n",
      "50\n",
      "51\n",
      "52\n",
      "53\n",
      "54\n",
      "55\n",
      "56\n",
      "57\n",
      "58\n",
      "59\n",
      "60\n",
      "61\n",
      "62\n",
      "63\n",
      "64\n",
      "65\n",
      "66\n",
      "67\n",
      "68\n",
      "69\n",
      "70\n",
      "71\n",
      "72\n",
      "73\n",
      "74\n",
      "75\n",
      "76\n",
      "77\n",
      "78\n",
      "79\n",
      "80\n",
      "81\n",
      "82\n",
      "83\n",
      "84\n",
      "85\n",
      "86\n",
      "87\n",
      "88\n",
      "89\n",
      "90\n",
      "91\n",
      "92\n",
      "93\n",
      "94\n",
      "95\n",
      "96\n",
      "97\n",
      "98\n",
      "99\n",
      "100\n",
      "101\n",
      "102\n"
     ]
    },
    {
     "name": "stderr",
     "output_type": "stream",
     "text": [
      "/var/folders/6z/m5m6vvr549bf0t85w1wjmmgc0000gn/T/ipykernel_37274/700825810.py:32: PerformanceWarning: DataFrame is highly fragmented.  This is usually the result of calling `frame.insert` many times, which has poor performance.  Consider joining all columns at once using pd.concat(axis=1) instead.  To get a de-fragmented frame, use `newframe = frame.copy()`\n",
      "  df2[file] = df1['freq'] / sum(df1['freq']) * 100\n",
      "/var/folders/6z/m5m6vvr549bf0t85w1wjmmgc0000gn/T/ipykernel_37274/700825810.py:32: PerformanceWarning: DataFrame is highly fragmented.  This is usually the result of calling `frame.insert` many times, which has poor performance.  Consider joining all columns at once using pd.concat(axis=1) instead.  To get a de-fragmented frame, use `newframe = frame.copy()`\n",
      "  df2[file] = df1['freq'] / sum(df1['freq']) * 100\n",
      "/var/folders/6z/m5m6vvr549bf0t85w1wjmmgc0000gn/T/ipykernel_37274/700825810.py:32: PerformanceWarning: DataFrame is highly fragmented.  This is usually the result of calling `frame.insert` many times, which has poor performance.  Consider joining all columns at once using pd.concat(axis=1) instead.  To get a de-fragmented frame, use `newframe = frame.copy()`\n",
      "  df2[file] = df1['freq'] / sum(df1['freq']) * 100\n"
     ]
    },
    {
     "name": "stdout",
     "output_type": "stream",
     "text": [
      "103\n",
      "104\n"
     ]
    },
    {
     "name": "stderr",
     "output_type": "stream",
     "text": [
      "/var/folders/6z/m5m6vvr549bf0t85w1wjmmgc0000gn/T/ipykernel_37274/700825810.py:32: PerformanceWarning: DataFrame is highly fragmented.  This is usually the result of calling `frame.insert` many times, which has poor performance.  Consider joining all columns at once using pd.concat(axis=1) instead.  To get a de-fragmented frame, use `newframe = frame.copy()`\n",
      "  df2[file] = df1['freq'] / sum(df1['freq']) * 100\n",
      "/var/folders/6z/m5m6vvr549bf0t85w1wjmmgc0000gn/T/ipykernel_37274/700825810.py:32: PerformanceWarning: DataFrame is highly fragmented.  This is usually the result of calling `frame.insert` many times, which has poor performance.  Consider joining all columns at once using pd.concat(axis=1) instead.  To get a de-fragmented frame, use `newframe = frame.copy()`\n",
      "  df2[file] = df1['freq'] / sum(df1['freq']) * 100\n"
     ]
    },
    {
     "name": "stdout",
     "output_type": "stream",
     "text": [
      "105\n",
      "106\n"
     ]
    },
    {
     "name": "stderr",
     "output_type": "stream",
     "text": [
      "/var/folders/6z/m5m6vvr549bf0t85w1wjmmgc0000gn/T/ipykernel_37274/700825810.py:32: PerformanceWarning: DataFrame is highly fragmented.  This is usually the result of calling `frame.insert` many times, which has poor performance.  Consider joining all columns at once using pd.concat(axis=1) instead.  To get a de-fragmented frame, use `newframe = frame.copy()`\n",
      "  df2[file] = df1['freq'] / sum(df1['freq']) * 100\n",
      "/var/folders/6z/m5m6vvr549bf0t85w1wjmmgc0000gn/T/ipykernel_37274/700825810.py:32: PerformanceWarning: DataFrame is highly fragmented.  This is usually the result of calling `frame.insert` many times, which has poor performance.  Consider joining all columns at once using pd.concat(axis=1) instead.  To get a de-fragmented frame, use `newframe = frame.copy()`\n",
      "  df2[file] = df1['freq'] / sum(df1['freq']) * 100\n"
     ]
    },
    {
     "name": "stdout",
     "output_type": "stream",
     "text": [
      "107\n",
      "108\n"
     ]
    },
    {
     "name": "stderr",
     "output_type": "stream",
     "text": [
      "/var/folders/6z/m5m6vvr549bf0t85w1wjmmgc0000gn/T/ipykernel_37274/700825810.py:32: PerformanceWarning: DataFrame is highly fragmented.  This is usually the result of calling `frame.insert` many times, which has poor performance.  Consider joining all columns at once using pd.concat(axis=1) instead.  To get a de-fragmented frame, use `newframe = frame.copy()`\n",
      "  df2[file] = df1['freq'] / sum(df1['freq']) * 100\n",
      "/var/folders/6z/m5m6vvr549bf0t85w1wjmmgc0000gn/T/ipykernel_37274/700825810.py:32: PerformanceWarning: DataFrame is highly fragmented.  This is usually the result of calling `frame.insert` many times, which has poor performance.  Consider joining all columns at once using pd.concat(axis=1) instead.  To get a de-fragmented frame, use `newframe = frame.copy()`\n",
      "  df2[file] = df1['freq'] / sum(df1['freq']) * 100\n"
     ]
    },
    {
     "name": "stdout",
     "output_type": "stream",
     "text": [
      "109\n",
      "110\n"
     ]
    },
    {
     "name": "stderr",
     "output_type": "stream",
     "text": [
      "/var/folders/6z/m5m6vvr549bf0t85w1wjmmgc0000gn/T/ipykernel_37274/700825810.py:32: PerformanceWarning: DataFrame is highly fragmented.  This is usually the result of calling `frame.insert` many times, which has poor performance.  Consider joining all columns at once using pd.concat(axis=1) instead.  To get a de-fragmented frame, use `newframe = frame.copy()`\n",
      "  df2[file] = df1['freq'] / sum(df1['freq']) * 100\n"
     ]
    },
    {
     "name": "stdout",
     "output_type": "stream",
     "text": [
      "111\n"
     ]
    },
    {
     "name": "stderr",
     "output_type": "stream",
     "text": [
      "/var/folders/6z/m5m6vvr549bf0t85w1wjmmgc0000gn/T/ipykernel_37274/700825810.py:32: PerformanceWarning: DataFrame is highly fragmented.  This is usually the result of calling `frame.insert` many times, which has poor performance.  Consider joining all columns at once using pd.concat(axis=1) instead.  To get a de-fragmented frame, use `newframe = frame.copy()`\n",
      "  df2[file] = df1['freq'] / sum(df1['freq']) * 100\n",
      "/var/folders/6z/m5m6vvr549bf0t85w1wjmmgc0000gn/T/ipykernel_37274/700825810.py:32: PerformanceWarning: DataFrame is highly fragmented.  This is usually the result of calling `frame.insert` many times, which has poor performance.  Consider joining all columns at once using pd.concat(axis=1) instead.  To get a de-fragmented frame, use `newframe = frame.copy()`\n",
      "  df2[file] = df1['freq'] / sum(df1['freq']) * 100\n",
      "/var/folders/6z/m5m6vvr549bf0t85w1wjmmgc0000gn/T/ipykernel_37274/700825810.py:32: PerformanceWarning: DataFrame is highly fragmented.  This is usually the result of calling `frame.insert` many times, which has poor performance.  Consider joining all columns at once using pd.concat(axis=1) instead.  To get a de-fragmented frame, use `newframe = frame.copy()`\n",
      "  df2[file] = df1['freq'] / sum(df1['freq']) * 100\n"
     ]
    },
    {
     "name": "stdout",
     "output_type": "stream",
     "text": [
      "112\n",
      "113\n",
      "114\n"
     ]
    },
    {
     "name": "stderr",
     "output_type": "stream",
     "text": [
      "/var/folders/6z/m5m6vvr549bf0t85w1wjmmgc0000gn/T/ipykernel_37274/700825810.py:32: PerformanceWarning: DataFrame is highly fragmented.  This is usually the result of calling `frame.insert` many times, which has poor performance.  Consider joining all columns at once using pd.concat(axis=1) instead.  To get a de-fragmented frame, use `newframe = frame.copy()`\n",
      "  df2[file] = df1['freq'] / sum(df1['freq']) * 100\n",
      "/var/folders/6z/m5m6vvr549bf0t85w1wjmmgc0000gn/T/ipykernel_37274/700825810.py:32: PerformanceWarning: DataFrame is highly fragmented.  This is usually the result of calling `frame.insert` many times, which has poor performance.  Consider joining all columns at once using pd.concat(axis=1) instead.  To get a de-fragmented frame, use `newframe = frame.copy()`\n",
      "  df2[file] = df1['freq'] / sum(df1['freq']) * 100\n"
     ]
    },
    {
     "name": "stdout",
     "output_type": "stream",
     "text": [
      "115\n",
      "116\n"
     ]
    },
    {
     "name": "stderr",
     "output_type": "stream",
     "text": [
      "/var/folders/6z/m5m6vvr549bf0t85w1wjmmgc0000gn/T/ipykernel_37274/700825810.py:32: PerformanceWarning: DataFrame is highly fragmented.  This is usually the result of calling `frame.insert` many times, which has poor performance.  Consider joining all columns at once using pd.concat(axis=1) instead.  To get a de-fragmented frame, use `newframe = frame.copy()`\n",
      "  df2[file] = df1['freq'] / sum(df1['freq']) * 100\n",
      "/var/folders/6z/m5m6vvr549bf0t85w1wjmmgc0000gn/T/ipykernel_37274/700825810.py:32: PerformanceWarning: DataFrame is highly fragmented.  This is usually the result of calling `frame.insert` many times, which has poor performance.  Consider joining all columns at once using pd.concat(axis=1) instead.  To get a de-fragmented frame, use `newframe = frame.copy()`\n",
      "  df2[file] = df1['freq'] / sum(df1['freq']) * 100\n"
     ]
    },
    {
     "name": "stdout",
     "output_type": "stream",
     "text": [
      "117\n",
      "118\n"
     ]
    },
    {
     "name": "stderr",
     "output_type": "stream",
     "text": [
      "/var/folders/6z/m5m6vvr549bf0t85w1wjmmgc0000gn/T/ipykernel_37274/700825810.py:32: PerformanceWarning: DataFrame is highly fragmented.  This is usually the result of calling `frame.insert` many times, which has poor performance.  Consider joining all columns at once using pd.concat(axis=1) instead.  To get a de-fragmented frame, use `newframe = frame.copy()`\n",
      "  df2[file] = df1['freq'] / sum(df1['freq']) * 100\n",
      "/var/folders/6z/m5m6vvr549bf0t85w1wjmmgc0000gn/T/ipykernel_37274/700825810.py:32: PerformanceWarning: DataFrame is highly fragmented.  This is usually the result of calling `frame.insert` many times, which has poor performance.  Consider joining all columns at once using pd.concat(axis=1) instead.  To get a de-fragmented frame, use `newframe = frame.copy()`\n",
      "  df2[file] = df1['freq'] / sum(df1['freq']) * 100\n"
     ]
    },
    {
     "name": "stdout",
     "output_type": "stream",
     "text": [
      "119\n",
      "120\n"
     ]
    },
    {
     "name": "stderr",
     "output_type": "stream",
     "text": [
      "/var/folders/6z/m5m6vvr549bf0t85w1wjmmgc0000gn/T/ipykernel_37274/700825810.py:32: PerformanceWarning: DataFrame is highly fragmented.  This is usually the result of calling `frame.insert` many times, which has poor performance.  Consider joining all columns at once using pd.concat(axis=1) instead.  To get a de-fragmented frame, use `newframe = frame.copy()`\n",
      "  df2[file] = df1['freq'] / sum(df1['freq']) * 100\n",
      "/var/folders/6z/m5m6vvr549bf0t85w1wjmmgc0000gn/T/ipykernel_37274/700825810.py:32: PerformanceWarning: DataFrame is highly fragmented.  This is usually the result of calling `frame.insert` many times, which has poor performance.  Consider joining all columns at once using pd.concat(axis=1) instead.  To get a de-fragmented frame, use `newframe = frame.copy()`\n",
      "  df2[file] = df1['freq'] / sum(df1['freq']) * 100\n"
     ]
    },
    {
     "name": "stdout",
     "output_type": "stream",
     "text": [
      "121\n",
      "122\n"
     ]
    },
    {
     "name": "stderr",
     "output_type": "stream",
     "text": [
      "/var/folders/6z/m5m6vvr549bf0t85w1wjmmgc0000gn/T/ipykernel_37274/700825810.py:32: PerformanceWarning: DataFrame is highly fragmented.  This is usually the result of calling `frame.insert` many times, which has poor performance.  Consider joining all columns at once using pd.concat(axis=1) instead.  To get a de-fragmented frame, use `newframe = frame.copy()`\n",
      "  df2[file] = df1['freq'] / sum(df1['freq']) * 100\n"
     ]
    },
    {
     "name": "stdout",
     "output_type": "stream",
     "text": [
      "123\n"
     ]
    },
    {
     "name": "stderr",
     "output_type": "stream",
     "text": [
      "/var/folders/6z/m5m6vvr549bf0t85w1wjmmgc0000gn/T/ipykernel_37274/700825810.py:32: PerformanceWarning: DataFrame is highly fragmented.  This is usually the result of calling `frame.insert` many times, which has poor performance.  Consider joining all columns at once using pd.concat(axis=1) instead.  To get a de-fragmented frame, use `newframe = frame.copy()`\n",
      "  df2[file] = df1['freq'] / sum(df1['freq']) * 100\n",
      "/var/folders/6z/m5m6vvr549bf0t85w1wjmmgc0000gn/T/ipykernel_37274/700825810.py:32: PerformanceWarning: DataFrame is highly fragmented.  This is usually the result of calling `frame.insert` many times, which has poor performance.  Consider joining all columns at once using pd.concat(axis=1) instead.  To get a de-fragmented frame, use `newframe = frame.copy()`\n",
      "  df2[file] = df1['freq'] / sum(df1['freq']) * 100\n",
      "/var/folders/6z/m5m6vvr549bf0t85w1wjmmgc0000gn/T/ipykernel_37274/700825810.py:32: PerformanceWarning: DataFrame is highly fragmented.  This is usually the result of calling `frame.insert` many times, which has poor performance.  Consider joining all columns at once using pd.concat(axis=1) instead.  To get a de-fragmented frame, use `newframe = frame.copy()`\n",
      "  df2[file] = df1['freq'] / sum(df1['freq']) * 100\n",
      "/var/folders/6z/m5m6vvr549bf0t85w1wjmmgc0000gn/T/ipykernel_37274/700825810.py:32: PerformanceWarning: DataFrame is highly fragmented.  This is usually the result of calling `frame.insert` many times, which has poor performance.  Consider joining all columns at once using pd.concat(axis=1) instead.  To get a de-fragmented frame, use `newframe = frame.copy()`\n",
      "  df2[file] = df1['freq'] / sum(df1['freq']) * 100\n"
     ]
    },
    {
     "name": "stdout",
     "output_type": "stream",
     "text": [
      "124\n",
      "125\n",
      "126\n",
      "127\n"
     ]
    },
    {
     "name": "stderr",
     "output_type": "stream",
     "text": [
      "/var/folders/6z/m5m6vvr549bf0t85w1wjmmgc0000gn/T/ipykernel_37274/700825810.py:32: PerformanceWarning: DataFrame is highly fragmented.  This is usually the result of calling `frame.insert` many times, which has poor performance.  Consider joining all columns at once using pd.concat(axis=1) instead.  To get a de-fragmented frame, use `newframe = frame.copy()`\n",
      "  df2[file] = df1['freq'] / sum(df1['freq']) * 100\n",
      "/var/folders/6z/m5m6vvr549bf0t85w1wjmmgc0000gn/T/ipykernel_37274/700825810.py:32: PerformanceWarning: DataFrame is highly fragmented.  This is usually the result of calling `frame.insert` many times, which has poor performance.  Consider joining all columns at once using pd.concat(axis=1) instead.  To get a de-fragmented frame, use `newframe = frame.copy()`\n",
      "  df2[file] = df1['freq'] / sum(df1['freq']) * 100\n",
      "/var/folders/6z/m5m6vvr549bf0t85w1wjmmgc0000gn/T/ipykernel_37274/700825810.py:32: PerformanceWarning: DataFrame is highly fragmented.  This is usually the result of calling `frame.insert` many times, which has poor performance.  Consider joining all columns at once using pd.concat(axis=1) instead.  To get a de-fragmented frame, use `newframe = frame.copy()`\n",
      "  df2[file] = df1['freq'] / sum(df1['freq']) * 100\n"
     ]
    },
    {
     "name": "stdout",
     "output_type": "stream",
     "text": [
      "128\n",
      "129\n",
      "130\n"
     ]
    },
    {
     "name": "stderr",
     "output_type": "stream",
     "text": [
      "/var/folders/6z/m5m6vvr549bf0t85w1wjmmgc0000gn/T/ipykernel_37274/700825810.py:32: PerformanceWarning: DataFrame is highly fragmented.  This is usually the result of calling `frame.insert` many times, which has poor performance.  Consider joining all columns at once using pd.concat(axis=1) instead.  To get a de-fragmented frame, use `newframe = frame.copy()`\n",
      "  df2[file] = df1['freq'] / sum(df1['freq']) * 100\n",
      "/var/folders/6z/m5m6vvr549bf0t85w1wjmmgc0000gn/T/ipykernel_37274/700825810.py:32: PerformanceWarning: DataFrame is highly fragmented.  This is usually the result of calling `frame.insert` many times, which has poor performance.  Consider joining all columns at once using pd.concat(axis=1) instead.  To get a de-fragmented frame, use `newframe = frame.copy()`\n",
      "  df2[file] = df1['freq'] / sum(df1['freq']) * 100\n"
     ]
    },
    {
     "name": "stdout",
     "output_type": "stream",
     "text": [
      "131\n",
      "132\n"
     ]
    },
    {
     "name": "stderr",
     "output_type": "stream",
     "text": [
      "/var/folders/6z/m5m6vvr549bf0t85w1wjmmgc0000gn/T/ipykernel_37274/700825810.py:32: PerformanceWarning: DataFrame is highly fragmented.  This is usually the result of calling `frame.insert` many times, which has poor performance.  Consider joining all columns at once using pd.concat(axis=1) instead.  To get a de-fragmented frame, use `newframe = frame.copy()`\n",
      "  df2[file] = df1['freq'] / sum(df1['freq']) * 100\n"
     ]
    },
    {
     "name": "stdout",
     "output_type": "stream",
     "text": [
      "133\n"
     ]
    },
    {
     "name": "stderr",
     "output_type": "stream",
     "text": [
      "/var/folders/6z/m5m6vvr549bf0t85w1wjmmgc0000gn/T/ipykernel_37274/700825810.py:32: PerformanceWarning: DataFrame is highly fragmented.  This is usually the result of calling `frame.insert` many times, which has poor performance.  Consider joining all columns at once using pd.concat(axis=1) instead.  To get a de-fragmented frame, use `newframe = frame.copy()`\n",
      "  df2[file] = df1['freq'] / sum(df1['freq']) * 100\n",
      "/var/folders/6z/m5m6vvr549bf0t85w1wjmmgc0000gn/T/ipykernel_37274/700825810.py:32: PerformanceWarning: DataFrame is highly fragmented.  This is usually the result of calling `frame.insert` many times, which has poor performance.  Consider joining all columns at once using pd.concat(axis=1) instead.  To get a de-fragmented frame, use `newframe = frame.copy()`\n",
      "  df2[file] = df1['freq'] / sum(df1['freq']) * 100\n",
      "/var/folders/6z/m5m6vvr549bf0t85w1wjmmgc0000gn/T/ipykernel_37274/700825810.py:32: PerformanceWarning: DataFrame is highly fragmented.  This is usually the result of calling `frame.insert` many times, which has poor performance.  Consider joining all columns at once using pd.concat(axis=1) instead.  To get a de-fragmented frame, use `newframe = frame.copy()`\n",
      "  df2[file] = df1['freq'] / sum(df1['freq']) * 100\n"
     ]
    },
    {
     "name": "stdout",
     "output_type": "stream",
     "text": [
      "134\n",
      "135\n",
      "136\n"
     ]
    },
    {
     "name": "stderr",
     "output_type": "stream",
     "text": [
      "/var/folders/6z/m5m6vvr549bf0t85w1wjmmgc0000gn/T/ipykernel_37274/700825810.py:32: PerformanceWarning: DataFrame is highly fragmented.  This is usually the result of calling `frame.insert` many times, which has poor performance.  Consider joining all columns at once using pd.concat(axis=1) instead.  To get a de-fragmented frame, use `newframe = frame.copy()`\n",
      "  df2[file] = df1['freq'] / sum(df1['freq']) * 100\n"
     ]
    },
    {
     "name": "stdout",
     "output_type": "stream",
     "text": [
      "137\n"
     ]
    },
    {
     "name": "stderr",
     "output_type": "stream",
     "text": [
      "/var/folders/6z/m5m6vvr549bf0t85w1wjmmgc0000gn/T/ipykernel_37274/700825810.py:32: PerformanceWarning: DataFrame is highly fragmented.  This is usually the result of calling `frame.insert` many times, which has poor performance.  Consider joining all columns at once using pd.concat(axis=1) instead.  To get a de-fragmented frame, use `newframe = frame.copy()`\n",
      "  df2[file] = df1['freq'] / sum(df1['freq']) * 100\n",
      "/var/folders/6z/m5m6vvr549bf0t85w1wjmmgc0000gn/T/ipykernel_37274/700825810.py:32: PerformanceWarning: DataFrame is highly fragmented.  This is usually the result of calling `frame.insert` many times, which has poor performance.  Consider joining all columns at once using pd.concat(axis=1) instead.  To get a de-fragmented frame, use `newframe = frame.copy()`\n",
      "  df2[file] = df1['freq'] / sum(df1['freq']) * 100\n"
     ]
    },
    {
     "name": "stdout",
     "output_type": "stream",
     "text": [
      "138\n",
      "139\n"
     ]
    },
    {
     "name": "stderr",
     "output_type": "stream",
     "text": [
      "/var/folders/6z/m5m6vvr549bf0t85w1wjmmgc0000gn/T/ipykernel_37274/700825810.py:32: PerformanceWarning: DataFrame is highly fragmented.  This is usually the result of calling `frame.insert` many times, which has poor performance.  Consider joining all columns at once using pd.concat(axis=1) instead.  To get a de-fragmented frame, use `newframe = frame.copy()`\n",
      "  df2[file] = df1['freq'] / sum(df1['freq']) * 100\n"
     ]
    }
   ],
   "source": [
    "df2 = pd.DataFrame(index=range(0, 10))\n",
    "\n",
    "i = 1\n",
    "for file in all_files:\n",
    "    print(i)\n",
    "    i += 1\n",
    "    data = pd.read_csv(file, na_values=['-', 'ND'], header=[0])\n",
    "    last_digits = [] #\n",
    "    last_digit_dict = {}\n",
    "    last_digit_freq = {}\n",
    "\n",
    "    for column in data:\n",
    "        nums = data[column]\n",
    "        last_digit = [first_after_decimal(num) for num in nums]\n",
    "        #last_digit = [first_digit(num) for num in nums]\n",
    "        last_digits += last_digit\n",
    "        last_digit_dict[column] = last_digit\n",
    "\n",
    "    df1 = get_frequencies(last_digits)\n",
    "\n",
    "\n",
    "    for key in last_digit_dict.keys():\n",
    "        frequencies = get_frequencies(last_digit_dict[key])\n",
    "        frequencies['Percentage'] = frequencies['freq'] / sum(frequencies['freq']) * 100\n",
    "        last_digit_freq[key] = frequencies\n",
    "        message = (f\"{key}\"\n",
    "        f\"{frequencies}\"\n",
    "        f\"\")\n",
    "        #print(message)\n",
    "        \n",
    "    df1['Percentage'] = df1['freq'] / sum(df1['freq']) * 100\n",
    "    df2[file] = df1['freq'] / sum(df1['freq']) * 100\n",
    "\n",
    "#         df1.columns = ['Element', 'Frequency']\n",
    "#     df1['Percentage'] = df1['Frequency'] / sum(df1['Frequency']) * 100\n",
    "#     if first:\n",
    "#         df2 = df1[['Element', 'Percentage']].copy()\n",
    "#         df2.rename(columns={'Percentage': file}, inplace=True)\n",
    "#         first = False\n",
    "#     else:\n",
    "#         df2[file] = df1['Frequency'] / sum(df1['Frequency']) * 100"
   ]
  },
  {
   "cell_type": "code",
   "execution_count": 5,
   "metadata": {},
   "outputs": [
    {
     "name": "stdout",
     "output_type": "stream",
     "text": [
      "   Data/35166117_TableS7.csv  Data/35166117_TableS5_raw.csv  \\\n",
      "1                   1.118800                       0.000000   \n",
      "2                  95.720877                      87.868284   \n",
      "3                   3.160323                      12.131716   \n",
      "4                   0.000000                       0.000000   \n",
      "5                   0.000000                       0.000000   \n",
      "6                   0.000000                       0.000000   \n",
      "7                   0.000000                       0.000000   \n",
      "8                   0.000000                       0.000000   \n",
      "9                   0.000000                       0.000000   \n",
      "\n",
      "   Data/32543193_TableS3.csv  Data/30371095_TableS5_STS_dependent_termini.csv  \\\n",
      "1                  29.994275                                        33.166667   \n",
      "2                  18.012845                                        16.083333   \n",
      "3                  12.646022                                        11.000000   \n",
      "4                   9.585145                                         7.666667   \n",
      "5                   7.887440                                         7.333333   \n",
      "6                   6.556468                                         5.250000   \n",
      "7                   5.717455                                         6.166667   \n",
      "8                   5.139627                                         6.500000   \n",
      "9                   4.460724                                         6.833333   \n",
      "\n",
      "   Data/30371095_TableS2_TAILSMT_BAM7vsSTSvsDMSO.csv  \\\n",
      "1                                          31.531445   \n",
      "2                                          18.732597   \n",
      "3                                          12.280365   \n",
      "4                                           9.073452   \n",
      "5                                           7.431589   \n",
      "6                                           6.356217   \n",
      "7                                           5.290446   \n",
      "8                                           4.954393   \n",
      "9                                           4.349496   \n",
      "\n",
      "   Data/32242669_protein_water_normalized.csv  \\\n",
      "1                                   30.165227   \n",
      "2                                   17.174473   \n",
      "3                                   12.672427   \n",
      "4                                   10.550250   \n",
      "5                                    7.639836   \n",
      "6                                    6.806124   \n",
      "7                                    5.866303   \n",
      "8                                    4.638472   \n",
      "9                                    4.486888   \n",
      "\n",
      "   Data/30371095_UnnamedTable_MTS_N-termini_identified.csv  \\\n",
      "1                                          34.905660         \n",
      "2                                          20.518868         \n",
      "3                                          10.613208         \n",
      "4                                           8.254717         \n",
      "5                                           5.660377         \n",
      "6                                           5.896226         \n",
      "7                                           6.132075         \n",
      "8                                           3.773585         \n",
      "9                                           4.245283         \n",
      "\n",
      "   Data/33175545_TableS3.csv  \\\n",
      "1                  30.002185   \n",
      "2                  17.350952   \n",
      "3                  12.715061   \n",
      "4                  10.211381   \n",
      "5                   7.953239   \n",
      "6                   6.681847   \n",
      "7                   5.658294   \n",
      "8                   4.972284   \n",
      "9                   4.454757   \n",
      "\n",
      "   Data/32519869_TableS1_Whole_Tissue_Proteome_Matrix.csv  \\\n",
      "1                                          30.072657        \n",
      "2                                          17.649243        \n",
      "3                                          12.589274        \n",
      "4                                           9.488681        \n",
      "5                                           7.956332        \n",
      "6                                           6.758179        \n",
      "7                                           5.735787        \n",
      "8                                           5.189935        \n",
      "9                                           4.559914        \n",
      "\n",
      "   Data/28217993_DataS12_normalized.csv  ...  Data/33054241.csv  \\\n",
      "1                             29.165363  ...          30.814731   \n",
      "2                             17.586123  ...          18.831952   \n",
      "3                             13.025342  ...          13.021736   \n",
      "4                             10.164425  ...           9.398705   \n",
      "5                              8.123892  ...           7.465052   \n",
      "6                              6.952411  ...           6.243001   \n",
      "7                              5.760072  ...           5.335663   \n",
      "8                              4.877116  ...           4.664698   \n",
      "9                              4.345257  ...           4.224462   \n",
      "\n",
      "   Data/34780180_S2.csv  Data/32242669_protein_PMSI_normalized.csv  \\\n",
      "1             29.828836                                  30.165227   \n",
      "2             17.452583                                  17.174473   \n",
      "3             12.820355                                  12.672427   \n",
      "4              9.770239                                  10.550250   \n",
      "5              8.144950                                   7.639836   \n",
      "6              6.473400                                   6.806124   \n",
      "7              5.884348                                   5.866303   \n",
      "8              5.017733                                   4.638472   \n",
      "9              4.607556                                   4.486888   \n",
      "\n",
      "   Data/26080680_table4.csv  Data/24712744_S5_replicate1.csv  \\\n",
      "1                 29.832298                        29.826557   \n",
      "2                 17.844355                        17.780305   \n",
      "3                 12.475472                        12.842385   \n",
      "4                  9.681792                        10.245474   \n",
      "5                  8.003763                         7.733864   \n",
      "6                  6.762689                         6.814520   \n",
      "7                  5.828091                         5.468676   \n",
      "8                  5.053304                         4.786276   \n",
      "9                  4.518237                         4.501943   \n",
      "\n",
      "   Data/29250956_Table_S1.csv  Data/25728785_N-end_rule_TMT.csv  \\\n",
      "1                   31.404073                         50.089098   \n",
      "2                   17.684887                          0.091798   \n",
      "3                   12.285638                          0.062098   \n",
      "4                    8.239550                          0.156596   \n",
      "5                    7.931404                          0.283493   \n",
      "6                    6.698821                          0.634484   \n",
      "7                    5.908360                          1.987148   \n",
      "8                    5.198285                          8.618176   \n",
      "9                    4.648982                         38.077110   \n",
      "\n",
      "   Data/32338516_TableS2_Sheet1.csv  Data/30371095_TableS1_TAILSMT_data.csv  \\\n",
      "1                         31.228648                               35.407693   \n",
      "2                         17.886204                               20.065350   \n",
      "3                         12.319088                               11.287688   \n",
      "4                          9.373253                                8.079608   \n",
      "5                          7.542394                                6.178524   \n",
      "6                          6.275234                                4.648745   \n",
      "7                          5.688242                                4.723006   \n",
      "8                          5.039133                                4.856676   \n",
      "9                          4.647804                                4.752711   \n",
      "\n",
      "   Data/33453410.csv  \n",
      "1          35.863611  \n",
      "2          62.372110  \n",
      "3           1.764279  \n",
      "4           0.000000  \n",
      "5           0.000000  \n",
      "6           0.000000  \n",
      "7           0.000000  \n",
      "8           0.000000  \n",
      "9           0.000000  \n",
      "\n",
      "[9 rows x 139 columns]\n"
     ]
    }
   ],
   "source": [
    "# df2 = df2.set_index('Element')\n",
    "df2 = df2.drop([0])\n",
    "df2.to_csv('Data/first_digit.csv')\n",
    "print(df2)"
   ]
  },
  {
   "cell_type": "code",
   "execution_count": 6,
   "metadata": {},
   "outputs": [
    {
     "name": "stdout",
     "output_type": "stream",
     "text": [
      "                        level_0  Digit  Frequency (percentage)\n",
      "0     Data/35166117_TableS7.csv      1                1.118800\n",
      "1     Data/35166117_TableS7.csv      2               95.720877\n",
      "2     Data/35166117_TableS7.csv      3                3.160323\n",
      "3     Data/35166117_TableS7.csv      4                0.000000\n",
      "4     Data/35166117_TableS7.csv      5                0.000000\n",
      "...                         ...    ...                     ...\n",
      "1246          Data/33453410.csv      5                0.000000\n",
      "1247          Data/33453410.csv      6                0.000000\n",
      "1248          Data/33453410.csv      7                0.000000\n",
      "1249          Data/33453410.csv      8                0.000000\n",
      "1250          Data/33453410.csv      9                0.000000\n",
      "\n",
      "[1251 rows x 3 columns]\n"
     ]
    }
   ],
   "source": [
    "df4 = pd.DataFrame(df2).T.stack().reset_index()#.drop(columns=['level_1'])\n",
    "df4 = df4.rename(columns={0: \"Frequency (percentage)\", \"level_1\": \"Digit\"})\n",
    "print(df4)"
   ]
  },
  {
   "cell_type": "code",
   "execution_count": 7,
   "metadata": {},
   "outputs": [
    {
     "data": {
      "text/plain": [
       "[Text(0.5, 1.0, 'Digit frequency of first significant digit')]"
      ]
     },
     "execution_count": 7,
     "metadata": {},
     "output_type": "execute_result"
    },
    {
     "data": {
      "image/png": "[encoded data removed]",
      "text/plain": [
       "<Figure size 432x288 with 1 Axes>"
      ]
     },
     "metadata": {
      "needs_background": "light"
     },
     "output_type": "display_data"
    }
   ],
   "source": [
    "#plt.boxplot(df2, sym=\"k.\", medianprops=dict(color=\"black\"))\n",
    "#  plt.xticks([0,1,2,3,4,5,6,7,8,9])\n",
    "#  plt.ylim(-1, 60)\n",
    "#plt.ylabel(\"Frequency (percentage)\")\n",
    "#plt.xlabel(\"Digit\")\n",
    "#plt.title(\"Digit frequency of first significant digit\")\n",
    "#  plt.savefig('Data/fig1a', dpi=300)\n",
    "#plt.show()\n",
    "\n",
    "ax = sns.boxplot(x = 'Digit', y = 'Frequency (percentage)', data = df4, color = 'white', showfliers = False)\n",
    "sns.stripplot(x = 'Digit', y = 'Frequency (percentage)', data = df4, color = 'black', jitter=True)\n",
    "plt.setp(ax.artists, edgecolor = 'k', facecolor='w')\n",
    "plt.setp(ax.lines, color='k')\n",
    "ax.set_xlabel(\"Digit\")\n",
    "ax.set_ylabel(\"Frequency (%)\")\n",
    "ax.set(ylim=(-3, 103))\n",
    "ax.set(title='Digit frequency of first significant digit')\n",
    "#plt.savefig('Data/Revised_Fig2a.png', dpi = 300)"
   ]
  },
  {
   "cell_type": "code",
   "execution_count": 8,
   "metadata": {},
   "outputs": [
    {
     "data": {
      "text/plain": [
       "<AxesSubplot:xlabel='Digit', ylabel='Frequency (percentage)'>"
      ]
     },
     "execution_count": 8,
     "metadata": {},
     "output_type": "execute_result"
    },
    {
     "data": {
      "image/png": "[encoded data removed]",
      "text/plain": [
       "<Figure size 432x288 with 1 Axes>"
      ]
     },
     "metadata": {
      "needs_background": "light"
     },
     "output_type": "display_data"
    }
   ],
   "source": [
    "import seaborn as sns\n",
    "sns.stripplot(x = 'Digit', y = 'Frequency (percentage)', data = df4, jitter=True)\n",
    "# sns.stripplot(x = 'Element', y = 0, data = df5, jitter=True, color = 'blue')\n",
    "# sns.despine()"
   ]
  }
 ],
 "metadata": {
  "kernelspec": {
   "display_name": "Python 3 (ipykernel)",
   "language": "python",
   "name": "python3"
  },
  "language_info": {
   "codemirror_mode": {
    "name": "ipython",
    "version": 3
   },
   "file_extension": ".py",
   "mimetype": "text/x-python",
   "name": "python",
   "nbconvert_exporter": "python",
   "pygments_lexer": "ipython3",
   "version": "3.9.7"
  }
 },
 "nbformat": 4,
 "nbformat_minor": 4
}
