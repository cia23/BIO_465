{
 "cells": [
  {
   "cell_type": "code",
   "execution_count": 1,
   "metadata": {},
   "outputs": [],
   "source": [
    "import pandas as pd\n",
    "import numpy as np\n",
    "from matplotlib.lines import Line2D\n",
    "import matplotlib.pyplot as plt\n",
    "\n",
    "# returns a dataframe with the frequency of digits 0-9 from given list of nums\n",
    "def get_frequencies(nums):\n",
    "    freqs_list = [0, 0, 0, 0, 0, 0, 0, 0, 0, 0]\n",
    "    for num in nums:\n",
    "        if not pd.isna(num):\n",
    "            freqs_list[num] += 1\n",
    "    freqs_df = pd.DataFrame(freqs_list, index=range(0, 10), columns=['freq'])\n",
    "\n",
    "    return freqs_df\n",
    "\n",
    "#returns the first digit after the decimal point\n",
    "def first_after_decimal(num):\n",
    "    if pd.isna(num):\n",
    "        return\n",
    "    if num == 0:\n",
    "        return\n",
    "    else:\n",
    "        num = int(num)\n",
    "        return(first_digit(abs(num)))\n",
    "#     return(first_digit(abs(num)))\n",
    "#     return int((abs(float(num)) * 10) % 10)"
   ]
  },
  {
   "cell_type": "code",
   "execution_count": 2,
   "metadata": {},
   "outputs": [],
   "source": [
    "def first_digit(num):\n",
    "    if pd.isna(num):\n",
    "        return\n",
    "    v = str(num)[-1]\n",
    "    if v == '.':\n",
    "        return\n",
    "#     print(int(str(num)))\n",
    "    return int(str(num)[-1])"
   ]
  },
  {
   "cell_type": "code",
   "execution_count": 3,
   "metadata": {},
   "outputs": [],
   "source": [
    "all_files = [\"Data/Drivingdata_cols.csv\"] # \"Data/5.csv\",\"Data/28.csv\",\"Data/35.csv\",\"Data/53.csv\",\n",
    "\n",
    "#  \"Data/71.csv\", \"Data/1.csv\", \"Data/14.csv\", \"Data/19_SHORT.csv\", \"Data/22.csv\",\n",
    "#             \"Data/25.csv\", \"Data/32_LETTER.csv\", \"Data/34.csv\", \"Data/36.csv\",\n",
    "#             \"Data/42.csv\", \"Data/43.csv\", \"Data/47.csv\", \"Data/48.csv\", \"Data/49.csv\", \"Data/50.csv\",\n",
    "#             \"Data/51.csv\", \"Data/54.csv\", \"Data/56.csv\", \"Data/59.csv\",\n",
    "#             \"Data/63.csv\", \"Data/67.csv\", \"Data/68.csv\",\n",
    "#             \"Data/70.csv\", \"Data/72.csv\", \"Data/76.csv\", \"Data/79.csv\",\n",
    "#             \"Data/80.csv\", \"Data/82.csv\", \"Data/91.csv\""
   ]
  },
  {
   "cell_type": "code",
   "execution_count": 4,
   "metadata": {},
   "outputs": [
    {
     "name": "stdout",
     "output_type": "stream",
     "text": [
      "1\n",
      "   Odom Reading 1 (Previous)  Odom Reading 1 (Update)  \\\n",
      "0                  23.274250                10.401839   \n",
      "1                   8.189365                10.068209   \n",
      "2                   8.578266                 9.934757   \n",
      "3                   8.660534                10.038553   \n",
      "4                   8.466083                 9.793891   \n",
      "5                   9.251365                10.149763   \n",
      "6                   8.593224                 9.801305   \n",
      "7                   8.458604                 9.838375   \n",
      "8                   8.159450                 9.823547   \n",
      "9                   8.368858                10.149763   \n",
      "\n",
      "   Odom Reading 2 (Previous)  Odom Reading 2 (Update)  \\\n",
      "0                  25.258651                 9.913259   \n",
      "1                   8.508741                 9.665428   \n",
      "2                   8.044952                10.054877   \n",
      "3                   8.401712                10.603647   \n",
      "4                   8.490903                10.426624   \n",
      "5                   8.134142                 9.860152   \n",
      "6                   7.920086                10.054877   \n",
      "7                   8.169818                10.285006   \n",
      "8                   8.651445                 9.399894   \n",
      "9                   8.419550                 9.736237   \n",
      "\n",
      "   Odom Reading 3 (Previous)  Odom Reading 3 (Update)  \\\n",
      "0                  23.180380                10.884886   \n",
      "1                   7.199367                10.571652   \n",
      "2                   8.069620                 7.830854   \n",
      "3                   8.227848                11.041504   \n",
      "4                  10.601266                11.746280   \n",
      "5                   7.990506                 9.083790   \n",
      "6                   9.572785                 9.788567   \n",
      "7                   9.177215                 9.631950   \n",
      "8                   7.594937                10.649961   \n",
      "9                   8.386076                 8.770556   \n",
      "\n",
      "   Odom Reading 4 (Previous)  Odom Reading 4 (Update)  \n",
      "0                  25.538462                12.844037  \n",
      "1                   7.692308                12.232416  \n",
      "2                   8.923077                10.703364  \n",
      "3                   9.230769                11.314985  \n",
      "4                  10.461538                11.009174  \n",
      "5                   9.538462                 7.951070  \n",
      "6                   6.153846                 7.033639  \n",
      "7                   9.846154                11.620795  \n",
      "8                   5.230769                 8.256881  \n",
      "9                   7.384615                 7.033639  \n",
      "['Previous', 'Update', 'Previous', 'Update', 'Previous', 'Update', 'Previous', 'Update']\n",
      "   Data/Drivingdata_cols.csv\n",
      "0                  17.062483\n",
      "1                   9.119520\n",
      "2                   9.131624\n",
      "3                   9.426974\n",
      "4                   9.373714\n",
      "5                   9.424553\n",
      "6                   9.131624\n",
      "7                   9.213935\n",
      "8                   8.976687\n",
      "9                   9.138887\n"
     ]
    }
   ],
   "source": [
    "df2 = pd.DataFrame(index=range(0, 10))\n",
    "\n",
    "i = 1\n",
    "std_devs = {}\n",
    "\n",
    "for file in all_files:\n",
    "    print(i)\n",
    "    i += 1\n",
    "    data = pd.read_csv(file, na_values=['-', 'ND'], header=[0])\n",
    "    last_digits = [] #\n",
    "    last_digit_dict = {}\n",
    "    last_digit_freq = {}\n",
    "\n",
    "    for column in data:\n",
    "        nums = data[column]\n",
    "        last_digit = [first_after_decimal(num) for num in nums]\n",
    "        #last_digit = [first_digit(num) for num in nums]\n",
    "        last_digits += last_digit\n",
    "        last_digit_dict[column] = last_digit\n",
    "        \n",
    "\n",
    "    df1 = get_frequencies(last_digits)\n",
    "    \n",
    "    column_data = {}\n",
    "    keys = []\n",
    "    tags = []\n",
    "\n",
    "    for key in last_digit_dict.keys():\n",
    "        frequencies = get_frequencies(last_digit_dict[key])\n",
    "        frequencies['Percentage'] = frequencies['freq'] / sum(frequencies['freq']) * 100\n",
    "        last_digit_freq[key] = frequencies\n",
    "\n",
    "        message = (f\"{key}\"\n",
    "        f\"{frequencies}\"\n",
    "        f\"\")\n",
    "        #print(message)\n",
    "        \n",
    "        column_data[key] = frequencies['Percentage']\n",
    "        keys.append(key)\n",
    "        \n",
    "        prevTag = \"Previous\"\n",
    "        updateTag = \"Update\"\n",
    "        \n",
    "        if prevTag in key:\n",
    "            tags.append(prevTag)\n",
    "            \n",
    "        elif updateTag in key:\n",
    "            tags.append(updateTag)\n",
    " \n",
    "    \n",
    "    df5 = pd.DataFrame(column_data)\n",
    "    #df5['Average'] = df1['freq'] / sum(df1['freq']) * 100\n",
    "    print(df5)\n",
    "#     df5 = df5.drop([0])\n",
    "    \n",
    "    std_devs[file] = df5.std(axis = 1)\n",
    "    print(tags)\n",
    "    \n",
    "# print(std_devs)\n",
    "# df7 = pd.DataFrame(std_devs)\n",
    "# print(df7)\n",
    "        \n",
    "    df1['Percentage'] = df1['freq'] / sum(df1['freq']) * 100\n",
    "    df2[file] = df1['freq'] / sum(df1['freq']) * 100\n",
    "    print(df2)\n",
    "\n",
    "\n",
    "#         df1.columns = ['Element', 'Frequency']\n",
    "#     df1['Percentage'] = df1['Frequency'] / sum(df1['Frequency']) * 100\n",
    "#     if first:\n",
    "#         df2 = df1[['Element', 'Percentage']].copy()\n",
    "#         df2.rename(columns={'Percentage': file}, inplace=True)\n",
    "#         first = False\n",
    "#     else:\n",
    "#         df2[file] = df1['Frequency'] / sum(df1['Frequency']) * 100"
   ]
  },
  {
   "cell_type": "code",
   "execution_count": 26,
   "metadata": {
    "scrolled": false
   },
   "outputs": [
    {
     "data": {
      "image/png": "[encoded data removed]",
      "text/plain": [
       "<Figure size 432x288 with 1 Axes>"
      ]
     },
     "metadata": {
      "needs_background": "light"
     },
     "output_type": "display_data"
    }
   ],
   "source": [
    "df6 = pd.DataFrame(df5).T.stack().reset_index()#.drop(columns=['level_1'])\n",
    "df6 = df6.rename(columns={0: \"percentage\", \"level_1\": \"Digit\"})\n",
    "#print(df6[\"level_0\"])\n",
    "\n",
    "colors = {\"Odom Reading 1 (Previous)\": \"black\", \"Odom Reading 1 (Update)\": \"red\", \"Odom Reading 2 (Previous)\": \"black\", \"Odom Reading 2 (Update)\": \"red\", \"Odom Reading 3 (Previous)\": \"black\", \"Odom Reading 3 (Update)\": \"red\", \"Odom Reading 4 (Previous)\": \"black\", \"Odom Reading 4 (Update)\":\"red\"}\n",
    "authentic = Line2D([], [], marker ='o', color='k', label='Authentic',\n",
    "                         markerfacecolor='k', markersize=6, linestyle='None')\n",
    "fabricated = Line2D([], [], marker ='o', color='r', label='Fabricated',\n",
    "                         markerfacecolor='r', markersize=6, linestyle='None')\n",
    "\n",
    "plt.scatter(x = 'Digit', y = 'percentage', data = df6, c=df6['level_0'].map(colors))\n",
    "plt.xticks([0,1,2,3,4,5,6,7,8,9])\n",
    "plt.ylim(-1, 60)\n",
    "plt.ylabel(\"Frequency (%)\")\n",
    "plt.xlabel(\"Digit\")\n",
    "plt.title(\"Digit frequency of last significant digit\")\n",
    "plt.legend(handles=[authentic, fabricated])\n",
    "#plt.legend(('Authentic', 'Fabricated'))\n",
    "#plt.savefig('mileage_first_digit', dpi=300)\n",
    "plt.show()"
   ]
  },
  {
   "cell_type": "code",
   "execution_count": 6,
   "metadata": {},
   "outputs": [
    {
     "name": "stdout",
     "output_type": "stream",
     "text": [
      "Digit                    level_0          0          1          2          3  \\\n",
      "0      Odom Reading 1 (Previous)  23.274250   8.189365   8.578266   8.660534   \n",
      "1        Odom Reading 1 (Update)  10.401839  10.068209   9.934757  10.038553   \n",
      "2      Odom Reading 2 (Previous)  25.258651   8.508741   8.044952   8.401712   \n",
      "3        Odom Reading 2 (Update)   9.913259   9.665428  10.054877  10.603647   \n",
      "4      Odom Reading 3 (Previous)  23.180380   7.199367   8.069620   8.227848   \n",
      "5        Odom Reading 3 (Update)  10.884886  10.571652   7.830854  11.041504   \n",
      "6      Odom Reading 4 (Previous)  25.538462   7.692308   8.923077   9.230769   \n",
      "7        Odom Reading 4 (Update)  12.844037  12.232416  10.703364  11.314985   \n",
      "\n",
      "Digit          4          5          6          7          8          9  \n",
      "0       8.466083   9.251365   8.593224   8.458604   8.159450   8.368858  \n",
      "1       9.793891  10.149763   9.801305   9.838375   9.823547  10.149763  \n",
      "2       8.490903   8.134142   7.920086   8.169818   8.651445   8.419550  \n",
      "3      10.426624   9.860152  10.054877  10.285006   9.399894   9.736237  \n",
      "4      10.601266   7.990506   9.572785   9.177215   7.594937   8.386076  \n",
      "5      11.746280   9.083790   9.788567   9.631950  10.649961   8.770556  \n",
      "6      10.461538   9.538462   6.153846   9.846154   5.230769   7.384615  \n",
      "7      11.009174   7.951070   7.033639  11.620795   8.256881   7.033639  \n",
      "Digit                    level_0          0          1          2          3  \\\n",
      "0      Odom Reading 1 (Previous)  23.274250   8.189365   8.578266   8.660534   \n",
      "1        Odom Reading 1 (Update)  10.401839  10.068209   9.934757  10.038553   \n",
      "2      Odom Reading 2 (Previous)  25.258651   8.508741   8.044952   8.401712   \n",
      "3        Odom Reading 2 (Update)   9.913259   9.665428  10.054877  10.603647   \n",
      "4      Odom Reading 3 (Previous)  23.180380   7.199367   8.069620   8.227848   \n",
      "5        Odom Reading 3 (Update)  10.884886  10.571652   7.830854  11.041504   \n",
      "6      Odom Reading 4 (Previous)  25.538462   7.692308   8.923077   9.230769   \n",
      "7        Odom Reading 4 (Update)  12.844037  12.232416  10.703364  11.314985   \n",
      "\n",
      "Digit          4          5          6          7          8          9  \\\n",
      "0       8.466083   9.251365   8.593224   8.458604   8.159450   8.368858   \n",
      "1       9.793891  10.149763   9.801305   9.838375   9.823547  10.149763   \n",
      "2       8.490903   8.134142   7.920086   8.169818   8.651445   8.419550   \n",
      "3      10.426624   9.860152  10.054877  10.285006   9.399894   9.736237   \n",
      "4      10.601266   7.990506   9.572785   9.177215   7.594937   8.386076   \n",
      "5      11.746280   9.083790   9.788567   9.631950  10.649961   8.770556   \n",
      "6      10.461538   9.538462   6.153846   9.846154   5.230769   7.384615   \n",
      "7      11.009174   7.951070   7.033639  11.620795   8.256881   7.033639   \n",
      "\n",
      "Digit    Target  \n",
      "0      Previous  \n",
      "1        Update  \n",
      "2      Previous  \n",
      "3        Update  \n",
      "4      Previous  \n",
      "5        Update  \n",
      "6      Previous  \n",
      "7        Update  \n"
     ]
    }
   ],
   "source": [
    "df6 = df6.astype({'Digit': str})\n",
    "\n",
    "df6 = pd.pivot_table(df6, values = 'percentage', index = 'level_0', columns = 'Digit').reset_index()\n",
    "print(df6)\n",
    "\n",
    "df6['Target'] = tags\n",
    "print(df6)"
   ]
  },
  {
   "cell_type": "code",
   "execution_count": 7,
   "metadata": {},
   "outputs": [],
   "source": [
    "# plt.boxplot(df7, sym=\"k.\", medianprops=dict(color=\"black\"))\n",
    "# plt.xticks([0,1,2,3,4,5,6,7,8,9])\n",
    "# plt.ylim(-1, 40)\n",
    "# plt.ylabel(\"Standard Deviation\")\n",
    "# plt.xlabel(\"Digit\")\n",
    "# plt.title(\"Standard deviation of digit frequency of first significant digit\")\n",
    "# plt.savefig('Data/fig1a', dpi=300)\n",
    "# plt.show()"
   ]
  },
  {
   "cell_type": "code",
   "execution_count": 8,
   "metadata": {},
   "outputs": [
    {
     "name": "stdout",
     "output_type": "stream",
     "text": [
      "   principal component 1  principal component 2    Target\n",
      "0              -1.974237              -0.545925  Previous\n",
      "1               1.348226              -2.027736    Update\n",
      "2              -2.435011              -0.167916  Previous\n",
      "3               1.776149              -1.450889    Update\n",
      "4              -1.863340               0.005238  Previous\n",
      "5               1.544957              -1.122323    Update\n",
      "6              -1.261761               2.336949  Previous\n",
      "7               2.865017               2.972601    Update\n"
     ]
    }
   ],
   "source": [
    "from sklearn.preprocessing import StandardScaler\n",
    "from sklearn.decomposition import PCA\n",
    "\n",
    "features = ['1', '2', '3', '4', '5', '6', '7', '8', '9']\n",
    "#print(features)\n",
    "\n",
    "# Separating out the features\n",
    "x = df6.loc[:, features].values\n",
    "# # Separating out the target\n",
    "y = df6.loc[:,['Target']].values\n",
    "# # # Standardizing the features\n",
    "x = StandardScaler().fit_transform(x)\n",
    "#print(x)\n",
    "\n",
    "pca = PCA(n_components=2)\n",
    "principalComponents = pca.fit_transform(x)\n",
    "principalDf = pd.DataFrame(data = principalComponents, columns = ['principal component 1', 'principal component 2'])\n",
    "\n",
    "finalDf = pd.concat([principalDf, df6[['Target']]], axis = 1)\n",
    "print(finalDf)"
   ]
  },
  {
   "cell_type": "code",
   "execution_count": 9,
   "metadata": {
    "scrolled": true
   },
   "outputs": [
    {
     "data": {
      "image/png": "[encoded data removed]",
      "text/plain": [
       "<Figure size 576x576 with 1 Axes>"
      ]
     },
     "metadata": {
      "needs_background": "light"
     },
     "output_type": "display_data"
    }
   ],
   "source": [
    "fig = plt.figure(figsize = (8,8))\n",
    "ax = fig.add_subplot(1,1,1) \n",
    "ax.set_xlabel('Principal Component 1', fontsize = 15)\n",
    "ax.set_ylabel('Principal Component 2', fontsize = 15)\n",
    "ax.set_title('2 component PCA', fontsize = 20)\n",
    "\n",
    "targets = [prevTag, updateTag]\n",
    "for target in targets:\n",
    "    indicesToKeep = finalDf['Target'] == target\n",
    "    ax.scatter(finalDf.loc[indicesToKeep, 'principal component 1']\n",
    "               , finalDf.loc[indicesToKeep, 'principal component 2']\n",
    "               , s = 50)\n",
    "ax.legend(targets)\n",
    "ax.grid()\n",
    "\n",
    "fig.savefig('mileage_first_digit_PCA', dpi=300)"
   ]
  },
  {
   "cell_type": "code",
   "execution_count": null,
   "metadata": {},
   "outputs": [],
   "source": []
  }
 ],
 "metadata": {
  "kernelspec": {
   "display_name": "Python 3 (ipykernel)",
   "language": "python",
   "name": "python3"
  },
  "language_info": {
   "codemirror_mode": {
    "name": "ipython",
    "version": 3
   },
   "file_extension": ".py",
   "mimetype": "text/x-python",
   "name": "python",
   "nbconvert_exporter": "python",
   "pygments_lexer": "ipython3",
   "version": "3.9.7"
  }
 },
 "nbformat": 4,
 "nbformat_minor": 4
}
