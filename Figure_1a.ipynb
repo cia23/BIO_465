{
 "cells": [
  {
   "cell_type": "code",
   "execution_count": 1,
   "metadata": {},
   "outputs": [],
   "source": [
    "import pandas as pd\n",
    "import numpy as np\n",
    "import matplotlib.pyplot as plt\n",
    "\n",
    "# returns a dataframe with the frequency of digits 0-9 from given list of nums\n",
    "def get_frequencies(nums):\n",
    "    freqs_list = [0, 0, 0, 0, 0, 0, 0, 0, 0, 0]\n",
    "    for num in nums:\n",
    "        if not pd.isna(num):\n",
    "            freqs_list[num] += 1\n",
    "    freqs_df = pd.DataFrame(freqs_list, index=range(0, 10), columns=['freq'])\n",
    "\n",
    "    return freqs_df\n",
    "\n",
    "#returns the first digit after the decimal point\n",
    "def first_after_decimal(num):\n",
    "    if pd.isna(num):\n",
    "        return\n",
    "    if num == 0:\n",
    "        return\n",
    "    else:\n",
    "        num = float(num) * 10000000\n",
    "        return(first_digit(abs(num)))\n",
    "#     return(first_digit(abs(num)))\n",
    "#     return int((abs(float(num)) * 10) % 10)"
   ]
  },
  {
   "cell_type": "code",
   "execution_count": 2,
   "metadata": {},
   "outputs": [],
   "source": [
    "def first_digit(num):\n",
    "    if pd.isna(num):\n",
    "        return\n",
    "    v = str(num)[0]\n",
    "    if v == '.':\n",
    "        return\n",
    "#     print(int(str(num)))\n",
    "    return int(str(num)[0])"
   ]
  },
  {
   "cell_type": "code",
   "execution_count": 3,
   "metadata": {},
   "outputs": [],
   "source": [
    "all_files = [\"Data/71.csv\", \"Data/1.csv\", \"Data/11.csv\", \"Data/14.csv\", \"Data/19_SHORT.csv\", \"Data/22.csv\",\n",
    "         \"Data/25.csv\", \"Data/32_LETTER.csv\", \"Data/34.csv\", \"Data/36.csv\", \n",
    "         \"Data/42.csv\", \"Data/43.csv\", \"Data/47.csv\", \"Data/48.csv\", \"Data/49.csv\", \"Data/50.csv\", \n",
    "         \"Data/51.csv\", \"Data/54.csv\", \"Data/56.csv\", \"Data/59.csv\",  \n",
    "         \"Data/63.csv\", \"Data/67.csv\", \"Data/68.csv\", \"Data/70.csv\", \"Data/72.csv\", \n",
    "         \"Data/76.csv\", \"Data/79.csv\", \n",
    "         \"Data/80.csv\", \"Data/82.csv\", \"Data/91.csv\"] # \"Data/5.csv\",\"Data/28.csv\",\"Data/35.csv\",\"Data/53.csv\","
   ]
  },
  {
   "cell_type": "code",
   "execution_count": 4,
   "metadata": {},
   "outputs": [
    {
     "name": "stdout",
     "output_type": "stream",
     "text": [
      "1\n",
      "2\n",
      "3\n",
      "4\n",
      "5\n",
      "6\n",
      "7\n",
      "8\n",
      "9\n",
      "10\n",
      "11\n",
      "12\n",
      "13\n",
      "14\n",
      "15\n",
      "16\n",
      "17\n",
      "18\n",
      "19\n",
      "20\n",
      "21\n",
      "22\n",
      "23\n",
      "24\n",
      "25\n",
      "26\n",
      "27\n",
      "28\n",
      "29\n",
      "30\n"
     ]
    }
   ],
   "source": [
    "df2 = pd.DataFrame(index=range(0, 10))\n",
    "\n",
    "i = 1\n",
    "for file in all_files:\n",
    "    print(i)\n",
    "    i += 1\n",
    "    data = pd.read_csv(file, na_values=['-', 'ND'], header=[0])\n",
    "    last_digits = [] #\n",
    "    last_digit_dict = {}\n",
    "    last_digit_freq = {}\n",
    "\n",
    "    for column in data:\n",
    "        nums = data[column]\n",
    "        last_digit = [first_after_decimal(num) for num in nums]\n",
    "        #last_digit = [first_digit(num) for num in nums]\n",
    "        last_digits += last_digit\n",
    "        last_digit_dict[column] = last_digit\n",
    "\n",
    "    df1 = get_frequencies(last_digits)\n",
    "\n",
    "\n",
    "    for key in last_digit_dict.keys():\n",
    "        frequencies = get_frequencies(last_digit_dict[key])\n",
    "        frequencies['Percentage'] = frequencies['freq'] / sum(frequencies['freq']) * 100\n",
    "        last_digit_freq[key] = frequencies\n",
    "        message = (f\"{key}\"\n",
    "        f\"{frequencies}\"\n",
    "        f\"\")\n",
    "        #print(message)\n",
    "        \n",
    "    df1['Percentage'] = df1['freq'] / sum(df1['freq']) * 100\n",
    "    df2[file] = df1['freq'] / sum(df1['freq']) * 100\n",
    "\n",
    "#         df1.columns = ['Element', 'Frequency']\n",
    "#     df1['Percentage'] = df1['Frequency'] / sum(df1['Frequency']) * 100\n",
    "#     if first:\n",
    "#         df2 = df1[['Element', 'Percentage']].copy()\n",
    "#         df2.rename(columns={'Percentage': file}, inplace=True)\n",
    "#         first = False\n",
    "#     else:\n",
    "#         df2[file] = df1['Frequency'] / sum(df1['Frequency']) * 100"
   ]
  },
  {
   "cell_type": "code",
   "execution_count": 5,
   "metadata": {},
   "outputs": [],
   "source": [
    "# df3 = None\n",
    "# first = True\n",
    "# i = 1\n",
    "# for file in files2:\n",
    "#     print(i)\n",
    "#     i += 1\n",
    "#     data = pd.read_csv(file, na_values=['-', 'ND'], header=[0])\n",
    "#     last_digits = [] #\n",
    "#     last_digit_dict = {}\n",
    "#     last_digit_freq = {}\n",
    "\n",
    "#     for column in data:\n",
    "#         nums = data[column]\n",
    "#         last_digit = [first_after_decimal(num) for num in nums]\n",
    "#         #last_digit = [first_digit(num) for num in nums]\n",
    "#         last_digits += last_digit\n",
    "#         last_digit_dict[column] = last_digit\n",
    "\n",
    "#     df1 = pd.Series(last_digits).value_counts().sort_index().reset_index().reset_index(drop=True)\n",
    "\n",
    "\n",
    "#     for key in last_digit_dict.keys():\n",
    "#         frequencies = pd.Series(last_digit_dict[key]).value_counts().sort_index().reset_index().reset_index(drop=True)\n",
    "#         frequencies.columns = ['Element', 'Frequency']\n",
    "#         frequencies['Percentage'] = frequencies['Frequency'] / sum(frequencies['Frequency']) * 100\n",
    "#         last_digit_freq[key] = frequencies\n",
    "#         message = (f\"{key}\"\n",
    "#         f\"{frequencies}\"\n",
    "#         f\"\")\n",
    "#         #print(message)\n",
    "\n",
    "#         df1.columns = ['Element', 'Frequency']\n",
    "#     df1['Percentage'] = df1['Frequency'] / sum(df1['Frequency']) * 100\n",
    "#     if first:\n",
    "#         df3 = df1[['Element', 'Percentage']].copy()\n",
    "#         df3.rename(columns={'Percentage': file}, inplace=True)\n",
    "#         first = False\n",
    "#     else:\n",
    "#         df3[file] = df1['Frequency'] / sum(df1['Frequency']) * 100"
   ]
  },
  {
   "cell_type": "code",
   "execution_count": 6,
   "metadata": {},
   "outputs": [
    {
     "name": "stdout",
     "output_type": "stream",
     "text": [
      "   Data/71.csv  Data/1.csv  Data/11.csv  Data/14.csv  Data/19_SHORT.csv  \\\n",
      "1    37.274236   32.356735    31.153604    34.905660           9.848485   \n",
      "2     7.551003   17.818316    19.570349    20.518868          12.878788   \n",
      "3     8.028591   12.244334    13.495436    10.613208          16.666667   \n",
      "4     8.222180    8.853879     8.915644     8.254717          33.333333   \n",
      "5     8.153041    7.729869     6.869688     5.660377          11.363636   \n",
      "6     8.238135    6.679565     6.027699     5.896226           4.545455   \n",
      "7     7.769056    5.150175     4.674221     6.132075           6.060606   \n",
      "8     7.687153    4.873779     4.650614     3.773585           2.272727   \n",
      "9     7.076606    4.293348     4.642745     4.245283           3.030303   \n",
      "\n",
      "   Data/22.csv  Data/25.csv  Data/32_LETTER.csv  Data/34.csv  Data/36.csv  \\\n",
      "1    29.919117    29.578818           30.928891    30.181455    27.274979   \n",
      "2    18.012133    17.303424           17.094192    18.461795    19.323582   \n",
      "3    12.568051    12.549808           11.898734    12.235725    15.046823   \n",
      "4     9.602971     9.865622            9.296351     9.655402    11.331940   \n",
      "5     8.074739     8.118179            8.024944     8.257033     8.234657   \n",
      "6     6.768160     6.865110            6.742368     6.342600     6.124913   \n",
      "7     5.512133     5.974256            5.988459     6.059597     4.957821   \n",
      "8     5.094105     5.167685            5.372301     4.611287     4.060057   \n",
      "9     4.448592     4.577097            4.653760     4.195106     3.645229   \n",
      "\n",
      "   ...  Data/63.csv  Data/67.csv  Data/68.csv  Data/70.csv  Data/72.csv  \\\n",
      "1  ...    26.567349    28.702636    29.611212    22.114449    30.814731   \n",
      "2  ...    19.397890    16.433040    17.676311     8.807244    18.831952   \n",
      "3  ...    16.076971    12.448222    13.358951     7.088578    13.021736   \n",
      "4  ...    10.862818    10.252003     9.674503     6.743764     9.398705   \n",
      "5  ...     7.945376     8.602947     6.871609     6.930265     7.465052   \n",
      "6  ...     6.455618     7.265178     6.148282     7.144567     6.243001   \n",
      "7  ...     4.624457     6.234983     6.329114     7.794810     5.335663   \n",
      "8  ...     4.531347     5.350523     5.628391     9.415399     4.664698   \n",
      "9  ...     3.538175     4.710469     4.701627    23.960924     4.224462   \n",
      "\n",
      "   Data/76.csv  Data/79.csv  Data/80.csv  Data/82.csv  Data/91.csv  \n",
      "1    30.360337     0.021857    31.052142    28.522139    29.337023  \n",
      "2    18.042423     0.000000    17.644320    18.458884    17.448526  \n",
      "3    13.097368     0.000000    11.824953    12.535940    12.455041  \n",
      "4     9.723997     0.003643     9.404097    11.098332     9.838466  \n",
      "5     7.730641     0.100178     8.752328     9.143186     8.115314  \n",
      "6     6.235625    13.800954     6.703911     6.440483     6.823594  \n",
      "7     5.366726    55.599067     5.074488     5.175388     6.001590  \n",
      "8     4.842832    26.999016     4.702048     4.600345     5.258902  \n",
      "9     4.600051     3.475283     4.841713     4.025302     4.636390  \n",
      "\n",
      "[9 rows x 30 columns]\n"
     ]
    }
   ],
   "source": [
    "# df2 = df2.set_index('Element')\n",
    "df2 = df2.drop([0])\n",
    "print(df2)"
   ]
  },
  {
   "cell_type": "code",
   "execution_count": 7,
   "metadata": {},
   "outputs": [],
   "source": [
    "# df3 = df3.set_index('Element')\n",
    "# print(df3)"
   ]
  },
  {
   "cell_type": "code",
   "execution_count": 8,
   "metadata": {},
   "outputs": [],
   "source": [
    "# transposed = df2.transpose()[1:].copy()"
   ]
  },
  {
   "cell_type": "code",
   "execution_count": 9,
   "metadata": {},
   "outputs": [],
   "source": [
    "# plt.boxplot(df3, sym=\"r.\", medianprops=dict(color=\"black\"))\n",
    "# plt.xticks([0,1,2,3,4,5,6,7,8,9])\n",
    "# # plt.ylim(0, 45)\n",
    "# plt.ylabel(\"Frequency (percentage)\")\n",
    "# plt.xlabel(\"Digit\")\n",
    "# plt.title(\"Digit frequency of first number after decimal\")\n",
    "# plt.show()"
   ]
  },
  {
   "cell_type": "code",
   "execution_count": 10,
   "metadata": {},
   "outputs": [
    {
     "name": "stdout",
     "output_type": "stream",
     "text": [
      "         level_0  Digit  Frequency (percentage)\n",
      "0    Data/71.csv      1               37.274236\n",
      "1    Data/71.csv      2                7.551003\n",
      "2    Data/71.csv      3                8.028591\n",
      "3    Data/71.csv      4                8.222180\n",
      "4    Data/71.csv      5                8.153041\n",
      "..           ...    ...                     ...\n",
      "265  Data/91.csv      5                8.115314\n",
      "266  Data/91.csv      6                6.823594\n",
      "267  Data/91.csv      7                6.001590\n",
      "268  Data/91.csv      8                5.258902\n",
      "269  Data/91.csv      9                4.636390\n",
      "\n",
      "[270 rows x 3 columns]\n"
     ]
    }
   ],
   "source": [
    "df4 = pd.DataFrame(df2).T.stack().reset_index()#.drop(columns=['level_1'])\n",
    "df4 = df4.rename(columns={0: \"Frequency (percentage)\", \"level_1\": \"Digit\"})\n",
    "print(df4)"
   ]
  },
  {
   "cell_type": "code",
   "execution_count": 11,
   "metadata": {},
   "outputs": [],
   "source": [
    "# df5 = pd.DataFrame(df3).T.stack().reset_index()#.drop(columns=['level_1'])\n",
    "# print(df5.head(15))"
   ]
  },
  {
   "cell_type": "code",
   "execution_count": 18,
   "metadata": {},
   "outputs": [
    {
     "data": {
      "image/png": "[encoded data removed]",
      "text/plain": [
       "<Figure size 432x288 with 1 Axes>"
      ]
     },
     "metadata": {
      "needs_background": "light"
     },
     "output_type": "display_data"
    }
   ],
   "source": [
    "plt.boxplot(df2, sym=\"k.\", medianprops=dict(color=\"black\"))\n",
    "# plt.xticks([0,1,2,3,4,5,6,7,8,9])\n",
    "plt.ylim(-1, 60)\n",
    "plt.ylabel(\"Frequency (percentage)\")\n",
    "plt.xlabel(\"Digit\")\n",
    "plt.title(\"Digit frequency of first significant digit\")\n",
    "plt.savefig('Data/fig1a', dpi=300)\n",
    "plt.show()"
   ]
  },
  {
   "cell_type": "code",
   "execution_count": 13,
   "metadata": {},
   "outputs": [
    {
     "data": {
      "text/plain": [
       "<matplotlib.axes._subplots.AxesSubplot at 0x23a7ee2a640>"
      ]
     },
     "execution_count": 13,
     "metadata": {},
     "output_type": "execute_result"
    },
    {
     "data": {
      "image/png": "[encoded data removed]",
      "text/plain": [
       "<Figure size 432x288 with 1 Axes>"
      ]
     },
     "metadata": {
      "needs_background": "light"
     },
     "output_type": "display_data"
    }
   ],
   "source": [
    "import seaborn as sns\n",
    "sns.stripplot(x = 'Digit', y = 'Frequency (percentage)', data = df4, jitter=True, color = 'black')\n",
    "# sns.stripplot(x = 'Element', y = 0, data = df5, jitter=True, color = 'blue')\n",
    "# sns.despine()"
   ]
  },
  {
   "cell_type": "code",
   "execution_count": 14,
   "metadata": {},
   "outputs": [],
   "source": [
    "# sns.stripplot(x = 'Element', y = 0, data = df4, jitter=True, color = 'black')\n"
   ]
  },
  {
   "cell_type": "code",
   "execution_count": 15,
   "metadata": {},
   "outputs": [],
   "source": [
    "# sns.stripplot(x = 'Element', y = 0, data = df5, jitter=True, color = 'blue')"
   ]
  }
 ],
 "metadata": {
  "kernelspec": {
   "display_name": "Python 3",
   "language": "python",
   "name": "python3"
  },
  "language_info": {
   "codemirror_mode": {
    "name": "ipython",
    "version": 3
   },
   "file_extension": ".py",
   "mimetype": "text/x-python",
   "name": "python",
   "nbconvert_exporter": "python",
   "pygments_lexer": "ipython3",
   "version": "3.8.3"
  }
 },
 "nbformat": 4,
 "nbformat_minor": 4
}
