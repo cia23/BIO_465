{
 "cells": [
  {
   "cell_type": "code",
   "execution_count": 1,
   "metadata": {},
   "outputs": [],
   "source": [
    "import pandas as pd\n",
    "import numpy as np\n",
    "import matplotlib.pyplot as plt\n",
    "\n",
    "# returns a dataframe with the frequency of digits 0-9 from given list of nums that we give to it\n",
    "def get_frequencies(nums):\n",
    "    freqs_list = [0, 0, 0, 0, 0, 0, 0, 0, 0, 0]\n",
    "    for num in nums:\n",
    "        if not pd.isna(num):\n",
    "            freqs_list[num] += 1\n",
    "    freqs_df = pd.DataFrame(freqs_list, index=range(0, 10), columns=['freq'])\n",
    "\n",
    "    return freqs_df\n",
    "\n",
    "#cleans data and returns first digit\n",
    "def first_digit(num):\n",
    "    if pd.isna(num):\n",
    "        return\n",
    "    if str(num) == 'Null':\n",
    "        return\n",
    "    if str(num) == 'n. def.':\n",
    "        return\n",
    "    if num == 0:\n",
    "        return\n",
    "    else:\n",
    "        num = float(num) * 10000000\n",
    "        return(first_digit(abs(num)))\n",
    "#     return(first_digit(abs(num)))\n",
    "#     return int((abs(float(num)) * 10) % 10)"
   ]
  },
  {
   "cell_type": "code",
   "execution_count": 246,
   "metadata": {},
   "outputs": [],
   "source": [
    "def first_digit_actual(num):\n",
    "    if pd.isna(num):\n",
    "        return\n",
    "    v = str(num)[0]\n",
    "    if v == '.':\n",
    "        return\n",
    "#     print(int(str(num)))\n",
    "    return int(str(num)[0])"
   ]
  },
  {
   "cell_type": "code",
   "execution_count": 3,
   "metadata": {},
   "outputs": [],
   "source": [
    "all_files = [\"Data/1.csv\", \"Data/5.csv\", \"Data/11.csv\", \"Data/14.csv\", \"Data/19_SHORT.csv\", \"Data/22.csv\",\n",
    "         \"Data/25.csv\", \"Data/28.csv\", \"Data/32_LETTER.csv\", \"Data/34.csv\", \"Data/35.csv\", \"Data/36.csv\", \n",
    "         \"Data/42.csv\", \"Data/43.csv\", \"Data/47.csv\", \"Data/48.csv\", \"Data/49.csv\", \"Data/50.csv\", \n",
    "         \"Data/51.csv\", \"Data/53.csv\", \"Data/54.csv\", \"Data/56.csv\", \"Data/57_30K_25%.csv\", \"Data/57_30K_35%.csv\", \n",
    "         \"Data/57_30K_50%.csv\", \"Data/57_30K_75%.csv\", \"Data/57_30K_100%.csv\", \"Data/57_60K_25%.csv\",\n",
    "         \"Data/58_lots_of_zeros.csv\", \"Data/59.csv\", \"Data/60_T3.csv\", \"Data/60_T4.csv\", \"Data/62.csv\", \n",
    "         \"Data/63.csv\", \"Data/65_peptide_PMSI_normalized.csv\", \"Data/65_peptide_PMSI_raw.csv\", \n",
    "         \"Data/65_peptide_water_normalized.csv\", \"Data/65_peptide_water_raw.csv\", \n",
    "         \"Data/65_protein_PMSI_normalized.csv\", \"Data/65_protein_PMSI_raw.csv\", \"Data/65_protein_water_normalized.csv\", \n",
    "         \"Data/65_protein_water_raw.csv\", \"Data/66_has_NA_values.csv\", \"Data/67.csv\", \"Data/68.csv\", \"Data/70.csv\", \n",
    "         \"Data/71.csv\", \"Data/72.csv\", \"Data/73.csv\", \"Data/74.csv\", \"Data/76.csv\", \"Data/79.csv\", \"Data/80.csv\", \n",
    "         \"Data/82.csv\", \"Data/84_table2.csv\", \"Data/84_table4_replicate1.csv\", \"Data/84_table4_replicate2.csv\", \n",
    "         \"Data/84_table4_replicate3.csv\", \"Data/84_table5_replicate1.csv\", \"Data/84_table5_replicate2.csv\", \n",
    "         \"Data/84_table5_replicate3.csv\", \"Data/85_lots_of_zeroes.csv\",\"Data/86_S7.csv\", \"Data/86_S8.csv\", \n",
    "         \"Data/86_S9.csv\", \"Data/86_S10.csv\", \"Data/86_S11.csv\", \"Data/86_S12.csv\", \"Data/86_S14.csv\",\n",
    "         \"Data/87_has_NA_values.csv\",\"Data/88_table2.csv\", \"Data/88_table4.csv\", \"Data/88_table6_sheet1.csv\", \n",
    "         \"Data/88_table6_sheet2.csv\", \"Data/88_table7.csv\", \"Data/89_decent_number_of_zeroes.csv\", \n",
    "         \"Data/90_table1_imputed.csv\", \"Data/90_table1_raw.csv\", \"Data/90_table3_imputed.csv\", \n",
    "         \"Data/90_table3_raw.csv\", \"Data/90_table5_imputed.csv\", \"Data/90_table5_raw.csv\", \"Data/90_table7.csv\",\n",
    "         \"Data/91.csv\",\"Data/92_has_blank_cells.csv\", \"Data/93.csv\", \"Data/94.csv\", \"Data/95_double_digestion.csv\", \n",
    "         \"Data/95_single_digestion.csv\", \"Data/96_table1.csv\", \"Data/96_table2.csv\", \"Data/97_normalized.csv\",\n",
    "         \"Data/97_raw.csv\", \"Data/99.csv\", \"Data/100_set1.csv\", \"Data/100_set2.csv\"] # \"Data/5.csv\",\"Data/28.csv\",\"Data/35.csv\",\"Data/53.csv\",\"Data/66_has_NA_values.csv\"\n",
    "#File 77 has words, no values\n",
    "# Get rid of files 78 and 98\n",
    "#90 looks weird because has raw values with small range"
   ]
  },
  {
   "cell_type": "code",
   "execution_count": 4,
   "metadata": {},
   "outputs": [
    {
     "name": "stdout",
     "output_type": "stream",
     "text": [
      "1\n",
      "2\n",
      "3\n",
      "4\n",
      "5\n",
      "6\n",
      "7\n",
      "8\n",
      "9\n",
      "10\n",
      "11\n",
      "12\n",
      "13\n",
      "14\n",
      "15\n",
      "16\n",
      "17\n",
      "18\n",
      "19\n",
      "20\n",
      "21\n",
      "22\n",
      "23\n",
      "24\n",
      "25\n",
      "26\n",
      "27\n",
      "28\n",
      "29\n",
      "30\n",
      "31\n",
      "32\n",
      "33\n",
      "34\n",
      "35\n",
      "36\n",
      "37\n",
      "38\n",
      "39\n",
      "40\n",
      "41\n",
      "42\n",
      "43\n",
      "44\n",
      "45\n",
      "46\n",
      "47\n",
      "48\n",
      "49\n",
      "50\n",
      "51\n",
      "52\n",
      "53\n",
      "54\n",
      "55\n",
      "56\n",
      "57\n",
      "58\n",
      "59\n",
      "60\n",
      "61\n",
      "62\n",
      "63\n",
      "64\n",
      "65\n",
      "66\n",
      "67\n",
      "68\n",
      "69\n",
      "70\n",
      "71\n",
      "72\n",
      "73\n",
      "74\n",
      "75\n",
      "76\n",
      "77\n",
      "78\n",
      "79\n",
      "80\n",
      "81\n",
      "82\n",
      "83\n",
      "84\n",
      "85\n",
      "86\n",
      "87\n",
      "88\n",
      "89\n",
      "90\n",
      "91\n",
      "92\n",
      "93\n",
      "94\n",
      "95\n",
      "96\n"
     ]
    },
    {
     "name": "stderr",
     "output_type": "stream",
     "text": [
      "C:\\Users\\carol\\anaconda3\\lib\\site-packages\\IPython\\core\\interactiveshell.py:3071: DtypeWarning: Columns (12,16) have mixed types.Specify dtype option on import or set low_memory=False.\n",
      "  has_raised = await self.run_ast_nodes(code_ast.body, cell_name,\n"
     ]
    }
   ],
   "source": [
    "df2 = pd.DataFrame(index=range(0, 10))\n",
    "\n",
    "i = 1\n",
    "for file in all_files:\n",
    "    print(i)\n",
    "    i += 1\n",
    "    data = pd.read_csv(file, na_values=['-', 'ND'], header=[0])\n",
    "    last_digits = [] #\n",
    "    last_digit_dict = {}\n",
    "    last_digit_freq = {}\n",
    "\n",
    "    for column in data:\n",
    "        nums = data[column]\n",
    "        last_digit = [first_digit(num) for num in nums]\n",
    "        #last_digit = [first_digit_actual(num) for num in nums]\n",
    "        last_digits += last_digit\n",
    "        last_digit_dict[column] = last_digit\n",
    "\n",
    "    df1 = get_frequencies(last_digits)\n",
    "\n",
    "\n",
    "    for key in last_digit_dict.keys():\n",
    "        frequencies = get_frequencies(last_digit_dict[key])\n",
    "        frequencies['Percentage'] = frequencies['freq'] / sum(frequencies['freq']) * 100\n",
    "        last_digit_freq[key] = frequencies\n",
    "        message = (f\"{key}\"\n",
    "        f\"{frequencies}\"\n",
    "        f\"\")\n",
    "        #print(message)\n",
    "        \n",
    "    df1['Percentage'] = df1['freq'] / sum(df1['freq']) * 100\n",
    "    df2[file] = df1['freq'] / sum(df1['freq']) * 100\n",
    "\n",
    "#         df1.columns = ['Element', 'Frequency']\n",
    "#     df1['Percentage'] = df1['Frequency'] / sum(df1['Frequency']) * 100\n",
    "#     if first:\n",
    "#         df2 = df1[['Element', 'Percentage']].copy()\n",
    "#         df2.rename(columns={'Percentage': file}, inplace=True)\n",
    "#         first = False\n",
    "#     else:\n",
    "#         df2[file] = df1['Frequency'] / sum(df1['Frequency']) * 100"
   ]
  },
  {
   "cell_type": "code",
   "execution_count": 5,
   "metadata": {},
   "outputs": [
    {
     "name": "stdout",
     "output_type": "stream",
     "text": [
      "   Data/1.csv  Data/5.csv  Data/11.csv  Data/14.csv  Data/19_SHORT.csv  \\\n",
      "1   32.356735     0.00000    31.153604    34.905660           9.848485   \n",
      "2   17.818316    74.00741    19.570349    20.518868          12.878788   \n",
      "3   12.244334    25.99259    13.495436    10.613208          16.666667   \n",
      "4    8.853879     0.00000     8.915644     8.254717          33.333333   \n",
      "5    7.729869     0.00000     6.869688     5.660377          11.363636   \n",
      "6    6.679565     0.00000     6.027699     5.896226           4.545455   \n",
      "7    5.150175     0.00000     4.674221     6.132075           6.060606   \n",
      "8    4.873779     0.00000     4.650614     3.773585           2.272727   \n",
      "9    4.293348     0.00000     4.642745     4.245283           3.030303   \n",
      "\n",
      "   Data/22.csv  Data/25.csv  Data/28.csv  Data/32_LETTER.csv  Data/34.csv  \\\n",
      "1    29.919117    29.578818     2.926587           30.928891    30.181455   \n",
      "2    18.012133    17.303424    82.126323           17.094192    18.461795   \n",
      "3    12.568051    12.549808    14.947090           11.898734    12.235725   \n",
      "4     9.602971     9.865622     0.000000            9.296351     9.655402   \n",
      "5     8.074739     8.118179     0.000000            8.024944     8.257033   \n",
      "6     6.768160     6.865110     0.000000            6.742368     6.342600   \n",
      "7     5.512133     5.974256     0.000000            5.988459     6.059597   \n",
      "8     5.094105     5.167685     0.000000            5.372301     4.611287   \n",
      "9     4.448592     4.577097     0.000000            4.653760     4.195106   \n",
      "\n",
      "   ...  Data/94.csv  Data/95_double_digestion.csv  \\\n",
      "1  ...    93.716216                     29.208270   \n",
      "2  ...     3.891892                     16.641332   \n",
      "3  ...     0.000000                     12.568925   \n",
      "4  ...     0.000000                      9.952013   \n",
      "5  ...     0.000000                      8.170646   \n",
      "6  ...     0.040541                      7.133419   \n",
      "7  ...     0.148649                      6.204485   \n",
      "8  ...     0.689189                      5.302375   \n",
      "9  ...     1.513514                      4.818535   \n",
      "\n",
      "   Data/95_single_digestion.csv  Data/96_table1.csv  Data/96_table2.csv  \\\n",
      "1                     28.474082           30.481073           30.624792   \n",
      "2                     16.688567           17.304154           17.071009   \n",
      "3                     12.724685           12.158254           11.875485   \n",
      "4                     10.292953            9.384858            9.748532   \n",
      "5                      8.335439            7.873291            7.854215   \n",
      "6                      7.216860            6.637750            6.674421   \n",
      "7                      6.019946            6.256572            6.131605   \n",
      "8                      5.400010            5.113039            5.389387   \n",
      "9                      4.847459            4.791009            4.630553   \n",
      "\n",
      "   Data/97_normalized.csv  Data/97_raw.csv  Data/99.csv  Data/100_set1.csv  \\\n",
      "1               29.165363        29.540793     6.975760          29.620540   \n",
      "2               17.586123        18.253554    92.551666          18.139252   \n",
      "3               13.025342        12.782007     0.472574          12.771105   \n",
      "4               10.164425         9.788994     0.000000           9.744125   \n",
      "5                8.123892         8.075225     0.000000           7.919930   \n",
      "6                6.952411         6.674314     0.000000           6.685234   \n",
      "7                5.760072         5.666215     0.000000           5.751668   \n",
      "8                4.877116         4.828449     0.000000           4.916739   \n",
      "9                4.345257         4.390447     0.000000           4.451407   \n",
      "\n",
      "   Data/100_set2.csv  \n",
      "1          30.972764  \n",
      "2          17.901338  \n",
      "3          12.400814  \n",
      "4           9.148607  \n",
      "5           7.490625  \n",
      "6           6.501516  \n",
      "7           5.745701  \n",
      "8           5.133630  \n",
      "9           4.705006  \n",
      "\n",
      "[9 rows x 96 columns]\n"
     ]
    }
   ],
   "source": [
    "# df2 = df2.set_index('Element')\n",
    "df2 = df2.drop([0])\n",
    "df2.to_csv('Data/first_digit.csv')\n",
    "print(df2)"
   ]
  },
  {
   "cell_type": "code",
   "execution_count": 6,
   "metadata": {},
   "outputs": [
    {
     "name": "stdout",
     "output_type": "stream",
     "text": [
      "               level_0  Digit  Frequency (percentage)\n",
      "0           Data/1.csv      1               32.356735\n",
      "1           Data/1.csv      2               17.818316\n",
      "2           Data/1.csv      3               12.244334\n",
      "3           Data/1.csv      4                8.853879\n",
      "4           Data/1.csv      5                7.729869\n",
      "..                 ...    ...                     ...\n",
      "859  Data/100_set2.csv      5                7.490625\n",
      "860  Data/100_set2.csv      6                6.501516\n",
      "861  Data/100_set2.csv      7                5.745701\n",
      "862  Data/100_set2.csv      8                5.133630\n",
      "863  Data/100_set2.csv      9                4.705006\n",
      "\n",
      "[864 rows x 3 columns]\n"
     ]
    }
   ],
   "source": [
    "df4 = pd.DataFrame(df2).T.stack().reset_index()#.drop(columns=['level_1'])\n",
    "df4 = df4.rename(columns={0: \"Frequency (percentage)\", \"level_1\": \"Digit\"})\n",
    "print(df4)"
   ]
  },
  {
   "cell_type": "code",
   "execution_count": 7,
   "metadata": {},
   "outputs": [
    {
     "data": {
      "image/png": "[encoded data removed]",
      "text/plain": [
       "<Figure size 432x288 with 1 Axes>"
      ]
     },
     "metadata": {
      "needs_background": "light"
     },
     "output_type": "display_data"
    }
   ],
   "source": [
    "plt.boxplot(df2, sym=\"k.\", medianprops=dict(color=\"black\"))\n",
    "# plt.xticks([0,1,2,3,4,5,6,7,8,9])\n",
    "# plt.ylim(-1, 60)\n",
    "plt.ylabel(\"Frequency (percentage)\")\n",
    "plt.xlabel(\"Digit\")\n",
    "plt.title(\"Digit frequency of first significant digit\")\n",
    "# plt.savefig('Data/fig1a', dpi=300)\n",
    "plt.show()"
   ]
  },
  {
   "cell_type": "code",
   "execution_count": 8,
   "metadata": {},
   "outputs": [
    {
     "data": {
      "text/plain": [
       "<matplotlib.axes._subplots.AxesSubplot at 0x2a3897d0a00>"
      ]
     },
     "execution_count": 8,
     "metadata": {},
     "output_type": "execute_result"
    },
    {
     "data": {
      "image/png": "[encoded data removed]",
      "text/plain": [
       "<Figure size 432x288 with 1 Axes>"
      ]
     },
     "metadata": {
      "needs_background": "light"
     },
     "output_type": "display_data"
    }
   ],
   "source": [
    "import seaborn as sns\n",
    "sns.stripplot(x = 'Digit', y = 'Frequency (percentage)', data = df4, jitter=True)\n",
    "# sns.stripplot(x = 'Element', y = 0, data = df5, jitter=True, color = 'blue')\n",
    "# sns.despine()"
   ]
  }
 ],
 "metadata": {
  "kernelspec": {
   "display_name": "Python 3",
   "language": "python",
   "name": "python3"
  },
  "language_info": {
   "codemirror_mode": {
    "name": "ipython",
    "version": 3
   },
   "file_extension": ".py",
   "mimetype": "text/x-python",
   "name": "python",
   "nbconvert_exporter": "python",
   "pygments_lexer": "ipython3",
   "version": "3.8.3"
  }
 },
 "nbformat": 4,
 "nbformat_minor": 4
}
