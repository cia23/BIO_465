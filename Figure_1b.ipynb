{
 "cells": [
  {
   "cell_type": "code",
   "execution_count": 1,
   "metadata": {},
   "outputs": [],
   "source": [
    "import pandas as pd\n",
    "import numpy as np\n",
    "import matplotlib.pyplot as plt\n",
    "\n",
    "# returns a dataframe with the frequency of digits 0-9 from given list of nums\n",
    "def get_frequencies(nums):\n",
    "    freqs_list = [0, 0, 0, 0, 0, 0, 0, 0, 0, 0]\n",
    "    for num in nums:\n",
    "        if not pd.isna(num):\n",
    "            freqs_list[num] += 1\n",
    "    freqs_df = pd.DataFrame(freqs_list, index=range(0, 10), columns=['freq'])\n",
    "\n",
    "    return freqs_df\n",
    "\n",
    "#returns the first digit after the decimal point\n",
    "def first_after_decimal(num):\n",
    "    if pd.isna(num):\n",
    "        return\n",
    "    if str(num) == 'Null':\n",
    "        return\n",
    "    if str(num) == 'n. def.':\n",
    "        return\n",
    "#     if type(num) == str:\n",
    "#         print(num)\n",
    "# #         print(num.isdigit())\n",
    "#         if num[0].isdigit():\n",
    "#             print(num)\n",
    "#             num = int(num)\n",
    "#         else:\n",
    "#             return\n",
    "    if float(num) == 0.0:\n",
    "        return\n",
    "    else:\n",
    "        num = float(num)\n",
    "        if num > 100000:\n",
    "            return(first_digit(abs(num)))\n",
    "        else:\n",
    "            num = float(num) * 100000\n",
    "#             print(num)\n",
    "            return(first_digit(abs(num)))\n",
    "#     return(first_digit(abs(num)))\n",
    "#     return int((abs(float(num)) * 10) % 10)"
   ]
  },
  {
   "cell_type": "code",
   "execution_count": 2,
   "metadata": {},
   "outputs": [],
   "source": [
    "def first_digit(num):\n",
    "    if pd.isna(num):\n",
    "        return\n",
    "    v = str(num)[1]\n",
    "    if v == '.':\n",
    "        return\n",
    "#     print(int(str(num)))\n",
    "    return int(str(num)[1])"
   ]
  },
  {
   "cell_type": "code",
   "execution_count": 3,
   "metadata": {},
   "outputs": [],
   "source": [
    "all_files = [\"Data/1.csv\", \"Data/5.csv\", \"Data/11.csv\", \"Data/14.csv\", \"Data/19_SHORT.csv\", \"Data/22.csv\",\n",
    "         \"Data/25.csv\", \"Data/28.csv\", \"Data/32_LETTER.csv\", \"Data/34.csv\", \"Data/35.csv\", \"Data/36.csv\", \n",
    "         \"Data/42.csv\", \"Data/43.csv\", \"Data/47.csv\", \"Data/48.csv\", \"Data/49.csv\", \"Data/50.csv\", \n",
    "         \"Data/51.csv\", \"Data/53.csv\", \"Data/54.csv\", \"Data/56.csv\", \"Data/57_30K_25%.csv\", \"Data/57_30K_35%.csv\", \n",
    "         \"Data/57_30K_50%.csv\", \"Data/57_30K_75%.csv\", \"Data/57_30K_100%.csv\", \"Data/57_60K_25%.csv\",\n",
    "         \"Data/58_lots_of_zeros.csv\", \"Data/59.csv\", \"Data/60_T3.csv\", \"Data/60_T4.csv\", \"Data/62.csv\", \n",
    "         \"Data/63.csv\", \"Data/65_peptide_PMSI_normalized.csv\", \"Data/65_peptide_PMSI_raw.csv\", \n",
    "         \"Data/65_peptide_water_normalized.csv\", \"Data/65_peptide_water_raw.csv\", \n",
    "         \"Data/65_protein_PMSI_normalized.csv\", \"Data/65_protein_PMSI_raw.csv\", \"Data/65_protein_water_normalized.csv\", \n",
    "         \"Data/65_protein_water_raw.csv\", \"Data/66_has_NA_values.csv\", \"Data/67.csv\", \"Data/68.csv\", \"Data/70.csv\", \n",
    "         \"Data/71.csv\", \"Data/72.csv\", \"Data/73.csv\", \"Data/74.csv\", \"Data/76.csv\", \"Data/79.csv\", \"Data/80.csv\", \n",
    "         \"Data/82.csv\", \"Data/84_table2.csv\", \"Data/84_table4_replicate1.csv\", \"Data/84_table4_replicate2.csv\", \n",
    "         \"Data/84_table4_replicate3.csv\", \"Data/84_table5_replicate1.csv\", \"Data/84_table5_replicate2.csv\", \n",
    "         \"Data/84_table5_replicate3.csv\", \"Data/85_lots_of_zeroes.csv\",\"Data/86_S7.csv\", \"Data/86_S8.csv\", \n",
    "         \"Data/86_S9.csv\", \"Data/86_S10.csv\", \"Data/86_S11.csv\", \"Data/86_S12.csv\", \"Data/86_S14.csv\",\n",
    "         \"Data/87_has_NA_values.csv\",\"Data/88_table2.csv\", \"Data/88_table4.csv\", \"Data/88_table6_sheet1.csv\", \n",
    "         \"Data/88_table6_sheet2.csv\", \"Data/88_table7.csv\", \"Data/89_decent_number_of_zeroes.csv\", \n",
    "         \"Data/90_table1_imputed.csv\", \"Data/90_table1_raw.csv\", \"Data/90_table3_imputed.csv\", \n",
    "         \"Data/90_table3_raw.csv\", \"Data/90_table5_imputed.csv\", \"Data/90_table5_raw.csv\", \"Data/90_table7.csv\",\n",
    "         \"Data/91.csv\",\"Data/92_has_blank_cells.csv\", \"Data/93.csv\", \"Data/94.csv\", \"Data/95_double_digestion.csv\", \n",
    "         \"Data/95_single_digestion.csv\", \"Data/96_table1.csv\", \"Data/96_table2.csv\", \"Data/97_normalized.csv\",\n",
    "         \"Data/97_raw.csv\", \"Data/99.csv\", \"Data/100_set1.csv\", \"Data/100_set2.csv\"]  # \"Data/5.csv\",\"Data/28.csv\",\"Data/35.csv\",\"Data/53.csv\",\n",
    "# \"Data/66_has_NA_values.csv\" has weird v shape\n"
   ]
  },
  {
   "cell_type": "code",
   "execution_count": 4,
   "metadata": {},
   "outputs": [
    {
     "name": "stdout",
     "output_type": "stream",
     "text": [
      "1\n",
      "2\n",
      "3\n",
      "4\n",
      "5\n",
      "6\n",
      "7\n",
      "8\n",
      "9\n",
      "10\n",
      "11\n",
      "12\n",
      "13\n",
      "14\n",
      "15\n",
      "16\n",
      "17\n",
      "18\n",
      "19\n",
      "20\n",
      "21\n",
      "22\n",
      "23\n",
      "24\n",
      "25\n",
      "26\n",
      "27\n",
      "28\n",
      "29\n",
      "30\n",
      "31\n",
      "32\n",
      "33\n",
      "34\n",
      "35\n",
      "36\n",
      "37\n",
      "38\n",
      "39\n",
      "40\n",
      "41\n",
      "42\n",
      "43\n",
      "44\n",
      "45\n",
      "46\n",
      "47\n",
      "48\n",
      "49\n",
      "50\n",
      "51\n",
      "52\n",
      "53\n",
      "54\n",
      "55\n",
      "56\n",
      "57\n",
      "58\n",
      "59\n",
      "60\n",
      "61\n",
      "62\n",
      "63\n",
      "64\n",
      "65\n",
      "66\n",
      "67\n",
      "68\n",
      "69\n",
      "70\n",
      "71\n",
      "72\n",
      "73\n",
      "74\n",
      "75\n",
      "76\n",
      "77\n",
      "78\n",
      "79\n",
      "80\n",
      "81\n",
      "82\n",
      "83\n",
      "84\n",
      "85\n",
      "86\n",
      "87\n",
      "88\n",
      "89\n",
      "90\n",
      "91\n",
      "92\n",
      "93\n",
      "94\n",
      "95\n",
      "96\n"
     ]
    },
    {
     "name": "stderr",
     "output_type": "stream",
     "text": [
      "C:\\Users\\carol\\anaconda3\\lib\\site-packages\\IPython\\core\\interactiveshell.py:3071: DtypeWarning: Columns (12,16) have mixed types.Specify dtype option on import or set low_memory=False.\n",
      "  has_raised = await self.run_ast_nodes(code_ast.body, cell_name,\n"
     ]
    }
   ],
   "source": [
    "df2 = pd.DataFrame(index=range(0, 10))\n",
    "\n",
    "i = 1\n",
    "for file in all_files:\n",
    "    print(i)\n",
    "    i += 1\n",
    "    data = pd.read_csv(file, na_values=['-', 'ND'], header=[0])\n",
    "    last_digits = [] #\n",
    "    last_digit_dict = {}\n",
    "    last_digit_freq = {}\n",
    "\n",
    "    for column in data:\n",
    "        nums = data[column]\n",
    "        last_digit = [first_after_decimal(num) for num in nums]\n",
    "        #last_digit = [first_digit(num) for num in nums]\n",
    "        last_digits += last_digit\n",
    "        last_digit_dict[column] = last_digit\n",
    "\n",
    "    df1 = get_frequencies(last_digits)\n",
    "\n",
    "\n",
    "    for key in last_digit_dict.keys():\n",
    "        frequencies = get_frequencies(last_digit_dict[key])\n",
    "        frequencies['Percentage'] = frequencies['freq'] / sum(frequencies['freq']) * 100\n",
    "        last_digit_freq[key] = frequencies\n",
    "        message = (f\"{key}\"\n",
    "        f\"{frequencies}\"\n",
    "        f\"\")\n",
    "        #print(message)\n",
    "        \n",
    "    df1['Percentage'] = df1['freq'] / sum(df1['freq']) * 100\n",
    "    df2[file] = df1['freq'] / sum(df1['freq']) * 100\n",
    "\n",
    "#         df1.columns = ['Element', 'Frequency']\n",
    "#     df1['Percentage'] = df1['Frequency'] / sum(df1['Frequency']) * 100\n",
    "#     if first:\n",
    "#         df2 = df1[['Element', 'Percentage']].copy()\n",
    "#         df2.rename(columns={'Percentage': file}, inplace=True)\n",
    "#         first = False\n",
    "#     else:\n",
    "#         df2[file] = df1['Frequency'] / sum(df1['Frequency']) * 100"
   ]
  },
  {
   "cell_type": "code",
   "execution_count": 6,
   "metadata": {},
   "outputs": [
    {
     "name": "stdout",
     "output_type": "stream",
     "text": [
      "   Data/1.csv  Data/5.csv  Data/11.csv  Data/14.csv  Data/19_SHORT.csv  \\\n",
      "0   11.184817    9.291326    11.671651    13.207547          11.214953   \n",
      "1   11.848167    6.626902    10.813789     8.962264           4.672897   \n",
      "2   10.401695    4.679822    10.735086    12.028302          12.149533   \n",
      "3   10.761010    3.226739    10.916103    10.613208          11.214953   \n",
      "4   10.797863    6.624274     9.814261    10.377358          14.018692   \n",
      "5    9.719919   13.826628     9.955926     9.198113          12.149533   \n",
      "6    9.461950   15.965525     9.223989    10.849057          11.214953   \n",
      "7    9.222406   14.346901     9.255470     7.075472           8.411215   \n",
      "8    8.199742   13.810863     8.893436     9.669811           6.542056   \n",
      "9    8.402432   11.601020     8.720290     8.018868           8.411215   \n",
      "\n",
      "   Data/22.csv  Data/25.csv  Data/28.csv  Data/32_LETTER.csv  Data/34.csv  \\\n",
      "0    11.675482    12.027747    11.160714           12.068131    11.469952   \n",
      "1    11.263223    11.416815     9.060847           11.504095    12.252372   \n",
      "2    11.002645    10.817508     5.472884           11.023827    10.887298   \n",
      "3    10.456207    10.390590     4.728836           10.221519    10.587648   \n",
      "4    10.086730     9.968107     6.712963           10.053984     9.688697   \n",
      "5     9.643357     9.723061    11.127646            9.538347     8.723156   \n",
      "6     9.236932     9.253161    13.458995            9.363366     9.155985   \n",
      "7     9.044415     9.077254    13.508598            8.864483     9.039454   \n",
      "8     8.953018     8.821347    13.161376            8.724870     9.422341   \n",
      "9     8.637990     8.504409    11.607143            8.637379     8.773098   \n",
      "\n",
      "   ...  Data/94.csv  Data/95_double_digestion.csv  \\\n",
      "0  ...     6.081081                     12.157611   \n",
      "1  ...     6.932432                     11.432347   \n",
      "2  ...     8.256757                     10.829285   \n",
      "3  ...    10.824324                     10.337496   \n",
      "4  ...    13.891892                     10.053352   \n",
      "5  ...    14.689189                      9.587394   \n",
      "6  ...    13.959459                      9.257548   \n",
      "7  ...    10.918919                      9.112495   \n",
      "8  ...     8.391892                      8.798545   \n",
      "9  ...     6.054054                      8.433926   \n",
      "\n",
      "   Data/95_single_digestion.csv  Data/96_table1.csv  Data/96_table2.csv  \\\n",
      "0                     11.978403           12.703733           12.097042   \n",
      "1                     11.320564           11.560200           11.609616   \n",
      "2                     10.841293           10.626972           10.872937   \n",
      "3                     10.440356           10.081493           10.064252   \n",
      "4                      9.989724           10.212934           10.247037   \n",
      "5                      9.625849            9.345426            9.349729   \n",
      "6                      9.286400            9.338854            8.973081   \n",
      "7                      9.002544            8.648791            9.261106   \n",
      "8                      8.905679            8.951104            9.000775   \n",
      "9                      8.609188            8.530494            8.524427   \n",
      "\n",
      "   Data/97_normalized.csv  Data/97_raw.csv  Data/99.csv  Data/100_set1.csv  \\\n",
      "0               11.777384        11.669621     9.639574          12.088773   \n",
      "1               11.280286        11.506240    14.781464          11.251523   \n",
      "2               10.737998        11.064762    19.770531          10.895851   \n",
      "3               10.018424        10.202663    18.089483          10.360313   \n",
      "4                9.917614         9.987138    16.363765           9.933856   \n",
      "5                9.969757         9.733375     7.575294           9.667537   \n",
      "6                9.187611         9.284945     3.300966           9.327531   \n",
      "7                9.229325         9.284945     2.344062           9.127357   \n",
      "8                8.826085         8.805228     2.851903           8.756020   \n",
      "9                9.055515         8.461084     5.282957           8.591239   \n",
      "\n",
      "   Data/100_set2.csv  \n",
      "0          12.080288  \n",
      "1          11.447930  \n",
      "2          10.999020  \n",
      "3          10.462299  \n",
      "4           9.988756  \n",
      "5           9.678373  \n",
      "6           9.329446  \n",
      "7           8.977042  \n",
      "8           8.629274  \n",
      "9           8.407572  \n",
      "\n",
      "[10 rows x 96 columns]\n"
     ]
    }
   ],
   "source": [
    "print(df2)"
   ]
  },
  {
   "cell_type": "code",
   "execution_count": 10,
   "metadata": {},
   "outputs": [
    {
     "name": "stdout",
     "output_type": "stream",
     "text": [
      "               level_0  Digit  Frequency (percentage)\n",
      "0           Data/1.csv      0               11.184817\n",
      "1           Data/1.csv      1               11.848167\n",
      "2           Data/1.csv      2               10.401695\n",
      "3           Data/1.csv      3               10.761010\n",
      "4           Data/1.csv      4               10.797863\n",
      "..                 ...    ...                     ...\n",
      "955  Data/100_set2.csv      5                9.678373\n",
      "956  Data/100_set2.csv      6                9.329446\n",
      "957  Data/100_set2.csv      7                8.977042\n",
      "958  Data/100_set2.csv      8                8.629274\n",
      "959  Data/100_set2.csv      9                8.407572\n",
      "\n",
      "[960 rows x 3 columns]\n"
     ]
    }
   ],
   "source": [
    "df4 = pd.DataFrame(df2).T.stack().reset_index()#.drop(columns=['level_1'])\n",
    "df4 = df4.rename(columns={0: \"Frequency (percentage)\", \"level_1\": \"Digit\"})\n",
    "print(df4)"
   ]
  },
  {
   "cell_type": "code",
   "execution_count": 16,
   "metadata": {},
   "outputs": [
    {
     "data": {
      "image/png": "[encoded data removed]",
      "text/plain": [
       "<Figure size 432x288 with 1 Axes>"
      ]
     },
     "metadata": {
      "needs_background": "light"
     },
     "output_type": "display_data"
    }
   ],
   "source": [
    "plt.boxplot(df2, sym=\"k.\", medianprops=dict(color=\"black\"), positions=[0,1,2, 3, 4, 5, 6, 7, 8, 9])\n",
    "# plt.xticks([-1, 0,1,2,3,4,5,6,7,8,9, 10])\n",
    "# plt.xlim(0, 9)\n",
    "# plt.ylim(-1, 60)\n",
    "plt.ylabel(\"Frequency (percentage)\")\n",
    "plt.xlabel(\"Digit\")\n",
    "plt.title(\"Digit frequency of second significant digit\")\n",
    "plt.savefig('Data/fig1b', dpi=300)\n",
    "plt.show()"
   ]
  },
  {
   "cell_type": "code",
   "execution_count": 13,
   "metadata": {},
   "outputs": [
    {
     "data": {
      "text/plain": [
       "<matplotlib.axes._subplots.AxesSubplot at 0x1fc0155d1f0>"
      ]
     },
     "execution_count": 13,
     "metadata": {},
     "output_type": "execute_result"
    },
    {
     "data": {
      "image/png": "[encoded data removed]",
      "text/plain": [
       "<Figure size 432x288 with 1 Axes>"
      ]
     },
     "metadata": {
      "needs_background": "light"
     },
     "output_type": "display_data"
    }
   ],
   "source": [
    "import seaborn as sns\n",
    "sns.stripplot(x = 'Digit', y = 'Frequency (percentage)', data = df4, jitter=True, color = 'black')\n",
    "# sns.stripplot(x = 'Element', y = 0, data = df5, jitter=True, color = 'blue')\n",
    "# sns.despine()"
   ]
  }
 ],
 "metadata": {
  "kernelspec": {
   "display_name": "Python 3",
   "language": "python",
   "name": "python3"
  },
  "language_info": {
   "codemirror_mode": {
    "name": "ipython",
    "version": 3
   },
   "file_extension": ".py",
   "mimetype": "text/x-python",
   "name": "python",
   "nbconvert_exporter": "python",
   "pygments_lexer": "ipython3",
   "version": "3.8.3"
  }
 },
 "nbformat": 4,
 "nbformat_minor": 4
}
