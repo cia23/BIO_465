{
 "cells": [
  {
   "cell_type": "code",
   "execution_count": 1,
   "metadata": {},
   "outputs": [],
   "source": [
    "import pandas as pd\n",
    "import numpy as np\n",
    "import matplotlib.pyplot as plt\n",
    "\n",
    "# returns a dataframe with the frequency of digits 0-9 from given list of nums\n",
    "def get_frequencies(nums):\n",
    "    freqs_list = [0, 0, 0, 0, 0, 0, 0, 0, 0, 0]\n",
    "    for num in nums:\n",
    "        if not pd.isna(num):\n",
    "            freqs_list[num] += 1\n",
    "    freqs_df = pd.DataFrame(freqs_list, index=range(0, 10), columns=['freq'])\n",
    "\n",
    "    return freqs_df\n",
    "\n",
    "#returns the first digit after the decimal point\n",
    "def first_after_decimal(num):\n",
    "    if pd.isna(num):\n",
    "        return\n",
    "    if num == 0:\n",
    "        return\n",
    "    else:\n",
    "        num = float(num) * 100000\n",
    "        return(first_digit(abs(num)))\n",
    "#     return(first_digit(abs(num)))\n",
    "#     return int((abs(float(num)) * 10) % 10)"
   ]
  },
  {
   "cell_type": "code",
   "execution_count": 2,
   "metadata": {},
   "outputs": [],
   "source": [
    "def first_digit(num):\n",
    "    if pd.isna(num):\n",
    "        return\n",
    "    v = str(num)[1]\n",
    "    if v == '.':\n",
    "        return\n",
    "#     print(int(str(num)))\n",
    "    return int(str(num)[1])"
   ]
  },
  {
   "cell_type": "code",
   "execution_count": 3,
   "metadata": {},
   "outputs": [],
   "source": [
    "all_files = [\"Data/71.csv\", \"Data/1.csv\", \"Data/11.csv\", \"Data/14.csv\", \"Data/19_SHORT.csv\", \"Data/22.csv\",\n",
    "         \"Data/25.csv\", \"Data/32_LETTER.csv\", \"Data/34.csv\", \"Data/36.csv\", \n",
    "         \"Data/42.csv\", \"Data/43.csv\", \"Data/47.csv\", \"Data/48.csv\", \"Data/49.csv\", \"Data/50.csv\", \n",
    "         \"Data/51.csv\", \"Data/54.csv\", \"Data/56.csv\", \"Data/59.csv\",  \n",
    "         \"Data/63.csv\", \"Data/67.csv\", \"Data/68.csv\", \"Data/70.csv\", \"Data/72.csv\", \n",
    "         \"Data/76.csv\", \"Data/79.csv\", \n",
    "         \"Data/80.csv\", \"Data/82.csv\", \"Data/91.csv\"] # \"Data/5.csv\",\"Data/28.csv\",\"Data/35.csv\",\"Data/53.csv\","
   ]
  },
  {
   "cell_type": "code",
   "execution_count": 4,
   "metadata": {},
   "outputs": [
    {
     "name": "stdout",
     "output_type": "stream",
     "text": [
      "1\n",
      "2\n",
      "3\n",
      "4\n",
      "5\n",
      "6\n",
      "7\n",
      "8\n",
      "9\n",
      "10\n",
      "11\n",
      "12\n",
      "13\n",
      "14\n",
      "15\n",
      "16\n",
      "17\n",
      "18\n",
      "19\n",
      "20\n",
      "21\n",
      "22\n",
      "23\n",
      "24\n",
      "25\n",
      "26\n",
      "27\n",
      "28\n",
      "29\n",
      "30\n"
     ]
    }
   ],
   "source": [
    "df2 = pd.DataFrame(index=range(0, 10))\n",
    "\n",
    "i = 1\n",
    "for file in all_files:\n",
    "    print(i)\n",
    "    i += 1\n",
    "    data = pd.read_csv(file, na_values=['-', 'ND'], header=[0])\n",
    "    last_digits = [] #\n",
    "    last_digit_dict = {}\n",
    "    last_digit_freq = {}\n",
    "\n",
    "    for column in data:\n",
    "        nums = data[column]\n",
    "        last_digit = [first_after_decimal(num) for num in nums]\n",
    "        #last_digit = [first_digit(num) for num in nums]\n",
    "        last_digits += last_digit\n",
    "        last_digit_dict[column] = last_digit\n",
    "\n",
    "    df1 = get_frequencies(last_digits)\n",
    "\n",
    "\n",
    "    for key in last_digit_dict.keys():\n",
    "        frequencies = get_frequencies(last_digit_dict[key])\n",
    "        frequencies['Percentage'] = frequencies['freq'] / sum(frequencies['freq']) * 100\n",
    "        last_digit_freq[key] = frequencies\n",
    "        message = (f\"{key}\"\n",
    "        f\"{frequencies}\"\n",
    "        f\"\")\n",
    "        #print(message)\n",
    "        \n",
    "    df1['Percentage'] = df1['freq'] / sum(df1['freq']) * 100\n",
    "    df2[file] = df1['freq'] / sum(df1['freq']) * 100\n",
    "\n",
    "#         df1.columns = ['Element', 'Frequency']\n",
    "#     df1['Percentage'] = df1['Frequency'] / sum(df1['Frequency']) * 100\n",
    "#     if first:\n",
    "#         df2 = df1[['Element', 'Percentage']].copy()\n",
    "#         df2.rename(columns={'Percentage': file}, inplace=True)\n",
    "#         first = False\n",
    "#     else:\n",
    "#         df2[file] = df1['Frequency'] / sum(df1['Frequency']) * 100"
   ]
  },
  {
   "cell_type": "code",
   "execution_count": 5,
   "metadata": {},
   "outputs": [],
   "source": [
    "# df3 = None\n",
    "# first = True\n",
    "# i = 1\n",
    "# for file in files2:\n",
    "#     print(i)\n",
    "#     i += 1\n",
    "#     data = pd.read_csv(file, na_values=['-', 'ND'], header=[0])\n",
    "#     last_digits = [] #\n",
    "#     last_digit_dict = {}\n",
    "#     last_digit_freq = {}\n",
    "\n",
    "#     for column in data:\n",
    "#         nums = data[column]\n",
    "#         last_digit = [first_after_decimal(num) for num in nums]\n",
    "#         #last_digit = [first_digit(num) for num in nums]\n",
    "#         last_digits += last_digit\n",
    "#         last_digit_dict[column] = last_digit\n",
    "\n",
    "#     df1 = pd.Series(last_digits).value_counts().sort_index().reset_index().reset_index(drop=True)\n",
    "\n",
    "\n",
    "#     for key in last_digit_dict.keys():\n",
    "#         frequencies = pd.Series(last_digit_dict[key]).value_counts().sort_index().reset_index().reset_index(drop=True)\n",
    "#         frequencies.columns = ['Element', 'Frequency']\n",
    "#         frequencies['Percentage'] = frequencies['Frequency'] / sum(frequencies['Frequency']) * 100\n",
    "#         last_digit_freq[key] = frequencies\n",
    "#         message = (f\"{key}\"\n",
    "#         f\"{frequencies}\"\n",
    "#         f\"\")\n",
    "#         #print(message)\n",
    "\n",
    "#         df1.columns = ['Element', 'Frequency']\n",
    "#     df1['Percentage'] = df1['Frequency'] / sum(df1['Frequency']) * 100\n",
    "#     if first:\n",
    "#         df3 = df1[['Element', 'Percentage']].copy()\n",
    "#         df3.rename(columns={'Percentage': file}, inplace=True)\n",
    "#         first = False\n",
    "#     else:\n",
    "#         df3[file] = df1['Frequency'] / sum(df1['Frequency']) * 100"
   ]
  },
  {
   "cell_type": "code",
   "execution_count": 6,
   "metadata": {},
   "outputs": [
    {
     "name": "stdout",
     "output_type": "stream",
     "text": [
      "   Data/71.csv  Data/1.csv  Data/11.csv  Data/14.csv  Data/19_SHORT.csv  \\\n",
      "0    13.407578   11.184817    11.671651    13.207547          11.214953   \n",
      "1    13.299083   11.848167    10.813789     8.962264           4.672897   \n",
      "2    14.111728   10.401695    10.735086    12.028302          12.149533   \n",
      "3    10.738826   10.761010    10.916103    10.613208          11.214953   \n",
      "4    10.208054   10.797863     9.814261    10.377358          14.018692   \n",
      "5     9.203948    9.719919     9.955926     9.198113          12.149533   \n",
      "6     8.781671    9.461950     9.223989    10.849057          11.214953   \n",
      "7     6.696875    9.222406     9.255470     7.075472           8.411215   \n",
      "8     7.050014    8.199742     8.893436     9.669811           6.542056   \n",
      "9     6.502223    8.402432     8.720290     8.018868           8.411215   \n",
      "\n",
      "   Data/22.csv  Data/25.csv  Data/32_LETTER.csv  Data/34.csv  Data/36.csv  \\\n",
      "0    11.675482    12.027747           12.068131    11.469952    29.514743   \n",
      "1    11.263223    11.416815           11.504095    12.252372     9.137064   \n",
      "2    11.002645    10.817508           11.023827    10.887298     8.779506   \n",
      "3    10.456207    10.390590           10.221519    10.587648     8.361582   \n",
      "4    10.086730     9.968107           10.053984     9.688697     8.089157   \n",
      "5     9.643357     9.723061            9.538347     8.723156     7.771844   \n",
      "6     9.236932     9.253161            9.363366     9.155985     8.055104   \n",
      "7     9.044415     9.077254            8.864483     9.039454     7.158889   \n",
      "8     8.953018     8.821347            8.724870     9.422341     7.923535   \n",
      "9     8.637990     8.504409            8.637379     8.773098     5.208575   \n",
      "\n",
      "   ...  Data/63.csv  Data/67.csv  Data/68.csv  Data/70.csv  Data/72.csv  \\\n",
      "0  ...    12.073246    12.049547    11.948405    14.087960    11.811651   \n",
      "1  ...    11.731844    11.403301    10.726409     9.735887    11.304589   \n",
      "2  ...    10.800745    10.896047    11.246888     8.779442    10.804978   \n",
      "3  ...    10.397269    10.384528    10.681150     8.436173    10.438566   \n",
      "4  ...     9.497207    10.018330    10.590631     8.317631    10.074411   \n",
      "5  ...     9.186840     9.617179     9.300747     8.201792     9.758570   \n",
      "6  ...     9.528243     9.294056     8.282417     8.255464     9.441374   \n",
      "7  ...     9.435133     9.010566     9.685449     8.152753     9.051483   \n",
      "8  ...     8.255742     8.753912     9.323376     8.035370     8.757992   \n",
      "9  ...     9.093731     8.572533     8.214528    17.997529     8.556386   \n",
      "\n",
      "   Data/76.csv  Data/79.csv  Data/80.csv  Data/82.csv  Data/91.csv  \n",
      "0    11.014567    10.088886    12.430168    12.018401    12.053332  \n",
      "1    11.934577     9.819314    12.383613    10.810811    11.436881  \n",
      "2    11.129568    10.107100    10.940410    11.673376    10.919097  \n",
      "3    10.337337     9.671779     9.078212    10.580794    10.405101  \n",
      "4    10.311781    10.005100    10.242086     8.568143    10.030926  \n",
      "5    10.247892    10.227314     9.124767    10.235768     9.654168  \n",
      "6     9.813442     9.924957     9.031657    10.235768     9.360407  \n",
      "7     9.046767     9.928600     8.938547     9.373203     8.957992  \n",
      "8     8.318426    10.116207     8.286778     8.108108     8.697292  \n",
      "9     7.845643    10.110743     9.543762     8.395630     8.484806  \n",
      "\n",
      "[10 rows x 30 columns]\n"
     ]
    }
   ],
   "source": [
    "print(df2)"
   ]
  },
  {
   "cell_type": "code",
   "execution_count": 7,
   "metadata": {},
   "outputs": [],
   "source": [
    "# df3 = df3.set_index('Element')\n",
    "# print(df3)"
   ]
  },
  {
   "cell_type": "code",
   "execution_count": 8,
   "metadata": {},
   "outputs": [],
   "source": [
    "# transposed = df2.transpose()[1:].copy()"
   ]
  },
  {
   "cell_type": "code",
   "execution_count": 9,
   "metadata": {},
   "outputs": [],
   "source": [
    "# plt.boxplot(df3, sym=\"r.\", medianprops=dict(color=\"black\"))\n",
    "# plt.xticks([0,1,2,3,4,5,6,7,8,9])\n",
    "# # plt.ylim(0, 45)\n",
    "# plt.ylabel(\"Frequency (percentage)\")\n",
    "# plt.xlabel(\"Digit\")\n",
    "# plt.title(\"Digit frequency of first number after decimal\")\n",
    "# plt.show()"
   ]
  },
  {
   "cell_type": "code",
   "execution_count": 10,
   "metadata": {},
   "outputs": [
    {
     "name": "stdout",
     "output_type": "stream",
     "text": [
      "         level_0  Digit  Frequency (percentage)\n",
      "0    Data/71.csv      0               13.407578\n",
      "1    Data/71.csv      1               13.299083\n",
      "2    Data/71.csv      2               14.111728\n",
      "3    Data/71.csv      3               10.738826\n",
      "4    Data/71.csv      4               10.208054\n",
      "..           ...    ...                     ...\n",
      "295  Data/91.csv      5                9.654168\n",
      "296  Data/91.csv      6                9.360407\n",
      "297  Data/91.csv      7                8.957992\n",
      "298  Data/91.csv      8                8.697292\n",
      "299  Data/91.csv      9                8.484806\n",
      "\n",
      "[300 rows x 3 columns]\n"
     ]
    }
   ],
   "source": [
    "df4 = pd.DataFrame(df2).T.stack().reset_index()#.drop(columns=['level_1'])\n",
    "df4 = df4.rename(columns={0: \"Frequency (percentage)\", \"level_1\": \"Digit\"})\n",
    "print(df4)"
   ]
  },
  {
   "cell_type": "code",
   "execution_count": 11,
   "metadata": {},
   "outputs": [],
   "source": [
    "# df5 = pd.DataFrame(df3).T.stack().reset_index()#.drop(columns=['level_1'])\n",
    "# print(df5.head(15))"
   ]
  },
  {
   "cell_type": "code",
   "execution_count": 12,
   "metadata": {},
   "outputs": [
    {
     "data": {
      "image/png": "[encoded data removed]",
      "text/plain": [
       "<Figure size 432x288 with 1 Axes>"
      ]
     },
     "metadata": {
      "needs_background": "light"
     },
     "output_type": "display_data"
    }
   ],
   "source": [
    "plt.boxplot(df2, sym=\"k.\", medianprops=dict(color=\"black\"), positions=[0,1,2, 3, 4, 5, 6, 7, 8, 9])\n",
    "# plt.xticks([-1, 0,1,2,3,4,5,6,7,8,9, 10])\n",
    "# plt.xlim(0, 9)\n",
    "plt.ylim(-1, 60)\n",
    "plt.ylabel(\"Frequency (percentage)\")\n",
    "plt.xlabel(\"Digit\")\n",
    "plt.title(\"Digit frequency of second significant digit\")\n",
    "plt.savefig('Data/fig1b', dpi=300)\n",
    "plt.show()"
   ]
  },
  {
   "cell_type": "code",
   "execution_count": 13,
   "metadata": {},
   "outputs": [
    {
     "data": {
      "text/plain": [
       "<matplotlib.axes._subplots.AxesSubplot at 0x26966cfae50>"
      ]
     },
     "execution_count": 13,
     "metadata": {},
     "output_type": "execute_result"
    },
    {
     "data": {
      "image/png": "[encoded data removed]",
      "text/plain": [
       "<Figure size 432x288 with 1 Axes>"
      ]
     },
     "metadata": {
      "needs_background": "light"
     },
     "output_type": "display_data"
    }
   ],
   "source": [
    "import seaborn as sns\n",
    "sns.stripplot(x = 'Digit', y = 'Frequency (percentage)', data = df4, jitter=True, color = 'black')\n",
    "# sns.stripplot(x = 'Element', y = 0, data = df5, jitter=True, color = 'blue')\n",
    "# sns.despine()"
   ]
  },
  {
   "cell_type": "code",
   "execution_count": 14,
   "metadata": {},
   "outputs": [],
   "source": [
    "# sns.stripplot(x = 'Element', y = 0, data = df4, jitter=True, color = 'black')\n"
   ]
  },
  {
   "cell_type": "code",
   "execution_count": 15,
   "metadata": {},
   "outputs": [],
   "source": [
    "# sns.stripplot(x = 'Element', y = 0, data = df5, jitter=True, color = 'blue')"
   ]
  }
 ],
 "metadata": {
  "kernelspec": {
   "display_name": "Python 3",
   "language": "python",
   "name": "python3"
  },
  "language_info": {
   "codemirror_mode": {
    "name": "ipython",
    "version": 3
   },
   "file_extension": ".py",
   "mimetype": "text/x-python",
   "name": "python",
   "nbconvert_exporter": "python",
   "pygments_lexer": "ipython3",
   "version": "3.8.3"
  }
 },
 "nbformat": 4,
 "nbformat_minor": 4
}
