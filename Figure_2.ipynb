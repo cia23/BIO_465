{
 "cells": [
  {
   "cell_type": "code",
   "execution_count": 2,
   "metadata": {},
   "outputs": [],
   "source": [
    "import pandas as pd\n",
    "import numpy as np\n",
    "import matplotlib.pyplot as plt\n",
    "\n",
    "# returns a dataframe with the frequency of digits 0-9 from given list of nums\n",
    "def get_frequencies(nums):\n",
    "    freqs_list = [0, 0, 0, 0, 0, 0, 0, 0, 0, 0]\n",
    "    for num in nums:\n",
    "        if not pd.isna(num):\n",
    "            freqs_list[num] += 1\n",
    "    freqs_df = pd.DataFrame(freqs_list, index=range(0, 10), columns=['freq'])\n",
    "\n",
    "    return freqs_df\n",
    "\n",
    "#returns the first digit after the decimal point\n",
    "def first_after_decimal(num):\n",
    "    if pd.isna(num):\n",
    "        return\n",
    "    if num == 0:\n",
    "        return\n",
    "    else:\n",
    "        num = float(num) * 10000000\n",
    "        return(first_digit(abs(num)))\n",
    "#     return(first_digit(abs(num)))\n",
    "#     return int((abs(float(num)) * 10) % 10)"
   ]
  },
  {
   "cell_type": "code",
   "execution_count": 3,
   "metadata": {},
   "outputs": [],
   "source": [
    "def first_digit(num):\n",
    "    if pd.isna(num):\n",
    "        return\n",
    "    v = str(num)[0]\n",
    "    if v == '.':\n",
    "        return\n",
    "#     print(int(str(num)))\n",
    "    return int(str(num)[0])"
   ]
  },
  {
   "cell_type": "code",
   "execution_count": 17,
   "metadata": {},
   "outputs": [],
   "source": [
    "all_files = [\"Data/11.csv\", \"Data/71.csv\", \"Data/1.csv\", \"Data/14.csv\", \"Data/19_SHORT.csv\", \"Data/22.csv\",\n",
    "            \"Data/25.csv\", \"Data/32_LETTER.csv\", \"Data/34.csv\", \"Data/36.csv\",\n",
    "            \"Data/42.csv\", \"Data/43.csv\", \"Data/47.csv\", \"Data/48.csv\", \"Data/49.csv\", \"Data/50.csv\",\n",
    "            \"Data/51.csv\", \"Data/54.csv\", \"Data/56.csv\", \"Data/59.csv\",\n",
    "            \"Data/63.csv\", \"Data/67.csv\", \"Data/68.csv\",\n",
    "            \"Data/70.csv\", \"Data/72.csv\", \"Data/76.csv\", \"Data/79.csv\",\n",
    "            \"Data/80.csv\", \"Data/82.csv\", \"Data/91.csv\"] # \"Data/5.csv\",\"Data/28.csv\",\"Data/35.csv\",\"Data/53.csv\","
   ]
  },
  {
   "cell_type": "code",
   "execution_count": 18,
   "metadata": {},
   "outputs": [
    {
     "name": "stdout",
     "output_type": "stream",
     "text": [
      "1\n",
      "2\n",
      "3\n",
      "4\n",
      "5\n",
      "6\n",
      "7\n",
      "8\n",
      "9\n",
      "10\n",
      "11\n",
      "12\n",
      "13\n",
      "14\n",
      "15\n",
      "16\n",
      "17\n",
      "18\n",
      "19\n",
      "20\n",
      "21\n",
      "22\n",
      "23\n",
      "24\n",
      "25\n",
      "26\n",
      "27\n",
      "28\n",
      "29\n",
      "30\n",
      "   Data/11.csv  Data/71.csv  Data/1.csv  Data/14.csv  Data/19_SHORT.csv  \\\n",
      "1     4.673896     6.180994    0.221500     4.493877           5.965157   \n",
      "2     2.501061     1.460421    0.345464     5.514961           5.462956   \n",
      "3     3.164291     0.574383    0.217634     2.641508           9.401268   \n",
      "4     1.950305     0.976450    0.203526     2.133979          12.309149   \n",
      "5     0.850841     0.407386    0.261564     2.677866           9.582660   \n",
      "6     0.682933     0.996660    0.169382     3.209743           4.149413   \n",
      "7     0.893753     0.950922    0.182412     3.888447           6.247130   \n",
      "8     0.985205     0.252090    0.130294     2.374476           3.711348   \n",
      "9     0.780427     0.562682    0.072545     2.760235           4.008714   \n",
      "\n",
      "   Data/22.csv  Data/25.csv  Data/32_LETTER.csv  Data/34.csv  Data/36.csv  \\\n",
      "1     1.245576     1.025864            2.263827     2.173655     2.339726   \n",
      "2     1.501474     0.894736            0.699190     1.424142     1.643614   \n",
      "3     0.559747     0.627734            0.467856     1.995535     0.894120   \n",
      "4     0.390100     0.522292            0.806158     1.918684     1.077845   \n",
      "5     0.434236     0.422642            0.745808     1.992558     1.092924   \n",
      "6     0.387182     0.413683            0.639827     1.227368     0.790335   \n",
      "7     0.373951     0.381459            0.482237     1.097835     0.707672   \n",
      "8     0.498837     0.403636            0.283902     1.318665     0.575802   \n",
      "9     0.478602     0.365331            0.190566     1.069762     0.339123   \n",
      "\n",
      "   ...  Data/63.csv  Data/67.csv  Data/68.csv  Data/70.csv  Data/72.csv  \\\n",
      "1  ...     3.803728     0.994074     2.478078    12.602879     0.216931   \n",
      "2  ...     3.887515     0.890393     1.591596     8.197903     0.194004   \n",
      "3  ...     2.453268     0.767281     1.816218     5.935178     0.102519   \n",
      "4  ...     2.100425     0.726675     1.336142     5.183993     0.122812   \n",
      "5  ...     1.375451     0.661504     1.740302     5.010930     0.099959   \n",
      "6  ...     1.468921     0.574868     0.965087     5.132309     0.075095   \n",
      "7  ...     1.189557     0.566308     0.737517     5.721827     0.077773   \n",
      "8  ...     1.328425     0.527933     1.411154     7.749809     0.069542   \n",
      "9  ...     1.221124     0.472900     0.562254    30.340810     0.034128   \n",
      "\n",
      "   Data/76.csv  Data/79.csv  Data/80.csv  Data/82.csv  Data/91.csv  \n",
      "1     1.532072     0.041118     1.346070     5.164920     0.487752  \n",
      "2     1.159064     0.000000     1.883103     3.255375     0.299177  \n",
      "3     1.543592     0.000000     2.145856     3.746940     0.146042  \n",
      "4     0.875357     0.011588     1.681394     3.377393     0.191544  \n",
      "5     0.871619     0.065823     0.998215     3.203997     0.208430  \n",
      "6     0.841404     1.435489     1.536763     2.460866     0.160357  \n",
      "7     0.897006     2.084717     1.431075     2.833661     0.214092  \n",
      "8     0.710641     1.890334     0.394850     2.734106     0.077164  \n",
      "9     0.677591     0.827830     1.742155     2.507409     0.110034  \n",
      "\n",
      "[9 rows x 30 columns]\n"
     ]
    }
   ],
   "source": [
    "df2 = pd.DataFrame(index=range(0, 10))\n",
    "\n",
    "i = 1\n",
    "std_devs = {}\n",
    "\n",
    "for file in all_files:\n",
    "    print(i)\n",
    "    i += 1\n",
    "    data = pd.read_csv(file, na_values=['-', 'ND'], header=[0])\n",
    "    last_digits = [] #\n",
    "    last_digit_dict = {}\n",
    "    last_digit_freq = {}\n",
    "\n",
    "    for column in data:\n",
    "        nums = data[column]\n",
    "        last_digit = [first_after_decimal(num) for num in nums]\n",
    "        #last_digit = [first_digit(num) for num in nums]\n",
    "        last_digits += last_digit\n",
    "        last_digit_dict[column] = last_digit\n",
    "        \n",
    "\n",
    "    df1 = get_frequencies(last_digits)\n",
    "    \n",
    "    column_data = {}\n",
    "\n",
    "    for key in last_digit_dict.keys():\n",
    "        frequencies = get_frequencies(last_digit_dict[key])\n",
    "        frequencies['Percentage'] = frequencies['freq'] / sum(frequencies['freq']) * 100\n",
    "        last_digit_freq[key] = frequencies\n",
    "\n",
    "        message = (f\"{key}\"\n",
    "        f\"{frequencies}\"\n",
    "        f\"\")\n",
    "        #print(message)\n",
    "        \n",
    "        column_data[key] = frequencies['Percentage']\n",
    " \n",
    "    \n",
    "    df5 = pd.DataFrame(column_data)\n",
    "    df5['Average'] = df1['freq'] / sum(df1['freq']) * 100\n",
    "    #print(df5)\n",
    "    df5 = df5.drop([0])\n",
    "    \n",
    "    std_devs[file] = df5.std(axis = 1)\n",
    "    \n",
    "# print(std_devs)\n",
    "df7 = pd.DataFrame(std_devs)\n",
    "print(df7)\n",
    "        \n",
    "#     df1['Percentage'] = df1['freq'] / sum(df1['freq']) * 100\n",
    "#     df2[file] = df1['freq'] / sum(df1['freq']) * 100\n",
    "\n",
    "\n",
    "#         df1.columns = ['Element', 'Frequency']\n",
    "#     df1['Percentage'] = df1['Frequency'] / sum(df1['Frequency']) * 100\n",
    "#     if first:\n",
    "#         df2 = df1[['Element', 'Percentage']].copy()\n",
    "#         df2.rename(columns={'Percentage': file}, inplace=True)\n",
    "#         first = False\n",
    "#     else:\n",
    "#         df2[file] = df1['Frequency'] / sum(df1['Frequency']) * 100"
   ]
  },
  {
   "cell_type": "code",
   "execution_count": 45,
   "metadata": {},
   "outputs": [
    {
     "data": {
      "image/png": "[encoded data removed]",
      "text/plain": [
       "<Figure size 432x288 with 1 Axes>"
      ]
     },
     "metadata": {
      "needs_background": "light"
     },
     "output_type": "display_data"
    }
   ],
   "source": [
    "df6 = pd.DataFrame(df5).T.stack().reset_index()#.drop(columns=['level_1'])\n",
    "df6 = df6.rename(columns={0: \"Frequency (percentage)\", \"level_1\": \"Digit\"})\n",
    "\n",
    "plt.scatter(x = 'Digit', y = 'Frequency (percentage)', data = df6)\n",
    "# plt.xticks([0,1,2,3,4,5,6,7,8,9])\n",
    "plt.ylim(-1, 60)\n",
    "plt.ylabel(\"Frequency (percentage)\")\n",
    "plt.xlabel(\"Digit\")\n",
    "plt.title(\"Digit frequency of first significant digit\")\n",
    "plt.savefig('Data/fig1a', dpi=300)\n",
    "plt.show()"
   ]
  },
  {
   "cell_type": "code",
   "execution_count": 21,
   "metadata": {},
   "outputs": [
    {
     "data": {
      "image/png": "[encoded data removed]",
      "text/plain": [
       "<Figure size 432x288 with 1 Axes>"
      ]
     },
     "metadata": {
      "needs_background": "light"
     },
     "output_type": "display_data"
    }
   ],
   "source": [
    "plt.boxplot(df7, sym=\"k.\", medianprops=dict(color=\"black\"))\n",
    "plt.xticks([0,1,2,3,4,5,6,7,8,9])\n",
    "plt.ylim(-1, 40)\n",
    "plt.ylabel(\"Standard Deviation\")\n",
    "plt.xlabel(\"Digit\")\n",
    "plt.title(\"Standard deviation of digit frequency of first significant digit\")\n",
    "plt.savefig('Data/fig1a', dpi=300)\n",
    "plt.show()"
   ]
  },
  {
   "cell_type": "code",
   "execution_count": 13,
   "metadata": {},
   "outputs": [],
   "source": [
    "#  df3 = None\n",
    "#  first = True\n",
    "#  i = 1\n",
    "#  for file in files2:\n",
    "#     print(i)\n",
    "#     i += 1\n",
    "#     data = pd.read_csv(file, na_values=['-', 'ND'], header=[0])\n",
    "#     last_digits = [] #\n",
    "#     last_digit_dict = {}\n",
    "#     last_digit_freq = {}\n",
    "\n",
    "#     for column in data:\n",
    "#         nums = data[column]\n",
    "#         last_digit = [first_after_decimal(num) for num in nums]\n",
    "#         #last_digit = [first_digit(num) for num in nums]\n",
    "#         last_digits += last_digit\n",
    "#         last_digit_dict[column] = last_digit\n",
    "\n",
    "#     df1 = pd.Series(last_digits).value_counts().sort_index().reset_index().reset_index(drop=True)\n",
    "\n",
    "\n",
    "#     for key in last_digit_dict.keys():\n",
    "#         frequencies = pd.Series(last_digit_dict[key]).value_counts().sort_index().reset_index().reset_index(drop=True)\n",
    "#         frequencies.columns = ['Element', 'Frequency']\n",
    "#         frequencies['Percentage'] = frequencies['Frequency'] / sum(frequencies['Frequency']) * 100\n",
    "#         last_digit_freq[key] = frequencies\n",
    "#         message = (f\"{key}\"\n",
    "#         f\"{frequencies}\"\n",
    "#         f\"\")\n",
    "#         #print(message)\n",
    "\n",
    "#         df1.columns = ['Element', 'Frequency']\n",
    "#     df1['Percentage'] = df1['Frequency'] / sum(df1['Frequency']) * 100\n",
    "#     if first:\n",
    "#         df3 = df1[['Element', 'Percentage']].copy()\n",
    "#         df3.rename(columns={'Percentage': file}, inplace=True)\n",
    "#         first = False\n",
    "#     else:\n",
    "#         df3[file] = df1['Frequency'] / sum(df1['Frequency']) * 100"
   ]
  },
  {
   "cell_type": "code",
   "execution_count": 33,
   "metadata": {},
   "outputs": [],
   "source": [
    "# df2 = df2.set_index('Element')\n",
    "#df2 = df2.drop([0])\n",
    "#print(df2)"
   ]
  },
  {
   "cell_type": "code",
   "execution_count": 7,
   "metadata": {},
   "outputs": [],
   "source": [
    "# df3 = df3.set_index('Element')\n",
    "# print(df3)"
   ]
  },
  {
   "cell_type": "code",
   "execution_count": 8,
   "metadata": {},
   "outputs": [],
   "source": [
    "# transposed = df2.transpose()[1:].copy()"
   ]
  },
  {
   "cell_type": "code",
   "execution_count": 9,
   "metadata": {},
   "outputs": [],
   "source": [
    "# plt.boxplot(df3, sym=\"r.\", medianprops=dict(color=\"black\"))\n",
    "# plt.xticks([0,1,2,3,4,5,6,7,8,9])\n",
    "# # plt.ylim(0, 45)\n",
    "# plt.ylabel(\"Frequency (percentage)\")\n",
    "# plt.xlabel(\"Digit\")\n",
    "# plt.title(\"Digit frequency of first number after decimal\")\n",
    "# plt.show()"
   ]
  },
  {
   "cell_type": "code",
   "execution_count": 41,
   "metadata": {},
   "outputs": [],
   "source": [
    "# df4 = pd.DataFrame(df2).T.stack().reset_index()#.drop(columns=['level_1'])\n",
    "# df4 = df4.rename(columns={0: \"Frequency (percentage)\", \"level_1\": \"Digit\"})\n",
    "# print(df4)"
   ]
  },
  {
   "cell_type": "code",
   "execution_count": 11,
   "metadata": {},
   "outputs": [],
   "source": [
    "# df5 = pd.DataFrame(df3).T.stack().reset_index()#.drop(columns=['level_1'])\n",
    "# print(df5.head(15))"
   ]
  },
  {
   "cell_type": "code",
   "execution_count": 39,
   "metadata": {},
   "outputs": [],
   "source": [
    "# plt.boxplot(df2, sym=\"k.\", medianprops=dict(color=\"black\"))\n",
    "# plt.xticks([0,1,2,3,4,5,6,7,8,9])\n",
    "# plt.ylim(-1, 60)\n",
    "# plt.ylabel(\"Frequency (percentage)\")\n",
    "# plt.xlabel(\"Digit\")\n",
    "# plt.title(\"Digit frequency of first significant digit\")\n",
    "# plt.savefig('Data/fig1a', dpi=300)\n",
    "# plt.show()"
   ]
  },
  {
   "cell_type": "code",
   "execution_count": 40,
   "metadata": {},
   "outputs": [],
   "source": [
    "# import seaborn as sns\n",
    "# sns.stripplot(x = 'Digit', y = 'Frequency (percentage)', data = df4, jitter=True, color = 'black')\n",
    "# sns.stripplot(x = 'Element', y = 0, data = df5, jitter=True, color = 'blue')\n",
    "# sns.despine()"
   ]
  },
  {
   "cell_type": "code",
   "execution_count": 14,
   "metadata": {},
   "outputs": [],
   "source": [
    "# sns.stripplot(x = 'Element', y = 0, data = df4, jitter=True, color = 'black')\n"
   ]
  },
  {
   "cell_type": "code",
   "execution_count": 15,
   "metadata": {},
   "outputs": [],
   "source": [
    "# sns.stripplot(x = 'Element', y = 0, data = df5, jitter=True, color = 'blue')"
   ]
  }
 ],
 "metadata": {
  "kernelspec": {
   "display_name": "Python 3",
   "language": "python",
   "name": "python3"
  },
  "language_info": {
   "codemirror_mode": {
    "name": "ipython",
    "version": 3
   },
   "file_extension": ".py",
   "mimetype": "text/x-python",
   "name": "python",
   "nbconvert_exporter": "python",
   "pygments_lexer": "ipython3",
   "version": "3.8.3"
  }
 },
 "nbformat": 4,
 "nbformat_minor": 4
}
