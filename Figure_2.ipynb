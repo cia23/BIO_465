{
 "cells": [
  {
   "cell_type": "code",
   "execution_count": 2,
   "metadata": {},
   "outputs": [],
   "source": [
    "import pandas as pd\n",
    "import numpy as np\n",
    "import matplotlib.pyplot as plt\n",
    "\n",
    "# returns a dataframe with the frequency of digits 0-9 from given list of nums\n",
    "def get_frequencies(nums):\n",
    "    freqs_list = [0, 0, 0, 0, 0, 0, 0, 0, 0, 0]\n",
    "    for num in nums:\n",
    "        if not pd.isna(num):\n",
    "            freqs_list[num] += 1\n",
    "    freqs_df = pd.DataFrame(freqs_list, index=range(0, 10), columns=['freq'])\n",
    "\n",
    "    return freqs_df\n",
    "\n",
    "#returns the first digit after the decimal point\n",
    "def first_after_decimal(num):\n",
    "    if pd.isna(num):\n",
    "        return\n",
    "    if num == 0:\n",
    "        return\n",
    "    else:\n",
    "        num = float(num) * 10000000\n",
    "        return(first_digit(abs(num)))\n",
    "#     return(first_digit(abs(num)))\n",
    "#     return int((abs(float(num)) * 10) % 10)"
   ]
  },
  {
   "cell_type": "code",
   "execution_count": 3,
   "metadata": {},
   "outputs": [],
   "source": [
    "def first_digit(num):\n",
    "    if pd.isna(num):\n",
    "        return\n",
    "    v = str(num)[0]\n",
    "    if v == '.':\n",
    "        return\n",
    "#     print(int(str(num)))\n",
    "    return int(str(num)[0])"
   ]
  },
  {
   "cell_type": "code",
   "execution_count": 7,
   "metadata": {},
   "outputs": [],
   "source": [
    "all_files = [\"Data/11.csv\"] # \"Data/5.csv\",\"Data/28.csv\",\"Data/35.csv\",\"Data/53.csv\",\n",
    "# \"Data/71.csv\", \"Data/1.csv\",\n",
    "#, \"Data/14.csv\", \"Data/19_SHORT.csv\", \"Data/22.csv\",\n",
    "         #\"Data/25.csv\", \"Data/32_LETTER.csv\", \"Data/34.csv\", \"Data/36.csv\", \n",
    "         #\"Data/42.csv\", \"Data/43.csv\", \"Data/47.csv\", \"Data/48.csv\", \"Data/49.csv\", \"Data/50.csv\", \n",
    "         #\"Data/51.csv\", \"Data/54.csv\", \"Data/56.csv\", \"Data/59.csv\",  \n",
    "         #\"Data/63.csv\", \"Data/67.csv\", \"Data/68.csv\", \"Data/70.csv\", \"Data/72.csv\", \n",
    "         #\"Data/76.csv\", \"Data/79.csv\", \n",
    "         #\"Data/80.csv\", \"Data/82.csv\", \"Data/91.csv\"\n",
    "# Lone file works, needs to be scaled up"
   ]
  },
  {
   "cell_type": "code",
   "execution_count": 34,
   "metadata": {},
   "outputs": [
    {
     "name": "stdout",
     "output_type": "stream",
     "text": [
      "1\n",
      "        LL.4       LL.8      LL.12      LL.16      LL.20      LL.24  \\\n",
      "0   0.000000   0.000000   0.000000   0.000000   0.000000   0.000000   \n",
      "1  31.728045  23.418319  27.573182  33.522191  34.183192  35.977337   \n",
      "2  21.435316  19.169027  21.624174  17.280453  20.113314  18.413598   \n",
      "3  13.975449  19.357885  14.164306  10.859301  12.653447  10.670444   \n",
      "4   8.970727  12.086874   9.537299   9.159585   7.459868   7.459868   \n",
      "5   5.854580   8.498584   6.610009   6.610009   6.232295   6.610009   \n",
      "6   5.099150   5.949008   6.610009   7.271010   5.949008   5.665722   \n",
      "7   4.060434   4.154863   5.571294   5.571294   4.343720   3.966006   \n",
      "8   3.966006   4.154863   4.249292   5.099150   4.532578   5.665722   \n",
      "9   4.910293   3.210576   4.060434   4.627007   4.532578   5.571294   \n",
      "\n",
      "       LL.28      LL.32      LL.36      LL.40      LL.44      LL.48    Average  \n",
      "0   0.000000   0.000000   0.000000   0.000000   0.000000   0.000000   0.000000  \n",
      "1  34.560907  22.474032  28.895184  38.432483  33.238905  29.839471  31.153604  \n",
      "2  17.091596  21.152030  19.263456  14.069877  21.435316  23.796034  19.570349  \n",
      "3  10.009443  17.847025  15.486308   8.876298  11.520302  16.525024  13.495436  \n",
      "4   8.687441  12.747875  10.103872   7.365439   5.571294   7.837583   8.915644  \n",
      "5   6.704438   8.309726   7.176582   7.365439   6.987724   5.476865   6.869688  \n",
      "6   6.421152   6.610009   5.288008   6.421152   6.232295   4.815864   6.027699  \n",
      "7   5.193579   4.815864   4.343720   5.571294   5.854580   2.644004   4.674221  \n",
      "8   6.043437   2.266289   4.154863   5.854580   5.099150   4.721435   4.650614  \n",
      "9   5.288008   3.777148   5.288008   6.043437   4.060434   4.343720   4.642745  \n"
     ]
    }
   ],
   "source": [
    "df2 = pd.DataFrame(index=range(0, 10))\n",
    "\n",
    "i = 1\n",
    "for file in all_files:\n",
    "    print(i)\n",
    "    i += 1\n",
    "    data = pd.read_csv(file, na_values=['-', 'ND'], header=[0])\n",
    "    last_digits = [] #\n",
    "    last_digit_dict = {}\n",
    "    last_digit_freq = {}\n",
    "\n",
    "    for column in data:\n",
    "        nums = data[column]\n",
    "        last_digit = [first_after_decimal(num) for num in nums]\n",
    "        #last_digit = [first_digit(num) for num in nums]\n",
    "        last_digits += last_digit\n",
    "        last_digit_dict[column] = last_digit\n",
    "        \n",
    "\n",
    "    df1 = get_frequencies(last_digits)\n",
    "    \n",
    "    column_data = {}\n",
    "\n",
    "    for key in last_digit_dict.keys():\n",
    "        frequencies = get_frequencies(last_digit_dict[key])\n",
    "        frequencies['Percentage'] = frequencies['freq'] / sum(frequencies['freq']) * 100\n",
    "        last_digit_freq[key] = frequencies\n",
    "\n",
    "        message = (f\"{key}\"\n",
    "        f\"{frequencies}\"\n",
    "        f\"\")\n",
    "        #print(message)\n",
    "        \n",
    "        column_data[key] = frequencies['Percentage']\n",
    " \n",
    "    \n",
    "    df5 = pd.DataFrame(column_data)\n",
    "    df5['Average'] = df1['freq'] / sum(df1['freq']) * 100\n",
    "    print(df5)\n",
    "    df5 = df5.drop([0])\n",
    "        \n",
    "    df1['Percentage'] = df1['freq'] / sum(df1['freq']) * 100\n",
    "    df2[file] = df1['freq'] / sum(df1['freq']) * 100\n",
    "\n",
    "    \n",
    "    \n",
    "\n",
    "#         df1.columns = ['Element', 'Frequency']\n",
    "#     df1['Percentage'] = df1['Frequency'] / sum(df1['Frequency']) * 100\n",
    "#     if first:\n",
    "#         df2 = df1[['Element', 'Percentage']].copy()\n",
    "#         df2.rename(columns={'Percentage': file}, inplace=True)\n",
    "#         first = False\n",
    "#     else:\n",
    "#         df2[file] = df1['Frequency'] / sum(df1['Frequency']) * 100"
   ]
  },
  {
   "cell_type": "code",
   "execution_count": 45,
   "metadata": {},
   "outputs": [
    {
     "data": {
      "image/png": "[encoded data removed]",
      "text/plain": [
       "<Figure size 432x288 with 1 Axes>"
      ]
     },
     "metadata": {
      "needs_background": "light"
     },
     "output_type": "display_data"
    }
   ],
   "source": [
    "df6 = pd.DataFrame(df5).T.stack().reset_index()#.drop(columns=['level_1'])\n",
    "df6 = df6.rename(columns={0: \"Frequency (percentage)\", \"level_1\": \"Digit\"})\n",
    "\n",
    "plt.scatter(x = 'Digit', y = 'Frequency (percentage)', data = df6)\n",
    "# plt.xticks([0,1,2,3,4,5,6,7,8,9])\n",
    "plt.ylim(-1, 60)\n",
    "plt.ylabel(\"Frequency (percentage)\")\n",
    "plt.xlabel(\"Digit\")\n",
    "plt.title(\"Digit frequency of first significant digit\")\n",
    "plt.savefig('Data/fig1a', dpi=300)\n",
    "plt.show()"
   ]
  },
  {
   "cell_type": "code",
   "execution_count": 43,
   "metadata": {},
   "outputs": [
    {
     "name": "stdout",
     "output_type": "stream",
     "text": [
      "1    4.673896\n",
      "2    2.501061\n",
      "3    3.164291\n",
      "4    1.950305\n",
      "5    0.850841\n",
      "6    0.682933\n",
      "7    0.893753\n",
      "8    0.985205\n",
      "9    0.780427\n",
      "dtype: float64\n"
     ]
    }
   ],
   "source": [
    "print(df5.std(axis = 1))"
   ]
  },
  {
   "cell_type": "code",
   "execution_count": 13,
   "metadata": {},
   "outputs": [],
   "source": [
    "#  df3 = None\n",
    "#  first = True\n",
    "#  i = 1\n",
    "#  for file in files2:\n",
    "#     print(i)\n",
    "#     i += 1\n",
    "#     data = pd.read_csv(file, na_values=['-', 'ND'], header=[0])\n",
    "#     last_digits = [] #\n",
    "#     last_digit_dict = {}\n",
    "#     last_digit_freq = {}\n",
    "\n",
    "#     for column in data:\n",
    "#         nums = data[column]\n",
    "#         last_digit = [first_after_decimal(num) for num in nums]\n",
    "#         #last_digit = [first_digit(num) for num in nums]\n",
    "#         last_digits += last_digit\n",
    "#         last_digit_dict[column] = last_digit\n",
    "\n",
    "#     df1 = pd.Series(last_digits).value_counts().sort_index().reset_index().reset_index(drop=True)\n",
    "\n",
    "\n",
    "#     for key in last_digit_dict.keys():\n",
    "#         frequencies = pd.Series(last_digit_dict[key]).value_counts().sort_index().reset_index().reset_index(drop=True)\n",
    "#         frequencies.columns = ['Element', 'Frequency']\n",
    "#         frequencies['Percentage'] = frequencies['Frequency'] / sum(frequencies['Frequency']) * 100\n",
    "#         last_digit_freq[key] = frequencies\n",
    "#         message = (f\"{key}\"\n",
    "#         f\"{frequencies}\"\n",
    "#         f\"\")\n",
    "#         #print(message)\n",
    "\n",
    "#         df1.columns = ['Element', 'Frequency']\n",
    "#     df1['Percentage'] = df1['Frequency'] / sum(df1['Frequency']) * 100\n",
    "#     if first:\n",
    "#         df3 = df1[['Element', 'Percentage']].copy()\n",
    "#         df3.rename(columns={'Percentage': file}, inplace=True)\n",
    "#         first = False\n",
    "#     else:\n",
    "#         df3[file] = df1['Frequency'] / sum(df1['Frequency']) * 100"
   ]
  },
  {
   "cell_type": "code",
   "execution_count": 33,
   "metadata": {},
   "outputs": [],
   "source": [
    "# df2 = df2.set_index('Element')\n",
    "#df2 = df2.drop([0])\n",
    "#print(df2)"
   ]
  },
  {
   "cell_type": "code",
   "execution_count": 7,
   "metadata": {},
   "outputs": [],
   "source": [
    "# df3 = df3.set_index('Element')\n",
    "# print(df3)"
   ]
  },
  {
   "cell_type": "code",
   "execution_count": 8,
   "metadata": {},
   "outputs": [],
   "source": [
    "# transposed = df2.transpose()[1:].copy()"
   ]
  },
  {
   "cell_type": "code",
   "execution_count": 9,
   "metadata": {},
   "outputs": [],
   "source": [
    "# plt.boxplot(df3, sym=\"r.\", medianprops=dict(color=\"black\"))\n",
    "# plt.xticks([0,1,2,3,4,5,6,7,8,9])\n",
    "# # plt.ylim(0, 45)\n",
    "# plt.ylabel(\"Frequency (percentage)\")\n",
    "# plt.xlabel(\"Digit\")\n",
    "# plt.title(\"Digit frequency of first number after decimal\")\n",
    "# plt.show()"
   ]
  },
  {
   "cell_type": "code",
   "execution_count": 41,
   "metadata": {},
   "outputs": [],
   "source": [
    "# df4 = pd.DataFrame(df2).T.stack().reset_index()#.drop(columns=['level_1'])\n",
    "# df4 = df4.rename(columns={0: \"Frequency (percentage)\", \"level_1\": \"Digit\"})\n",
    "# print(df4)"
   ]
  },
  {
   "cell_type": "code",
   "execution_count": 11,
   "metadata": {},
   "outputs": [],
   "source": [
    "# df5 = pd.DataFrame(df3).T.stack().reset_index()#.drop(columns=['level_1'])\n",
    "# print(df5.head(15))"
   ]
  },
  {
   "cell_type": "code",
   "execution_count": 39,
   "metadata": {},
   "outputs": [],
   "source": [
    "# plt.boxplot(df2, sym=\"k.\", medianprops=dict(color=\"black\"))\n",
    "# plt.xticks([0,1,2,3,4,5,6,7,8,9])\n",
    "# plt.ylim(-1, 60)\n",
    "# plt.ylabel(\"Frequency (percentage)\")\n",
    "# plt.xlabel(\"Digit\")\n",
    "# plt.title(\"Digit frequency of first significant digit\")\n",
    "# plt.savefig('Data/fig1a', dpi=300)\n",
    "# plt.show()"
   ]
  },
  {
   "cell_type": "code",
   "execution_count": 40,
   "metadata": {},
   "outputs": [],
   "source": [
    "# import seaborn as sns\n",
    "# sns.stripplot(x = 'Digit', y = 'Frequency (percentage)', data = df4, jitter=True, color = 'black')\n",
    "# sns.stripplot(x = 'Element', y = 0, data = df5, jitter=True, color = 'blue')\n",
    "# sns.despine()"
   ]
  },
  {
   "cell_type": "code",
   "execution_count": 14,
   "metadata": {},
   "outputs": [],
   "source": [
    "# sns.stripplot(x = 'Element', y = 0, data = df4, jitter=True, color = 'black')\n"
   ]
  },
  {
   "cell_type": "code",
   "execution_count": 15,
   "metadata": {},
   "outputs": [],
   "source": [
    "# sns.stripplot(x = 'Element', y = 0, data = df5, jitter=True, color = 'blue')"
   ]
  }
 ],
 "metadata": {
  "kernelspec": {
   "display_name": "Python 3",
   "language": "python",
   "name": "python3"
  },
  "language_info": {
   "codemirror_mode": {
    "name": "ipython",
    "version": 3
   },
   "file_extension": ".py",
   "mimetype": "text/x-python",
   "name": "python",
   "nbconvert_exporter": "python",
   "pygments_lexer": "ipython3",
   "version": "3.8.3"
  }
 },
 "nbformat": 4,
 "nbformat_minor": 4
}
