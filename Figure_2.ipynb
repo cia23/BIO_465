{
 "cells": [
  {
   "cell_type": "code",
   "execution_count": 12,
   "metadata": {},
   "outputs": [],
   "source": [
    "import pandas as pd\n",
    "import numpy as np\n",
    "import matplotlib.pyplot as plt\n",
    "\n",
    "# returns a dataframe with the frequency of digits 0-9 from given list of nums\n",
    "def get_frequencies(nums):\n",
    "    freqs_list = [0, 0, 0, 0, 0, 0, 0, 0, 0, 0]\n",
    "    for num in nums:\n",
    "        if not pd.isna(num):\n",
    "            freqs_list[num] += 1\n",
    "    freqs_df = pd.DataFrame(freqs_list, index=range(0, 10), columns=['freq'])\n",
    "\n",
    "    return freqs_df\n",
    "\n",
    "#returns the first digit after the decimal point\n",
    "def first_after_decimal(num):\n",
    "    if pd.isna(num):\n",
    "        return\n",
    "    if num == 0:\n",
    "        return\n",
    "    else:\n",
    "        num = float(num) * 10000000\n",
    "        return(first_digit(abs(num)))\n",
    "#     return(first_digit(abs(num)))\n",
    "#     return int((abs(float(num)) * 10) % 10)"
   ]
  },
  {
   "cell_type": "code",
   "execution_count": 13,
   "metadata": {},
   "outputs": [],
   "source": [
    "def first_digit(num):\n",
    "    if pd.isna(num):\n",
    "        return\n",
    "    v = str(num)[0]\n",
    "    if v == '.':\n",
    "        return\n",
    "#     print(int(str(num)))\n",
    "    return int(str(num)[0])"
   ]
  },
  {
   "cell_type": "code",
   "execution_count": 14,
   "metadata": {},
   "outputs": [],
   "source": [
    "all_files = [\"Data/11.csv\"] # \"Data/5.csv\",\"Data/28.csv\",\"Data/35.csv\",\"Data/53.csv\",\n",
    "\n",
    "#  \"Data/71.csv\", \"Data/1.csv\", \"Data/14.csv\", \"Data/19_SHORT.csv\", \"Data/22.csv\",\n",
    "#             \"Data/25.csv\", \"Data/32_LETTER.csv\", \"Data/34.csv\", \"Data/36.csv\",\n",
    "#             \"Data/42.csv\", \"Data/43.csv\", \"Data/47.csv\", \"Data/48.csv\", \"Data/49.csv\", \"Data/50.csv\",\n",
    "#             \"Data/51.csv\", \"Data/54.csv\", \"Data/56.csv\", \"Data/59.csv\",\n",
    "#             \"Data/63.csv\", \"Data/67.csv\", \"Data/68.csv\",\n",
    "#             \"Data/70.csv\", \"Data/72.csv\", \"Data/76.csv\", \"Data/79.csv\",\n",
    "#             \"Data/80.csv\", \"Data/82.csv\", \"Data/91.csv\""
   ]
  },
  {
   "cell_type": "code",
   "execution_count": 15,
   "metadata": {},
   "outputs": [
    {
     "name": "stdout",
     "output_type": "stream",
     "text": [
      "1\n",
      "        LL.4       LL.8      LL.12      LL.16      LL.20      LL.24  \\\n",
      "0   0.000000   0.000000   0.000000   0.000000   0.000000   0.000000   \n",
      "1  31.728045  23.418319  27.573182  33.522191  34.183192  35.977337   \n",
      "2  21.435316  19.169027  21.624174  17.280453  20.113314  18.413598   \n",
      "3  13.975449  19.357885  14.164306  10.859301  12.653447  10.670444   \n",
      "4   8.970727  12.086874   9.537299   9.159585   7.459868   7.459868   \n",
      "5   5.854580   8.498584   6.610009   6.610009   6.232295   6.610009   \n",
      "6   5.099150   5.949008   6.610009   7.271010   5.949008   5.665722   \n",
      "7   4.060434   4.154863   5.571294   5.571294   4.343720   3.966006   \n",
      "8   3.966006   4.154863   4.249292   5.099150   4.532578   5.665722   \n",
      "9   4.910293   3.210576   4.060434   4.627007   4.532578   5.571294   \n",
      "\n",
      "       LL.28      LL.32      LL.36      LL.40      LL.44      LL.48  \n",
      "0   0.000000   0.000000   0.000000   0.000000   0.000000   0.000000  \n",
      "1  34.560907  22.474032  28.895184  38.432483  33.238905  29.839471  \n",
      "2  17.091596  21.152030  19.263456  14.069877  21.435316  23.796034  \n",
      "3  10.009443  17.847025  15.486308   8.876298  11.520302  16.525024  \n",
      "4   8.687441  12.747875  10.103872   7.365439   5.571294   7.837583  \n",
      "5   6.704438   8.309726   7.176582   7.365439   6.987724   5.476865  \n",
      "6   6.421152   6.610009   5.288008   6.421152   6.232295   4.815864  \n",
      "7   5.193579   4.815864   4.343720   5.571294   5.854580   2.644004  \n",
      "8   6.043437   2.266289   4.154863   5.854580   5.099150   4.721435  \n",
      "9   5.288008   3.777148   5.288008   6.043437   4.060434   4.343720  \n",
      "   Data/11.csv\n",
      "0     0.000000\n",
      "1    31.153604\n",
      "2    19.570349\n",
      "3    13.495436\n",
      "4     8.915644\n",
      "5     6.869688\n",
      "6     6.027699\n",
      "7     4.674221\n",
      "8     4.650614\n",
      "9     4.642745\n"
     ]
    }
   ],
   "source": [
    "df2 = pd.DataFrame(index=range(0, 10))\n",
    "\n",
    "i = 1\n",
    "std_devs = {}\n",
    "\n",
    "for file in all_files:\n",
    "    print(i)\n",
    "    i += 1\n",
    "    data = pd.read_csv(file, na_values=['-', 'ND'], header=[0])\n",
    "    last_digits = [] #\n",
    "    last_digit_dict = {}\n",
    "    last_digit_freq = {}\n",
    "\n",
    "    for column in data:\n",
    "        nums = data[column]\n",
    "        last_digit = [first_after_decimal(num) for num in nums]\n",
    "        #last_digit = [first_digit(num) for num in nums]\n",
    "        last_digits += last_digit\n",
    "        last_digit_dict[column] = last_digit\n",
    "        \n",
    "\n",
    "    df1 = get_frequencies(last_digits)\n",
    "    \n",
    "    column_data = {}\n",
    "    keys = []\n",
    "\n",
    "    for key in last_digit_dict.keys():\n",
    "        frequencies = get_frequencies(last_digit_dict[key])\n",
    "        frequencies['Percentage'] = frequencies['freq'] / sum(frequencies['freq']) * 100\n",
    "        last_digit_freq[key] = frequencies\n",
    "\n",
    "        message = (f\"{key}\"\n",
    "        f\"{frequencies}\"\n",
    "        f\"\")\n",
    "        #print(message)\n",
    "        \n",
    "        column_data[key] = frequencies['Percentage']\n",
    "        keys.append(key)\n",
    " \n",
    "    \n",
    "    df5 = pd.DataFrame(column_data)\n",
    "    #df5['Average'] = df1['freq'] / sum(df1['freq']) * 100\n",
    "    print(df5)\n",
    "    df5 = df5.drop([0])\n",
    "    \n",
    "    std_devs[file] = df5.std(axis = 1)\n",
    "    \n",
    "# print(std_devs)\n",
    "# df7 = pd.DataFrame(std_devs)\n",
    "# print(df7)\n",
    "        \n",
    "    df1['Percentage'] = df1['freq'] / sum(df1['freq']) * 100\n",
    "    df2[file] = df1['freq'] / sum(df1['freq']) * 100\n",
    "    print(df2)\n",
    "\n",
    "\n",
    "#         df1.columns = ['Element', 'Frequency']\n",
    "#     df1['Percentage'] = df1['Frequency'] / sum(df1['Frequency']) * 100\n",
    "#     if first:\n",
    "#         df2 = df1[['Element', 'Percentage']].copy()\n",
    "#         df2.rename(columns={'Percentage': file}, inplace=True)\n",
    "#         first = False\n",
    "#     else:\n",
    "#         df2[file] = df1['Frequency'] / sum(df1['Frequency']) * 100"
   ]
  },
  {
   "cell_type": "code",
   "execution_count": 16,
   "metadata": {},
   "outputs": [
    {
     "name": "stdout",
     "output_type": "stream",
     "text": [
      "    level_0  Digit  percentage\n",
      "0      LL.4      1   31.728045\n",
      "1      LL.4      2   21.435316\n",
      "2      LL.4      3   13.975449\n",
      "3      LL.4      4    8.970727\n",
      "4      LL.4      5    5.854580\n",
      "..      ...    ...         ...\n",
      "103   LL.48      5    5.476865\n",
      "104   LL.48      6    4.815864\n",
      "105   LL.48      7    2.644004\n",
      "106   LL.48      8    4.721435\n",
      "107   LL.48      9    4.343720\n",
      "\n",
      "[108 rows x 3 columns]\n"
     ]
    },
    {
     "data": {
      "image/png": "[encoded data removed]",
      "text/plain": [
       "<Figure size 432x288 with 1 Axes>"
      ]
     },
     "metadata": {
      "needs_background": "light"
     },
     "output_type": "display_data"
    }
   ],
   "source": [
    "df6 = pd.DataFrame(df5).T.stack().reset_index()#.drop(columns=['level_1'])\n",
    "df6 = df6.rename(columns={0: \"percentage\", \"level_1\": \"Digit\"})\n",
    "print(df6)\n",
    "\n",
    "plt.scatter(x = 'Digit', y = 'percentage', data = df6)\n",
    "# plt.xticks([0,1,2,3,4,5,6,7,8,9])\n",
    "plt.ylim(-1, 60)\n",
    "plt.ylabel(\"Frequency (percentage)\")\n",
    "plt.xlabel(\"Digit\")\n",
    "plt.title(\"Digit frequency of first significant digit\")\n",
    "plt.savefig('Data/fig1a', dpi=300)\n",
    "plt.show()"
   ]
  },
  {
   "cell_type": "code",
   "execution_count": 17,
   "metadata": {},
   "outputs": [
    {
     "name": "stdout",
     "output_type": "stream",
     "text": [
      "Digit level_0          1          2          3          4         5         6  \\\n",
      "0       LL.12  27.573182  21.624174  14.164306   9.537299  6.610009  6.610009   \n",
      "1       LL.16  33.522191  17.280453  10.859301   9.159585  6.610009  7.271010   \n",
      "2       LL.20  34.183192  20.113314  12.653447   7.459868  6.232295  5.949008   \n",
      "3       LL.24  35.977337  18.413598  10.670444   7.459868  6.610009  5.665722   \n",
      "4       LL.28  34.560907  17.091596  10.009443   8.687441  6.704438  6.421152   \n",
      "5       LL.32  22.474032  21.152030  17.847025  12.747875  8.309726  6.610009   \n",
      "6       LL.36  28.895184  19.263456  15.486308  10.103872  7.176582  5.288008   \n",
      "7        LL.4  31.728045  21.435316  13.975449   8.970727  5.854580  5.099150   \n",
      "8       LL.40  38.432483  14.069877   8.876298   7.365439  7.365439  6.421152   \n",
      "9       LL.44  33.238905  21.435316  11.520302   5.571294  6.987724  6.232295   \n",
      "10      LL.48  29.839471  23.796034  16.525024   7.837583  5.476865  4.815864   \n",
      "11       LL.8  23.418319  19.169027  19.357885  12.086874  8.498584  5.949008   \n",
      "\n",
      "Digit         7         8         9  \n",
      "0      5.571294  4.249292  4.060434  \n",
      "1      5.571294  5.099150  4.627007  \n",
      "2      4.343720  4.532578  4.532578  \n",
      "3      3.966006  5.665722  5.571294  \n",
      "4      5.193579  6.043437  5.288008  \n",
      "5      4.815864  2.266289  3.777148  \n",
      "6      4.343720  4.154863  5.288008  \n",
      "7      4.060434  3.966006  4.910293  \n",
      "8      5.571294  5.854580  6.043437  \n",
      "9      5.854580  5.099150  4.060434  \n",
      "10     2.644004  4.721435  4.343720  \n",
      "11     4.154863  4.154863  3.210576  \n"
     ]
    }
   ],
   "source": [
    "df6 = df6.astype({'Digit': str})\n",
    "\n",
    "df6 = pd.pivot_table(df6, values = 'percentage', index = 'level_0', columns = 'Digit').reset_index()\n",
    "print(df6)"
   ]
  },
  {
   "cell_type": "code",
   "execution_count": 18,
   "metadata": {},
   "outputs": [],
   "source": [
    "# plt.boxplot(df7, sym=\"k.\", medianprops=dict(color=\"black\"))\n",
    "# plt.xticks([0,1,2,3,4,5,6,7,8,9])\n",
    "# plt.ylim(-1, 40)\n",
    "# plt.ylabel(\"Standard Deviation\")\n",
    "# plt.xlabel(\"Digit\")\n",
    "# plt.title(\"Standard deviation of digit frequency of first significant digit\")\n",
    "# plt.savefig('Data/fig1a', dpi=300)\n",
    "# plt.show()"
   ]
  },
  {
   "cell_type": "code",
   "execution_count": 19,
   "metadata": {},
   "outputs": [
    {
     "name": "stdout",
     "output_type": "stream",
     "text": [
      "['1', '2', '3', '4', '5', '6', '7', '8', '9']\n",
      "[[-0.76604646  0.82118116  0.21138066  0.31874798 -0.30520252  0.85266132\n",
      "   1.00371403 -0.40734876 -0.74614367]\n",
      " [ 0.5067692  -0.91556979 -0.8330885   0.12507832 -0.30520252  1.82054715\n",
      "   1.00371403  0.45527215 -0.02016605]\n",
      " [ 0.64819316  0.21709387 -0.26609095 -0.74643514 -0.74913345 -0.1152245\n",
      "  -0.36978938 -0.11980846 -0.14116232]\n",
      " [ 1.0320582  -0.46250433 -0.89277245 -0.74643514 -0.30520252 -0.53003271\n",
      "  -0.79240582  1.03035275  1.18979667]\n",
      " [ 0.72900685 -0.99108071 -1.10166629 -0.11700875 -0.19421978  0.57612252\n",
      "   0.5810976   1.41373982  0.82680785]\n",
      " [-1.85703131  0.63240388  1.37521773  1.96494007  1.69248668  0.85266132\n",
      "   0.15848116 -2.42013088 -1.10913248]\n",
      " [-0.48319854 -0.12270523  0.62916833  0.60925246  0.36069388 -1.08311033\n",
      "  -0.36978938 -0.50319553  0.82680785]\n",
      " [ 0.12290416  0.74567024  0.15169671  0.02824349 -1.19306438 -1.35964914\n",
      "  -0.68675171 -0.69488907  0.34282277]\n",
      " [ 1.5573472  -2.19925528 -1.45977    -0.79485255  0.58265935  0.57612252\n",
      "   1.00371403  1.22204629  1.79477802]\n",
      " [ 0.44615893  0.74567024 -0.62419467 -1.71478343  0.13872842  0.29958371\n",
      "   1.32067636  0.45527215 -0.74614367]\n",
      " [-0.28116431  1.68955663  0.95743007 -0.55276548 -1.63699531 -1.77445735\n",
      "  -2.27156334  0.07188508 -0.38315486]\n",
      " [-1.65499708 -0.16046069  1.85268935  1.62601817  1.91445215 -0.1152245\n",
      "  -0.5810976  -0.50319553 -1.83511011]]\n",
      "    principal component 1  principal component 2 level_0\n",
      "0                0.939194              -0.746471   LL.12\n",
      "1               -1.386272              -1.723967   LL.16\n",
      "2               -0.587142               0.891847   LL.20\n",
      "3               -2.015997               1.024984   LL.24\n",
      "4               -2.226770              -0.731371   LL.28\n",
      "5                3.977804              -1.884234   LL.32\n",
      "6                0.806299               0.469234   LL.36\n",
      "7                0.400836               1.949060    LL.4\n",
      "8               -3.563948              -1.459609   LL.40\n",
      "9               -1.015219              -0.251079   LL.44\n",
      "10               1.186731               3.667139   LL.48\n",
      "11               3.484483              -1.205532    LL.8\n"
     ]
    }
   ],
   "source": [
    "from sklearn.preprocessing import StandardScaler\n",
    "from sklearn.decomposition import PCA\n",
    "\n",
    "features = ['1', '2', '3', '4', '5', '6', '7', '8', '9']\n",
    "print(features)\n",
    "\n",
    "# Separating out the features\n",
    "x = df6.loc[:, features].values\n",
    "# # Separating out the target\n",
    "y = df6.loc[:,['level_0']].values\n",
    "# # # Standardizing the features\n",
    "\n",
    "x = StandardScaler().fit_transform(x)\n",
    "print(x)\n",
    "\n",
    "pca = PCA(n_components=2)\n",
    "principalComponents = pca.fit_transform(x)\n",
    "principalDf = pd.DataFrame(data = principalComponents, columns = ['principal component 1', 'principal component 2'])\n",
    "\n",
    "finalDf = pd.concat([principalDf, df6[['level_0']]], axis = 1)\n",
    "print(finalDf)"
   ]
  },
  {
   "cell_type": "code",
   "execution_count": 21,
   "metadata": {},
   "outputs": [
    {
     "data": {
      "image/png": "[encoded data removed]",
      "text/plain": [
       "<Figure size 576x576 with 1 Axes>"
      ]
     },
     "metadata": {
      "needs_background": "light"
     },
     "output_type": "display_data"
    }
   ],
   "source": [
    "fig = plt.figure(figsize = (8,8))\n",
    "ax = fig.add_subplot(1,1,1) \n",
    "ax.set_xlabel('Principal Component 1', fontsize = 15)\n",
    "ax.set_ylabel('Principal Component 2', fontsize = 15)\n",
    "ax.set_title('2 component PCA', fontsize = 20)\n",
    "\n",
    "targets = keys\n",
    "for target in targets:\n",
    "    indicesToKeep = finalDf['level_0'] == target\n",
    "    ax.scatter(finalDf.loc[indicesToKeep, 'principal component 1']\n",
    "               , finalDf.loc[indicesToKeep, 'principal component 2']\n",
    "               , s = 50)\n",
    "ax.legend(targets)\n",
    "ax.grid()"
   ]
  }
 ],
 "metadata": {
  "kernelspec": {
   "display_name": "Python 3",
   "language": "python",
   "name": "python3"
  },
  "language_info": {
   "codemirror_mode": {
    "name": "ipython",
    "version": 3
   },
   "file_extension": ".py",
   "mimetype": "text/x-python",
   "name": "python",
   "nbconvert_exporter": "python",
   "pygments_lexer": "ipython3",
   "version": "3.8.3"
  }
 },
 "nbformat": 4,
 "nbformat_minor": 4
}
