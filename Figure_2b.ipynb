{
 "cells": [
  {
   "cell_type": "code",
   "execution_count": 1,
   "metadata": {},
   "outputs": [],
   "source": [
    "import pandas as pd\n",
    "import numpy as np\n",
    "import matplotlib.pyplot as plt\n",
    "\n",
    "# returns a dataframe with the frequency of digits 0-9 from given list of nums\n",
    "def get_frequencies(nums):\n",
    "    freqs_list = [0, 0, 0, 0, 0, 0, 0, 0, 0, 0]\n",
    "    for num in nums:\n",
    "        if not pd.isna(num):\n",
    "            freqs_list[num] += 1\n",
    "    freqs_df = pd.DataFrame(freqs_list, index=range(0, 10), columns=['freq'])\n",
    "\n",
    "    return freqs_df\n",
    "\n",
    "#returns the first digit after the decimal point\n",
    "def first_after_decimal(num):\n",
    "    if pd.isna(num):\n",
    "        return\n",
    "    if num == 0:\n",
    "        return\n",
    "    else:\n",
    "        num = float(num) * 10000000\n",
    "        return(first_digit(abs(num)))\n",
    "#     return(first_digit(abs(num)))\n",
    "#     return int((abs(float(num)) * 10) % 10)"
   ]
  },
  {
   "cell_type": "code",
   "execution_count": 2,
   "metadata": {},
   "outputs": [],
   "source": [
    "def first_digit(num):\n",
    "    if pd.isna(num):\n",
    "        return\n",
    "    v = str(num)[0]\n",
    "    if v == '.':\n",
    "        return\n",
    "#     print(int(str(num)))\n",
    "    return int(str(num)[0])"
   ]
  },
  {
   "cell_type": "code",
   "execution_count": 242,
   "metadata": {},
   "outputs": [],
   "source": [
    "all_files = [\"Data/50.csv\"] # \"Data/47.csv\", \"Data/48.csv\" #run each of the three files one at a time\n"
   ]
  },
  {
   "cell_type": "code",
   "execution_count": 243,
   "metadata": {},
   "outputs": [
    {
     "name": "stdout",
     "output_type": "stream",
     "text": [
      "1\n",
      "   Intensity  Intensity LEIBR  Intensity LEIDO  Intensity LEIIN  \\\n",
      "0   0.000000         0.000000         0.000000         0.000000   \n",
      "1  27.485929        30.686406        33.564815        29.155673   \n",
      "2  20.168856        18.304172        16.319444        16.886544   \n",
      "3  12.711069        12.247645        10.879630        11.609499   \n",
      "4   8.818011         9.017497        10.995370         8.707124   \n",
      "5   8.442777         7.671602         7.175926         9.234828   \n",
      "6   5.816135         6.325707         6.018519         6.332454   \n",
      "7   6.097561         6.325707         6.944444         7.651715   \n",
      "8   5.769231         5.652759         5.092593         5.145119   \n",
      "9   4.690432         3.768506         3.009259         5.277045   \n",
      "\n",
      "   Intensity LEIAM  Intensity LEIMA  Intensity LEITA  Intensity LEITR  \n",
      "0         0.000000         0.000000         0.000000         0.000000  \n",
      "1        25.566343        31.207289        29.337094        32.374101  \n",
      "2        14.239482        17.198178        22.990127        15.647482  \n",
      "3        14.886731        13.553531        10.719323        12.769784  \n",
      "4        10.194175         9.111617         7.616361         7.913669  \n",
      "5         7.928803         7.289294         9.026798         8.453237  \n",
      "6         5.339806         6.492027         5.641749         6.294964  \n",
      "7         6.472492         6.264237         7.052186         6.654676  \n",
      "8         8.899676         4.669704         2.961918         7.194245  \n",
      "9         6.472492         4.214123         4.654443         2.697842  \n",
      "   Data/47.csv\n",
      "0     0.000000\n",
      "1    29.553596\n",
      "2    18.241940\n",
      "3    12.427666\n",
      "4     9.052080\n",
      "5     8.170295\n",
      "6     6.007165\n",
      "7     6.572058\n",
      "8     5.580050\n",
      "9     4.395150\n"
     ]
    }
   ],
   "source": [
    "df2 = pd.DataFrame(index=range(0, 10))\n",
    "\n",
    "i = 1\n",
    "std_devs = {}\n",
    "\n",
    "for file in all_files:\n",
    "    print(i)\n",
    "    i += 1\n",
    "    data = pd.read_csv(file, na_values=['-', 'ND'], header=[0])\n",
    "    last_digits = [] #\n",
    "    last_digit_dict = {}\n",
    "    last_digit_freq = {}\n",
    "\n",
    "    for column in data:\n",
    "        nums = data[column]\n",
    "        last_digit = [first_after_decimal(num) for num in nums]\n",
    "        #last_digit = [first_digit(num) for num in nums]\n",
    "        last_digits += last_digit\n",
    "        last_digit_dict[column] = last_digit\n",
    "        \n",
    "\n",
    "    df1 = get_frequencies(last_digits)\n",
    "    \n",
    "    column_data = {}\n",
    "    keys = []\n",
    "    \n",
    "\n",
    "    for key in last_digit_dict.keys():\n",
    "        frequencies = get_frequencies(last_digit_dict[key])\n",
    "        frequencies['Percentage'] = frequencies['freq'] / sum(frequencies['freq']) * 100\n",
    "        last_digit_freq[key] = frequencies\n",
    "\n",
    "        message = (f\"{key}\"\n",
    "        f\"{frequencies}\"\n",
    "        f\"\")\n",
    "        #print(message)\n",
    "        \n",
    "        column_data[key] = frequencies['Percentage']\n",
    "        keys.append(key)\n",
    " \n",
    "\n",
    "    \n",
    "    df5 = pd.DataFrame(column_data)\n",
    "    #df5['Average'] = df1['freq'] / sum(df1['freq']) * 100\n",
    "    print(df5)\n",
    "    df5 = df5.drop([0])\n",
    "    \n",
    "    std_devs[file] = df5.std(axis = 1)\n",
    "        \n",
    "    df1['Percentage'] = df1['freq'] / sum(df1['freq']) * 100\n",
    "    df2[file] = df1['freq'] / sum(df1['freq']) * 100\n",
    "    print(df2)\n"
   ]
  },
  {
   "cell_type": "code",
   "execution_count": 244,
   "metadata": {},
   "outputs": [
    {
     "name": "stdout",
     "output_type": "stream",
     "text": [
      "            level_0  Digit  percentage\n",
      "0         Intensity      1   27.485929\n",
      "1         Intensity      2   20.168856\n",
      "2         Intensity      3   12.711069\n",
      "3         Intensity      4    8.818011\n",
      "4         Intensity      5    8.442777\n",
      "..              ...    ...         ...\n",
      "67  Intensity LEITR      5    8.453237\n",
      "68  Intensity LEITR      6    6.294964\n",
      "69  Intensity LEITR      7    6.654676\n",
      "70  Intensity LEITR      8    7.194245\n",
      "71  Intensity LEITR      9    2.697842\n",
      "\n",
      "[72 rows x 3 columns]\n"
     ]
    },
    {
     "data": {
      "image/png": "[encoded data removed]",
      "text/plain": [
       "<Figure size 432x288 with 1 Axes>"
      ]
     },
     "metadata": {
      "needs_background": "light"
     },
     "output_type": "display_data"
    }
   ],
   "source": [
    "df6 = pd.DataFrame(df5).T.stack().reset_index()#.drop(columns=['level_1'])\n",
    "df6 = df6.rename(columns={0: \"percentage\", \"level_1\": \"Digit\"})\n",
    "print(df6)\n",
    "\n",
    "plt.scatter(x = 'Digit', y = 'percentage', data = df6, color = 'black')\n",
    "# plt.xticks([0,1,2,3,4,5,6,7,8,9])\n",
    "plt.ylim(-3, 101)\n",
    "plt.ylabel(\"Frequency (%)\")\n",
    "plt.xlabel(\"Digit\")\n",
    "plt.title(\"Digit frequency of first significant digit\")\n",
    "plt.savefig('Data/fig1a', dpi=300)\n",
    "plt.show()"
   ]
  },
  {
   "cell_type": "code",
   "execution_count": 220,
   "metadata": {},
   "outputs": [
    {
     "name": "stdout",
     "output_type": "stream",
     "text": [
      "Digit  level_0          1          2          3         4         5         6  \\\n",
      "0      120R_p1  32.635983  27.615063  17.573222  4.602510  5.020921  3.347280   \n",
      "1      120R_p3  33.891213  25.104603  19.665272  2.928870  4.602510  1.673640   \n",
      "2      120R_p5  29.288703  21.757322  18.828452  5.857741  4.184100  5.857741   \n",
      "3       30R_p3  27.196653  23.012552  23.012552  8.368201  3.765690  5.020921   \n",
      "4       30R_p5  31.799163  25.941423  19.665272  5.439331  5.439331  2.092050   \n",
      "5       45I_p1  29.707113  23.849372  16.736402  7.112971  6.276151  2.092050   \n",
      "6       45I_p3  30.125523  18.828452  22.175732  5.857741  5.020921  6.694561   \n",
      "7       45I_p5  34.309623  23.012552  17.154812  9.623431  5.020921  2.092050   \n",
      "8      Ctrl_p1  36.820084  20.083682  18.410042  7.531381  3.765690  4.184100   \n",
      "9      Ctrl_p3  98.326360   0.000000   1.255230  0.000000  0.000000  0.000000   \n",
      "10     Ctrl_p5  27.615063  26.359833  17.991632  8.368201  6.276151  3.765690   \n",
      "\n",
      "Digit         7         8        9  \n",
      "0      3.347280  2.928870  2.92887  \n",
      "1      5.857741  3.347280  2.92887  \n",
      "2      6.694561  5.020921  2.51046  \n",
      "3      2.510460  3.765690  3.34728  \n",
      "4      1.255230  3.765690  4.60251  \n",
      "5      4.602510  5.439331  4.18410  \n",
      "6      4.184100  2.928870  4.18410  \n",
      "7      2.510460  3.765690  2.51046  \n",
      "8      2.928870  3.347280  2.92887  \n",
      "9      0.000000  0.418410  0.00000  \n",
      "10     2.928870  2.928870  3.76569  \n"
     ]
    }
   ],
   "source": [
    "# df6 = df6.astype({'Digit': str})\n",
    "\n",
    "# df6 = pd.pivot_table(df6, values = 'percentage', index = 'level_0', columns = 'Digit').reset_index()\n",
    "# print(df6)"
   ]
  },
  {
   "cell_type": "code",
   "execution_count": 221,
   "metadata": {},
   "outputs": [],
   "source": [
    "# plt.boxplot(df7, sym=\"k.\", medianprops=dict(color=\"black\"))\n",
    "# plt.xticks([0,1,2,3,4,5,6,7,8,9])\n",
    "# plt.ylim(-1, 40)\n",
    "# plt.ylabel(\"Standard Deviation\")\n",
    "# plt.xlabel(\"Digit\")\n",
    "# plt.title(\"Standard deviation of digit frequency of first significant digit\")\n",
    "# plt.savefig('Data/fig1a', dpi=300)\n",
    "# plt.show()"
   ]
  },
  {
   "cell_type": "code",
   "execution_count": 222,
   "metadata": {},
   "outputs": [
    {
     "name": "stdout",
     "output_type": "stream",
     "text": [
      "['1', '2', '3', '4', '5', '6', '7', '8', '9']\n",
      "[[-2.46272311e-01  8.57396120e-01  1.39090265e-02 -5.22123105e-01\n",
      "   3.25493388e-01  0.00000000e+00  2.41766729e-16 -4.00807170e-01\n",
      "  -1.28168267e-01]\n",
      " [-1.81772420e-01  5.10229593e-01  3.96407255e-01 -1.16027357e+00\n",
      "   6.97485832e-02 -8.78595370e-01  1.36672035e+00 -6.16626416e-02\n",
      "  -1.28168267e-01]\n",
      " [-4.18272020e-01  4.73408900e-02  2.43407963e-01 -4.35102588e-02\n",
      "  -1.85996222e-01  1.31789306e+00  1.82229381e+00  1.29491547e+00\n",
      "  -4.80631002e-01]\n",
      " [-5.25771839e-01  2.20924154e-01  1.00840442e+00  9.13715434e-01\n",
      "  -4.41741027e-01  8.78595370e-01 -4.55573452e-01  2.77481887e-01\n",
      "   2.24294468e-01]\n",
      " [-2.89272238e-01  6.25951768e-01  3.96407255e-01 -2.03047874e-01\n",
      "   5.81238194e-01 -6.58946528e-01 -1.13893363e+00  2.77481887e-01\n",
      "   1.28168267e+00]\n",
      " [-3.96772057e-01  3.36646329e-01 -1.39090265e-01  4.35102588e-01\n",
      "   1.09272780e+00 -6.58946528e-01  6.83360177e-01  1.63406000e+00\n",
      "   9.29219937e-01]\n",
      " [-3.75272093e-01 -3.57686725e-01  8.55405128e-01 -4.35102588e-02\n",
      "   3.25493388e-01  1.75719074e+00  4.55573452e-01 -4.00807170e-01\n",
      "   9.29219937e-01]\n",
      " [-1.60272456e-01  2.20924154e-01 -6.25906192e-02  1.39232828e+00\n",
      "   3.25493388e-01 -6.58946528e-01 -4.55573452e-01  2.77481887e-01\n",
      "  -4.80631002e-01]\n",
      " [-3.12726744e-02 -1.84103461e-01  1.66908318e-01  5.94640203e-01\n",
      "  -4.41741027e-01  4.39297685e-01 -2.27786726e-01 -6.16626416e-02\n",
      "  -1.28168267e-01]\n",
      " [ 3.12922198e+00 -2.96143568e+00 -2.96957715e+00 -2.27703687e+00\n",
      "  -2.74344427e+00 -1.75719074e+00 -1.82229381e+00 -2.43567434e+00\n",
      "  -2.59540741e+00]\n",
      " [-5.04271875e-01  6.83812856e-01  9.04086721e-02  9.13715434e-01\n",
      "   1.09272780e+00  2.19648843e-01 -2.27786726e-01 -4.00807170e-01\n",
      "   5.76757203e-01]]\n",
      "    principal component 1  principal component 2  level_0\n",
      "0               -0.201421              -0.126445  120R_p1\n",
      "1               -0.136987               0.725544  120R_p3\n",
      "2               -1.214470               2.242546  120R_p5\n",
      "3               -1.055067               0.015643   30R_p3\n",
      "4               -0.747239              -1.615210   30R_p5\n",
      "5               -1.622518              -0.453991   45I_p1\n",
      "6               -1.171315               0.976697   45I_p3\n",
      "7               -0.308132              -1.016470   45I_p5\n",
      "8               -0.012237               0.106729  Ctrl_p1\n",
      "9                7.687720               0.074193  Ctrl_p3\n",
      "10              -1.218335              -0.929234  Ctrl_p5\n"
     ]
    }
   ],
   "source": [
    "# PCA analysis of digit frequencies\n",
    "# from sklearn.preprocessing import StandardScaler\n",
    "# from sklearn.decomposition import PCA\n",
    "\n",
    "# features = ['1', '2', '3', '4', '5', '6', '7', '8', '9']\n",
    "# print(features)\n",
    "\n",
    "# Separating out the features\n",
    "# x = df6.loc[:, features].values\n",
    "# # Separating out the target\n",
    "# y = df6.loc[:,['level_0']].values\n",
    "# # # Standardizing the features\n",
    "\n",
    "# x = StandardScaler().fit_transform(x)\n",
    "# print(x)\n",
    "\n",
    "# pca = PCA(n_components=2)\n",
    "# principalComponents = pca.fit_transform(x)\n",
    "# principalDf = pd.DataFrame(data = principalComponents, columns = ['principal component 1', 'principal component 2'])\n",
    "\n",
    "# finalDf = pd.concat([principalDf, df6[['level_0']]], axis = 1)\n",
    "# print(finalDf)"
   ]
  },
  {
   "cell_type": "code",
   "execution_count": 223,
   "metadata": {},
   "outputs": [
    {
     "name": "stdout",
     "output_type": "stream",
     "text": [
      "COLUMNS\n",
      "['Ctrl_p1', '45I_p1', '120R_p1', 'Ctrl_p3', '45I_p3', '30R_p3', '120R_p3', 'Ctrl_p5', '45I_p5', '30R_p5', '120R_p5', 'Unnamed: 11']\n",
      "12\n"
     ]
    },
    {
     "data": {
      "image/png": "[encoded data removed]",
      "text/plain": [
       "<Figure size 576x576 with 1 Axes>"
      ]
     },
     "metadata": {
      "needs_background": "light"
     },
     "output_type": "display_data"
    }
   ],
   "source": [
    "# a PCA of the digit frequencies\n",
    "# fig = plt.figure(figsize = (8,8))\n",
    "# ax = fig.add_subplot(1,1,1) \n",
    "# ax.set_xlabel('Principal Component 1', fontsize = 15)\n",
    "# ax.set_ylabel('Principal Component 2', fontsize = 15)\n",
    "# ax.set_title('84_table5_replicate1', fontsize = 20)\n",
    "\n",
    "# targets = keys\n",
    "# for target in targets:\n",
    "#    indicesToKeep = finalDf['level_0'] == target\n",
    "#    ax.scatter(finalDf.loc[indicesToKeep, 'principal component 1']\n",
    "#               , finalDf.loc[indicesToKeep, 'principal component 2']\n",
    "#               , s = 50)\n",
    "# ax.legend(targets)\n",
    "# ax.grid()"
   ]
  },
  {
   "cell_type": "code",
   "execution_count": null,
   "metadata": {},
   "outputs": [],
   "source": []
  },
  {
   "cell_type": "code",
   "execution_count": null,
   "metadata": {},
   "outputs": [],
   "source": []
  },
  {
   "cell_type": "code",
   "execution_count": null,
   "metadata": {},
   "outputs": [],
   "source": []
  }
 ],
 "metadata": {
  "kernelspec": {
   "display_name": "Python 3 (ipykernel)",
   "language": "python",
   "name": "python3"
  },
  "language_info": {
   "codemirror_mode": {
    "name": "ipython",
    "version": 3
   },
   "file_extension": ".py",
   "mimetype": "text/x-python",
   "name": "python",
   "nbconvert_exporter": "python",
   "pygments_lexer": "ipython3",
   "version": "3.9.7"
  }
 },
 "nbformat": 4,
 "nbformat_minor": 4
}
