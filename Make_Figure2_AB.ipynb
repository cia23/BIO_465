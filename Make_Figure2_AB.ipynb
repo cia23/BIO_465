{
 "cells": [
  {
   "cell_type": "code",
   "execution_count": 1,
   "metadata": {},
   "outputs": [],
   "source": [
    "import pandas as pd\n",
    "import numpy as np\n",
    "from matplotlib.lines import Line2D\n",
    "import matplotlib.pyplot as plt\n",
    "\n",
    "# returns a dataframe with the frequency of digits 0-9 from given list of nums\n",
    "def get_frequencies(nums):\n",
    "    freqs_list = [0, 0, 0, 0, 0, 0, 0, 0, 0, 0]\n",
    "    for num in nums:\n",
    "        if not pd.isna(num):\n",
    "            freqs_list[num] += 1\n",
    "    freqs_df = pd.DataFrame(freqs_list, index=range(0, 10), columns=['freq'])\n",
    "\n",
    "    return freqs_df\n",
    "\n",
    "#returns the first digit of a number\n",
    "def first_digit(num):\n",
    "    # if the value is na, return\n",
    "    if pd.isna(num):\n",
    "        return\n",
    "    # if the value is a string (such as null or n.def), return\n",
    "    d = str(num)[0]\n",
    "    if not (d.isdigit()):\n",
    "        return\n",
    "    # the first digit should never be a 0, so if it is, return\n",
    "    if num == 0:\n",
    "        return\n",
    "    # otherwise, return the first digit\n",
    "    else:\n",
    "        num = abs(float(num) * 10000000)\n",
    "        return(int(str(num)[0]))"
   ]
  },
  {
   "cell_type": "code",
   "execution_count": 2,
   "metadata": {},
   "outputs": [],
   "source": [
    "# 'Data/30814501.csv', - has only 2-3\n",
    "# 'Data/31131048.csv', - very weird\n",
    "data_files = ['Data/29718670_S10.csv', 'Data/34783559.csv']"
   ]
  },
  {
   "cell_type": "code",
   "execution_count": 3,
   "metadata": {},
   "outputs": [
    {
     "data": {
      "image/png": "[encoded data removed]",
      "text/plain": [
       "<Figure size 432x288 with 1 Axes>"
      ]
     },
     "metadata": {
      "needs_background": "light"
     },
     "output_type": "display_data"
    },
    {
     "data": {
      "image/png": "[encoded data removed]",
      "text/plain": [
       "<Figure size 432x288 with 1 Axes>"
      ]
     },
     "metadata": {
      "needs_background": "light"
     },
     "output_type": "display_data"
    }
   ],
   "source": [
    "char = 'A'\n",
    "for file in data_files:\n",
    "    # read in the file and set up dictionaries to hold the digits and digit frequencies\n",
    "    data = pd.read_csv(file, na_values=['-', 'ND'], header=[0])\n",
    "    first_digit_dict = {}\n",
    "    first_digit_freq = {}\n",
    "\n",
    "    # iterate through all the columns in the file\n",
    "    for column in data:\n",
    "        # grab the numbers in the columns\n",
    "        nums = data[column]\n",
    "        # for each number in the column, store the last digit\n",
    "        first_dig = [first_digit(num) for num in nums]\n",
    "        # store the last digits of each column in a dictionary\n",
    "        first_digit_dict[column] = first_dig\n",
    "\n",
    "    # create a variable to hold the percentages of each digit in each column\n",
    "    column_data = {}\n",
    "\n",
    "    # iterate through each column\n",
    "    for key in first_digit_dict.keys():\n",
    "        # get the frequencies for each digit in the column\n",
    "        frequencies = get_frequencies(first_digit_dict[key])\n",
    "        # calculate the percentage\n",
    "        frequencies['Percentage'] = frequencies['freq'] / sum(frequencies['freq']) * 100\n",
    "        # store the percentages\n",
    "        first_digit_freq[key] = frequencies\n",
    "\n",
    "        # put the percentages in the dictionary\n",
    "        column_data[key] = frequencies['Percentage']\n",
    "\n",
    "    # put the data in a dataframe\n",
    "    frequency_data = pd.DataFrame(column_data)\n",
    "    \n",
    "    # since the first digit should never be a 0 and we made sure it wasn't, drop the 0 row\n",
    "    frequency_data = frequency_data.drop([0])\n",
    "    \n",
    "#     print(frequency_data)\n",
    "    # transpose the dataframe to combine frequencies into 1 column\n",
    "    frequency_data_transposed = pd.DataFrame(frequency_data).T.stack().reset_index()\n",
    "    # rename the columns\n",
    "    frequency_data_transposed = frequency_data_transposed.rename(columns={0: \"percentage\", \"level_1\": \"Digit\"})\n",
    "    \n",
    "    # plot the data\n",
    "    plt.scatter(x = 'Digit', y = 'percentage', data = frequency_data_transposed, color = 'k')\n",
    "    plt.xticks([1,2,3,4,5,6,7,8,9])\n",
    "    plt.ylim(-1, 35)\n",
    "    plt.ylabel(\"Frequency (%)\")\n",
    "    plt.xlabel(\"Digit\")\n",
    "    plt.title(\"Digit frequency of first significant digit\")\n",
    "#     plt.savefig(f\"Figures/Figure2_{char}\", dpi=300)\n",
    "    plt.show()\n",
    "    i = ord(char)\n",
    "    i += 1\n",
    "    char = chr(i)"
   ]
  }
 ],
 "metadata": {
  "kernelspec": {
   "display_name": "Python 3",
   "language": "python",
   "name": "python3"
  },
  "language_info": {
   "codemirror_mode": {
    "name": "ipython",
    "version": 3
   },
   "file_extension": ".py",
   "mimetype": "text/x-python",
   "name": "python",
   "nbconvert_exporter": "python",
   "pygments_lexer": "ipython3",
   "version": "3.8.3"
  }
 },
 "nbformat": 4,
 "nbformat_minor": 4
}
