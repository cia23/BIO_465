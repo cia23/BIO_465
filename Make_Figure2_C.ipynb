{
 "cells": [
  {
   "cell_type": "code",
   "execution_count": 1,
   "metadata": {},
   "outputs": [],
   "source": [
    "import pandas as pd\n",
    "import numpy as np\n",
    "from matplotlib.lines import Line2D\n",
    "import matplotlib.pyplot as plt\n",
    "\n",
    "# returns a dataframe with the frequency of digits 0-9 from given list of nums\n",
    "def get_frequencies(nums):\n",
    "    freqs_list = [0, 0, 0, 0, 0, 0, 0, 0, 0, 0]\n",
    "    for num in nums:\n",
    "        if not pd.isna(num):\n",
    "            freqs_list[num] += 1\n",
    "    freqs_df = pd.DataFrame(freqs_list, index=range(0, 10), columns=['freq'])\n",
    "\n",
    "    return freqs_df\n",
    "\n",
    "#returns the last digit of a number\n",
    "def last_digit(num):\n",
    "    # if the value is na or 0, return\n",
    "    if pd.isna(num):\n",
    "        return\n",
    "    if num == 0:\n",
    "        return\n",
    "    # otherwise, return the last digit\n",
    "    else:\n",
    "        num = abs(int(num))\n",
    "        return(int(str(num)[-1]))"
   ]
  },
  {
   "cell_type": "code",
   "execution_count": 2,
   "metadata": {},
   "outputs": [],
   "source": [
    "drive_file = \"Data/Drivingdata_cols.csv\""
   ]
  },
  {
   "cell_type": "code",
   "execution_count": 3,
   "metadata": {},
   "outputs": [],
   "source": [
    "# read in the file and set up dictionaries to hold the digits and digit frequencies\n",
    "data = pd.read_csv(drive_file, na_values=['-', 'ND'], header=[0])\n",
    "last_digit_dict = {}\n",
    "last_digit_freq = {}\n",
    "\n",
    "# iterate through all the columns in the file\n",
    "for column in data:\n",
    "    # grab the numbers in the columns\n",
    "    nums = data[column]\n",
    "    # for each number in the column, store the last digit\n",
    "    last_dig = [last_digit(num) for num in nums]\n",
    "    # store the last digits of each column in a dictionary\n",
    "    last_digit_dict[column] = last_dig\n",
    "\n",
    "# create a variable to hold the percentages of each digit in each column\n",
    "column_data = {}\n",
    "\n",
    "# iterate through each column\n",
    "for key in last_digit_dict.keys():\n",
    "    # get the frequencies for each digit in the column\n",
    "    frequencies = get_frequencies(last_digit_dict[key])\n",
    "    # calculate the percentage\n",
    "    frequencies['Percentage'] = frequencies['freq'] / sum(frequencies['freq']) * 100\n",
    "    # store the percentages\n",
    "    last_digit_freq[key] = frequencies\n",
    "\n",
    "    # put the percentages in the dictionary\n",
    "    column_data[key] = frequencies['Percentage']\n",
    "\n",
    "# put the data in a dataframe\n",
    "frequency_data = pd.DataFrame(column_data)"
   ]
  },
  {
   "cell_type": "code",
   "execution_count": 4,
   "metadata": {
    "scrolled": false
   },
   "outputs": [
    {
     "data": {
      "image/png": "[encoded data removed]",
      "text/plain": [
       "<Figure size 432x288 with 1 Axes>"
      ]
     },
     "metadata": {
      "needs_background": "light"
     },
     "output_type": "display_data"
    }
   ],
   "source": [
    "# transpose the dataframe to combine frequencies into 1 column\n",
    "frequency_data_transposed = pd.DataFrame(frequency_data).T.stack().reset_index()\n",
    "# rename the columns\n",
    "frequency_data_transposed = frequency_data_transposed.rename(columns={0: \"percentage\", \"level_1\": \"Digit\"})\n",
    "\n",
    "# we want to color by authentic and fabricated \n",
    "colors = {\"Odom Reading 1 (Previous)\": \"black\", \"Odom Reading 1 (Update)\": \"red\", \"Odom Reading 2 (Previous)\": \"black\", \"Odom Reading 2 (Update)\": \"red\", \"Odom Reading 3 (Previous)\": \"black\", \"Odom Reading 3 (Update)\": \"red\", \"Odom Reading 4 (Previous)\": \"black\", \"Odom Reading 4 (Update)\":\"red\"}\n",
    "authentic = Line2D([], [], marker ='o', color='k', label='Authentic',\n",
    "                         markerfacecolor='k', markersize=6, linestyle='None')\n",
    "fabricated = Line2D([], [], marker ='o', color='r', label='Fabricated',\n",
    "                         markerfacecolor='r', markersize=6, linestyle='None')\n",
    "\n",
    "# plot the data\n",
    "plt.scatter(x = 'Digit', y = 'percentage', data = frequency_data_transposed, c=frequency_data_transposed['level_0'].map(colors))\n",
    "plt.xticks([0,1,2,3,4,5,6,7,8,9])\n",
    "plt.ylim(-1, 35)\n",
    "plt.ylabel(\"Frequency (%)\")\n",
    "plt.xlabel(\"Digit\")\n",
    "plt.title(\"Digit frequency of last significant digit\")\n",
    "plt.legend(handles=[authentic, fabricated])\n",
    "#plt.legend(('Authentic', 'Fabricated'))\n",
    "# plt.savefig('Figures/Figure2_C', dpi=300)\n",
    "plt.show()"
   ]
  }
 ],
 "metadata": {
  "kernelspec": {
   "display_name": "Python 3",
   "language": "python",
   "name": "python3"
  },
  "language_info": {
   "codemirror_mode": {
    "name": "ipython",
    "version": 3
   },
   "file_extension": ".py",
   "mimetype": "text/x-python",
   "name": "python",
   "nbconvert_exporter": "python",
   "pygments_lexer": "ipython3",
   "version": "3.8.3"
  }
 },
 "nbformat": 4,
 "nbformat_minor": 4
}
