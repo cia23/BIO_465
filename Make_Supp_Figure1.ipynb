{
 "cells": [
  {
   "cell_type": "code",
   "execution_count": 6,
   "metadata": {},
   "outputs": [
    {
     "name": "stdout",
     "output_type": "stream",
     "text": [
      "        Intensity  Intensity 30_1  Intensity 30_2  Intensity 30_3  \\\n",
      "0        580130.0          140580         94262.0         74551.0   \n",
      "1      47934000.0         4088400             0.0       3175900.0   \n",
      "2       8378000.0          559180        351570.0        321130.0   \n",
      "3     728120000.0        87938000      73631000.0      80889000.0   \n",
      "4      32044000.0         6807500       4300900.0        103650.0   \n",
      "...           ...             ...             ...             ...   \n",
      "7509     273740.0               0         57855.0             0.0   \n",
      "7510    1149700.0          183150        188850.0        113470.0   \n",
      "7511    8411000.0         1501000       1264800.0             0.0   \n",
      "7512   49859000.0         7336100       2190100.0       2005800.0   \n",
      "7513    1496200.0          188570        140460.0             0.0   \n",
      "\n",
      "      Intensity 35_1  Intensity 35_2  Intensity 35_3  Intensity 40_1  \\\n",
      "0                0.0         70253.0         50479.0               0   \n",
      "1          3487700.0       5395700.0       3315900.0         4850300   \n",
      "2           461020.0        332200.0        323540.0          741480   \n",
      "3         47020000.0      53656000.0      54159000.0        82773000   \n",
      "4           897280.0       1622700.0        295260.0          370640   \n",
      "...              ...             ...             ...             ...   \n",
      "7509             0.0         35357.0             0.0               0   \n",
      "7510         75989.0         52460.0         70730.0          116870   \n",
      "7511        690290.0             0.0        218110.0          914240   \n",
      "7512       1599300.0       1306900.0       1261100.0         3310800   \n",
      "7513        205670.0        146110.0             0.0          415480   \n",
      "\n",
      "      Intensity 40_2  Intensity 40_3  Intensity 45_1  Intensity 45_2  \\\n",
      "0            95120.0               0               0         54880.0   \n",
      "1            63696.0         7112900         4183900       8605200.0   \n",
      "2           641080.0          620010         1340300       1405800.0   \n",
      "3         59817000.0        60344000        45038000      48178000.0   \n",
      "4          6662200.0         7870300          540330        823650.0   \n",
      "...              ...             ...             ...             ...   \n",
      "7509         71094.0               0          109430             0.0   \n",
      "7510        135510.0           85609               0         69588.0   \n",
      "7511       1885600.0         1307700          325870             0.0   \n",
      "7512       2387500.0         2171000        10666000       9379800.0   \n",
      "7513        260860.0               0          139120             0.0   \n",
      "\n",
      "      Intensity 45_3        random  \n",
      "0                0.0  4.898744e+05  \n",
      "1          3653800.0  3.633179e+07  \n",
      "2          1280800.0  3.709621e+06  \n",
      "3         34673000.0  2.142180e+08  \n",
      "4          1749300.0  1.643394e+07  \n",
      "...              ...           ...  \n",
      "7509             0.0  9.540061e+04  \n",
      "7510         57441.0  7.665290e+05  \n",
      "7511        303390.0  5.133512e+06  \n",
      "7512       6243900.0  2.239653e+07  \n",
      "7513             0.0  5.671434e+05  \n",
      "\n",
      "[7514 rows x 14 columns]\n",
      "        Intensity  Intensity 30_1  Intensity 30_2  Intensity 30_3  \\\n",
      "0        580130.0          140580         94262.0         74551.0   \n",
      "1      47934000.0         4088400             0.0       3175900.0   \n",
      "2       8378000.0          559180        351570.0        321130.0   \n",
      "3     728120000.0        87938000      73631000.0      80889000.0   \n",
      "4      32044000.0         6807500       4300900.0        103650.0   \n",
      "...           ...             ...             ...             ...   \n",
      "7509     273740.0               0         57855.0             0.0   \n",
      "7510    1149700.0          183150        188850.0        113470.0   \n",
      "7511    8411000.0         1501000       1264800.0             0.0   \n",
      "7512   49859000.0         7336100       2190100.0       2005800.0   \n",
      "7513    1496200.0          188570        140460.0             0.0   \n",
      "\n",
      "      Intensity 35_1  Intensity 35_2  Intensity 35_3  Intensity 40_1  \\\n",
      "0                0.0         70253.0         50479.0               0   \n",
      "1          3487700.0       5395700.0       3315900.0         4850300   \n",
      "2           461020.0        332200.0        323540.0          741480   \n",
      "3         47020000.0      53656000.0      54159000.0        82773000   \n",
      "4           897280.0       1622700.0        295260.0          370640   \n",
      "...              ...             ...             ...             ...   \n",
      "7509             0.0         35357.0             0.0               0   \n",
      "7510         75989.0         52460.0         70730.0          116870   \n",
      "7511        690290.0             0.0        218110.0          914240   \n",
      "7512       1599300.0       1306900.0       1261100.0         3310800   \n",
      "7513        205670.0        146110.0             0.0          415480   \n",
      "\n",
      "      Intensity 40_2  Intensity 40_3  Intensity 45_1  Intensity 45_2  \\\n",
      "0            95120.0               0               0         54880.0   \n",
      "1            63696.0         7112900         4183900       8605200.0   \n",
      "2           641080.0          620010         1340300       1405800.0   \n",
      "3         59817000.0        60344000        45038000      48178000.0   \n",
      "4          6662200.0         7870300          540330        823650.0   \n",
      "...              ...             ...             ...             ...   \n",
      "7509         71094.0               0          109430             0.0   \n",
      "7510        135510.0           85609               0         69588.0   \n",
      "7511       1885600.0         1307700          325870             0.0   \n",
      "7512       2387500.0         2171000        10666000       9379800.0   \n",
      "7513        260860.0               0          139120             0.0   \n",
      "\n",
      "      Intensity 45_3    resampled  \n",
      "0                0.0      50479.0  \n",
      "1          3653800.0    3653800.0  \n",
      "2          1280800.0     323540.0  \n",
      "3         34673000.0  728120000.0  \n",
      "4          1749300.0     897280.0  \n",
      "...              ...          ...  \n",
      "7509             0.0     273740.0  \n",
      "7510         57441.0    1149700.0  \n",
      "7511        303390.0     325870.0  \n",
      "7512       6243900.0    2005800.0  \n",
      "7513             0.0          0.0  \n",
      "\n",
      "[7514 rows x 14 columns]\n",
      "        Intensity  Intensity 30_1  Intensity 30_2  Intensity 30_3  \\\n",
      "0        580130.0          140580         94262.0         74551.0   \n",
      "1      47934000.0         4088400             0.0       3175900.0   \n",
      "2       8378000.0          559180        351570.0        321130.0   \n",
      "3     728120000.0        87938000      73631000.0      80889000.0   \n",
      "4      32044000.0         6807500       4300900.0        103650.0   \n",
      "...           ...             ...             ...             ...   \n",
      "7509     273740.0               0         57855.0             0.0   \n",
      "7510    1149700.0          183150        188850.0        113470.0   \n",
      "7511    8411000.0         1501000       1264800.0             0.0   \n",
      "7512   49859000.0         7336100       2190100.0       2005800.0   \n",
      "7513    1496200.0          188570        140460.0             0.0   \n",
      "\n",
      "      Intensity 35_1  Intensity 35_2  Intensity 35_3  Intensity 40_1  \\\n",
      "0                0.0         70253.0         50479.0               0   \n",
      "1          3487700.0       5395700.0       3315900.0         4850300   \n",
      "2           461020.0        332200.0        323540.0          741480   \n",
      "3         47020000.0      53656000.0      54159000.0        82773000   \n",
      "4           897280.0       1622700.0        295260.0          370640   \n",
      "...              ...             ...             ...             ...   \n",
      "7509             0.0         35357.0             0.0               0   \n",
      "7510         75989.0         52460.0         70730.0          116870   \n",
      "7511        690290.0             0.0        218110.0          914240   \n",
      "7512       1599300.0       1306900.0       1261100.0         3310800   \n",
      "7513        205670.0        146110.0             0.0          415480   \n",
      "\n",
      "      Intensity 40_2  Intensity 40_3  Intensity 45_1  Intensity 45_2  \\\n",
      "0            95120.0               0               0         54880.0   \n",
      "1            63696.0         7112900         4183900       8605200.0   \n",
      "2           641080.0          620010         1340300       1405800.0   \n",
      "3         59817000.0        60344000        45038000      48178000.0   \n",
      "4          6662200.0         7870300          540330        823650.0   \n",
      "...              ...             ...             ...             ...   \n",
      "7509         71094.0               0          109430             0.0   \n",
      "7510        135510.0           85609               0         69588.0   \n",
      "7511       1885600.0         1307700          325870             0.0   \n",
      "7512       2387500.0         2171000        10666000       9379800.0   \n",
      "7513        260860.0               0          139120             0.0   \n",
      "\n",
      "      Intensity 45_3          mean  \n",
      "0                0.0  8.925038e+04  \n",
      "1          3653800.0  7.374415e+06  \n",
      "2          1280800.0  1.288932e+06  \n",
      "3         34673000.0  1.120182e+08  \n",
      "4          1749300.0  4.929824e+06  \n",
      "...              ...           ...  \n",
      "7509             0.0  4.211354e+04  \n",
      "7510         57441.0  1.768744e+05  \n",
      "7511        303390.0  1.294000e+06  \n",
      "7512       6243900.0  7.670562e+06  \n",
      "7513             0.0  2.301900e+05  \n",
      "\n",
      "[7514 rows x 14 columns]\n"
     ]
    }
   ],
   "source": [
    "from Helper_Functions import *\n",
    "from Create_Fake_Data import *\n",
    "from copy import deepcopy\n",
    "\n",
    "file_name = \"Data/32108472_LiCl_sucrose_peptide_output.csv\"\n",
    "plot_top = 80 # ensures all the graphs are scaled the same\n",
    "data = pd.read_csv(file_name, na_values=['-', 'ND'], header=[0])\n",
    "\n",
    "# generate the fake data columns\n",
    "random_data = generate_random(deepcopy(data))\n",
    "resampled_data = generate_resampled(deepcopy(data))\n",
    "imputed_mean_data = generate_imputed_mean(deepcopy(data))\n",
    "imputed_median_data = generate_imputed_median(deepcopy(data))\n",
    "# print(random_data)\n",
    "# print(resampled_data)\n",
    "# print(imputed_mean_data)\n",
    "# # analyze correlation coefficients and generate graphs for each data set\n",
    "# analyze_correlation(data, False, \"real\", plot_top, graph=True)\n",
    "# analyze_correlation(random_data, False, \"random\", plot_top, graph=True)\n",
    "# analyze_correlation(resampled_data, False, \"resampled\", plot_top, graph=True)\n",
    "# analyze_correlation(imputed_mean_data, False,  \"imputed mean\", plot_top, graph=True)\n",
    "# analyze_correlation(imputed_median_data, False, \"imputed median\", plot_top, graph=True)\n"
   ]
  },
  {
   "cell_type": "code",
   "execution_count": 2,
   "metadata": {},
   "outputs": [],
   "source": [
    "import pandas as pd\n",
    "import numpy as np\n",
    "from matplotlib.lines import Line2D\n",
    "import matplotlib.pyplot as plt\n",
    "\n",
    "# returns a dataframe with the frequency of digits 0-9 from given list of nums\n",
    "def get_frequencies(nums):\n",
    "    freqs_list = [0, 0, 0, 0, 0, 0, 0, 0, 0, 0]\n",
    "    for num in nums:\n",
    "        if not pd.isna(num):\n",
    "            freqs_list[num] += 1\n",
    "    freqs_df = pd.DataFrame(freqs_list, index=range(0, 10), columns=['freq'])\n",
    "\n",
    "    return freqs_df\n",
    "\n",
    "#returns the last digit of a number\n",
    "def last_digit(num):\n",
    "    # if the value is na or 0, return\n",
    "    if pd.isna(num):\n",
    "        return\n",
    "    if num == 0:\n",
    "        return\n",
    "    # otherwise, return the last digit\n",
    "    else:\n",
    "        num = abs(int(num))\n",
    "        return(int(str(num)[0]))"
   ]
  },
  {
   "cell_type": "code",
   "execution_count": 3,
   "metadata": {},
   "outputs": [],
   "source": [
    "dataframes = [data, random_data, resampled_data, imputed_mean_data, imputed_median_data]"
   ]
  },
  {
   "cell_type": "code",
   "execution_count": 4,
   "metadata": {},
   "outputs": [
    {
     "data": {
      "image/png": "[encoded data removed]",
      "text/plain": [
       "<Figure size 432x288 with 1 Axes>"
      ]
     },
     "metadata": {
      "needs_background": "light"
     },
     "output_type": "display_data"
    },
    {
     "data": {
      "image/png": "[encoded data removed]",
      "text/plain": [
       "<Figure size 432x288 with 1 Axes>"
      ]
     },
     "metadata": {
      "needs_background": "light"
     },
     "output_type": "display_data"
    },
    {
     "data": {
      "image/png": "[encoded data removed]",
      "text/plain": [
       "<Figure size 432x288 with 1 Axes>"
      ]
     },
     "metadata": {
      "needs_background": "light"
     },
     "output_type": "display_data"
    },
    {
     "data": {
      "image/png": "[encoded data removed]",
      "text/plain": [
       "<Figure size 432x288 with 1 Axes>"
      ]
     },
     "metadata": {
      "needs_background": "light"
     },
     "output_type": "display_data"
    },
    {
     "data": {
      "image/png": "[encoded data removed]",
      "text/plain": [
       "<Figure size 432x288 with 1 Axes>"
      ]
     },
     "metadata": {
      "needs_background": "light"
     },
     "output_type": "display_data"
    }
   ],
   "source": [
    "for df in dataframes:\n",
    "    # read in the file and set up dictionaries to hold the digits and digit frequencies\n",
    "    last_digit_dict = {}\n",
    "    last_digit_freq = {}\n",
    "\n",
    "    # iterate through all the columns in the file\n",
    "    for column in df:\n",
    "        # grab the numbers in the columns\n",
    "        nums = df[column]\n",
    "        # for each number in the column, store the last digit\n",
    "        last_dig = [last_digit(num) for num in nums]\n",
    "        # store the last digits of each column in a dictionary\n",
    "        last_digit_dict[column] = last_dig\n",
    "\n",
    "    # create a variable to hold the percentages of each digit in each column\n",
    "    column_data = {}\n",
    "\n",
    "    # iterate through each column\n",
    "    for key in last_digit_dict.keys():\n",
    "        # get the frequencies for each digit in the column\n",
    "        frequencies = get_frequencies(last_digit_dict[key])\n",
    "        # calculate the percentage\n",
    "        frequencies['Percentage'] = frequencies['freq'] / sum(frequencies['freq']) * 100\n",
    "        # store the percentages\n",
    "        last_digit_freq[key] = frequencies\n",
    "\n",
    "        # put the percentages in the dictionary\n",
    "        column_data[key] = frequencies['Percentage']\n",
    "\n",
    "    # put the data in a dataframe\n",
    "    frequency_data = pd.DataFrame(column_data)\n",
    "    frequency_data = frequency_data.drop([0])\n",
    "    # transpose the dataframe to combine frequencies into 1 column\n",
    "    frequency_data_transposed = pd.DataFrame(frequency_data).T.stack().reset_index()\n",
    "    # rename the columns\n",
    "    frequency_data_transposed = frequency_data_transposed.rename(columns={0: \"percentage\", \"level_1\": \"Digit\"})\n",
    "\n",
    "    # we want to color by authentic and fabricated \n",
    "#     colors = {\"Odom Reading 1 (Previous)\": \"black\", \"Odom Reading 1 (Update)\": \"red\", \"Odom Reading 2 (Previous)\": \"black\", \"Odom Reading 2 (Update)\": \"red\", \"Odom Reading 3 (Previous)\": \"black\", \"Odom Reading 3 (Update)\": \"red\", \"Odom Reading 4 (Previous)\": \"black\", \"Odom Reading 4 (Update)\":\"red\"}\n",
    "#     authentic = Line2D([], [], marker ='o', color='k', label='Authentic',\n",
    "#                              markerfacecolor='k', markersize=6, linestyle='None')\n",
    "#     fabricated = Line2D([], [], marker ='o', color='r', label='Fabricated',\n",
    "                          #   markerfacecolor='r', markersize=6, linestyle='None')\n",
    "\n",
    "    # plot the data\n",
    "    # , c=frequency_data_transposed['level_0'].map(colors)\n",
    "    plt.scatter(x = 'Digit', y = 'percentage', data = frequency_data_transposed)\n",
    "    plt.xticks([1,2,3,4,5,6,7,8,9])\n",
    "    plt.ylim(-1, 100)\n",
    "    plt.ylabel(\"Frequency (%)\")\n",
    "    plt.xlabel(\"Digit\")\n",
    "    plt.title(\"Digit frequency of last significant digit\")\n",
    "#     plt.legend(handles=[authentic, fabricated])\n",
    "    #plt.legend(('Authentic', 'Fabricated'))\n",
    "    # plt.savefig('Figures/Figure2', dpi=300)\n",
    "    plt.show()"
   ]
  }
 ],
 "metadata": {
  "kernelspec": {
   "display_name": "Python 3",
   "language": "python",
   "name": "python3"
  },
  "language_info": {
   "codemirror_mode": {
    "name": "ipython",
    "version": 3
   },
   "file_extension": ".py",
   "mimetype": "text/x-python",
   "name": "python",
   "nbconvert_exporter": "python",
   "pygments_lexer": "ipython3",
   "version": "3.8.3"
  }
 },
 "nbformat": 4,
 "nbformat_minor": 4
}
