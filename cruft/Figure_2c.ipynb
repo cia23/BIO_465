{
 "cells": [
  {
   "cell_type": "code",
   "execution_count": 1,
   "metadata": {},
   "outputs": [],
   "source": [
    "import pandas as pd\n",
    "import numpy as np\n",
    "import matplotlib.pyplot as plt\n",
    "\n",
    "# returns a dataframe with the frequency of digits 0-9 from given list of nums\n",
    "def get_frequencies(nums):\n",
    "    freqs_list = [0, 0, 0, 0, 0, 0, 0, 0, 0, 0]\n",
    "    for num in nums:\n",
    "        if not pd.isna(num):\n",
    "            freqs_list[num] += 1\n",
    "    freqs_df = pd.DataFrame(freqs_list, index=range(0, 10), columns=['freq'])\n",
    "\n",
    "    return freqs_df\n",
    "\n",
    "#returns the first digit after the decimal point\n",
    "def first_after_decimal(num):\n",
    "    if pd.isna(num):\n",
    "        return\n",
    "    if num == 0:\n",
    "        return\n",
    "    else:\n",
    "        num = float(num) * 10000000\n",
    "        return(first_digit(abs(num)))\n",
    "#     return(first_digit(abs(num)))\n",
    "#     return int((abs(float(num)) * 10) % 10)"
   ]
  },
  {
   "cell_type": "code",
   "execution_count": 2,
   "metadata": {},
   "outputs": [],
   "source": [
    "def first_digit(num):\n",
    "    if pd.isna(num):\n",
    "        return\n",
    "    v = str(num)[0]\n",
    "    if v == '.':\n",
    "        return\n",
    "#     print(int(str(num)))\n",
    "    return int(str(num)[0])"
   ]
  },
  {
   "cell_type": "code",
   "execution_count": 3,
   "metadata": {},
   "outputs": [],
   "source": [
    "all_files = [\"Data/48.csv\"] # \"Data/47.csv\", \"Data/48.csv\" #run each of the three files one at a time\n"
   ]
  },
  {
   "cell_type": "code",
   "execution_count": 4,
   "metadata": {
    "scrolled": true
   },
   "outputs": [
    {
     "name": "stdout",
     "output_type": "stream",
     "text": [
      "1\n",
      "     Ctrl_p1     45I_p1    120R_p1   Ctrl_p3     45I_p3     30R_p3    120R_p3  \\\n",
      "0   0.000000   0.000000   0.000000   0.00000   0.000000   0.000000   0.000000   \n",
      "1  36.820084  29.707113  32.635983  98.32636  30.125523  27.196653  33.891213   \n",
      "2  20.083682  23.849372  27.615063   0.00000  18.828452  23.012552  25.104603   \n",
      "3  18.410042  16.736402  17.573222   1.25523  22.175732  23.012552  19.665272   \n",
      "4   7.531381   7.112971   4.602510   0.00000   5.857741   8.368201   2.928870   \n",
      "5   3.765690   6.276151   5.020921   0.00000   5.020921   3.765690   4.602510   \n",
      "6   4.184100   2.092050   3.347280   0.00000   6.694561   5.020921   1.673640   \n",
      "7   2.928870   4.602510   3.347280   0.00000   4.184100   2.510460   5.857741   \n",
      "8   3.347280   5.439331   2.928870   0.41841   2.928870   3.765690   3.347280   \n",
      "9   2.928870   4.184100   2.928870   0.00000   4.184100   3.347280   2.928870   \n",
      "\n",
      "     Ctrl_p5     45I_p5     30R_p5    120R_p5  Unnamed: 11  \n",
      "0   0.000000   0.000000   0.000000   0.000000          NaN  \n",
      "1  27.615063  34.309623  31.799163  29.288703          NaN  \n",
      "2  26.359833  23.012552  25.941423  21.757322          NaN  \n",
      "3  17.991632  17.154812  19.665272  18.828452          NaN  \n",
      "4   8.368201   9.623431   5.439331   5.857741          NaN  \n",
      "5   6.276151   5.020921   5.439331   4.184100          NaN  \n",
      "6   3.765690   2.092050   2.092050   5.857741          NaN  \n",
      "7   2.928870   2.510460   1.255230   6.694561          NaN  \n",
      "8   2.928870   3.765690   3.765690   5.020921          NaN  \n",
      "9   3.765690   2.510460   4.602510   2.510460          NaN  \n",
      "   Data/48.csv\n",
      "0     0.000000\n",
      "1    37.428680\n",
      "2    21.414987\n",
      "3    17.497147\n",
      "4     5.971852\n",
      "5     4.488399\n",
      "6     3.347280\n",
      "7     3.347280\n",
      "8     3.423355\n",
      "9     3.081019\n"
     ]
    }
   ],
   "source": [
    "df2 = pd.DataFrame(index=range(0, 10))\n",
    "\n",
    "i = 1\n",
    "std_devs = {}\n",
    "\n",
    "for file in all_files:\n",
    "    print(i)\n",
    "    i += 1\n",
    "    data = pd.read_csv(file, na_values=['-', 'ND'], header=[0])\n",
    "    last_digits = [] #\n",
    "    last_digit_dict = {}\n",
    "    last_digit_freq = {}\n",
    "\n",
    "    for column in data:\n",
    "        nums = data[column]\n",
    "        last_digit = [first_after_decimal(num) for num in nums]\n",
    "        #last_digit = [first_digit(num) for num in nums]\n",
    "        last_digits += last_digit\n",
    "        last_digit_dict[column] = last_digit\n",
    "        \n",
    "\n",
    "    df1 = get_frequencies(last_digits)\n",
    "    \n",
    "    column_data = {}\n",
    "    keys = []\n",
    "    \n",
    "\n",
    "    for key in last_digit_dict.keys():\n",
    "        frequencies = get_frequencies(last_digit_dict[key])\n",
    "        frequencies['Percentage'] = frequencies['freq'] / sum(frequencies['freq']) * 100\n",
    "        last_digit_freq[key] = frequencies\n",
    "\n",
    "        message = (f\"{key}\"\n",
    "        f\"{frequencies}\"\n",
    "        f\"\")\n",
    "        #print(message)\n",
    "        \n",
    "        column_data[key] = frequencies['Percentage']\n",
    "        keys.append(key)\n",
    " \n",
    "\n",
    "    \n",
    "    df5 = pd.DataFrame(column_data)\n",
    "    #df5['Average'] = df1['freq'] / sum(df1['freq']) * 100\n",
    "    print(df5)\n",
    "    df5 = df5.drop([0])\n",
    "    \n",
    "    std_devs[file] = df5.std(axis = 1)\n",
    "        \n",
    "    df1['Percentage'] = df1['freq'] / sum(df1['freq']) * 100\n",
    "    df2[file] = df1['freq'] / sum(df1['freq']) * 100\n",
    "    print(df2)\n"
   ]
  },
  {
   "cell_type": "code",
   "execution_count": 5,
   "metadata": {},
   "outputs": [
    {
     "name": "stdout",
     "output_type": "stream",
     "text": [
      "    level_0  Digit  percentage\n",
      "0   Ctrl_p1      1   36.820084\n",
      "1   Ctrl_p1      2   20.083682\n",
      "2   Ctrl_p1      3   18.410042\n",
      "3   Ctrl_p1      4    7.531381\n",
      "4   Ctrl_p1      5    3.765690\n",
      "..      ...    ...         ...\n",
      "94  120R_p5      5    4.184100\n",
      "95  120R_p5      6    5.857741\n",
      "96  120R_p5      7    6.694561\n",
      "97  120R_p5      8    5.020921\n",
      "98  120R_p5      9    2.510460\n",
      "\n",
      "[99 rows x 3 columns]\n"
     ]
    },
    {
     "data": {
      "image/png": "[encoded data removed]",
      "text/plain": [
       "<Figure size 432x288 with 1 Axes>"
      ]
     },
     "metadata": {
      "needs_background": "light"
     },
     "output_type": "display_data"
    }
   ],
   "source": [
    "df6 = pd.DataFrame(df5).T.stack().reset_index()#.drop(columns=['level_1'])\n",
    "df6 = df6.rename(columns={0: \"percentage\", \"level_1\": \"Digit\"})\n",
    "print(df6)\n",
    "\n",
    "plt.scatter(x = 'Digit', y = 'percentage', data = df6, color = 'black')\n",
    "# plt.xticks([0,1,2,3,4,5,6,7,8,9])\n",
    "plt.ylim(-3, 101)\n",
    "plt.ylabel(\"Frequency (%)\")\n",
    "plt.xlabel(\"Digit\")\n",
    "plt.title(\"Digit frequency of first significant digit\")\n",
    "# plt.savefig('Data/fig1a', dpi=300)\n",
    "plt.show()"
   ]
  },
  {
   "cell_type": "code",
   "execution_count": 15,
   "metadata": {},
   "outputs": [
    {
     "data": {
      "image/png": "[encoded data removed]",
      "text/plain": [
       "<Figure size 432x288 with 1 Axes>"
      ]
     },
     "metadata": {
      "needs_background": "light"
     },
     "output_type": "display_data"
    }
   ],
   "source": [
    "import seaborn as sns\n",
    "ax = sns.boxplot(x = 'Digit', y = 'percentage', data = df6, color = 'white', showfliers = False)\n",
    "sns.stripplot(x = 'Digit', y = 'percentage', data = df6, color = 'black', jitter=True)\n",
    "plt.setp(ax.artists, edgecolor = 'k', facecolor='w')\n",
    "plt.setp(ax.lines, color='k')\n",
    "ax.set_xlabel(\"Digit\")\n",
    "ax.set_ylabel(\"Frequency (%)\")\n",
    "ax.set(ylim=(-3, 103))\n",
    "ax.set(title='Digit frequency of first significant digit')\n",
    "plt.savefig('Data/Revised_Fig2c.png', dpi = 300)"
   ]
  },
  {
   "cell_type": "code",
   "execution_count": 7,
   "metadata": {},
   "outputs": [],
   "source": [
    "# df6 = df6.astype({'Digit': str})\n",
    "\n",
    "# df6 = pd.pivot_table(df6, values = 'percentage', index = 'level_0', columns = 'Digit').reset_index()\n",
    "# print(df6)"
   ]
  },
  {
   "cell_type": "code",
   "execution_count": 8,
   "metadata": {},
   "outputs": [],
   "source": [
    "# plt.boxplot(df7, sym=\"k.\", medianprops=dict(color=\"black\"))\n",
    "# plt.xticks([0,1,2,3,4,5,6,7,8,9])\n",
    "# plt.ylim(-1, 40)\n",
    "# plt.ylabel(\"Standard Deviation\")\n",
    "# plt.xlabel(\"Digit\")\n",
    "# plt.title(\"Standard deviation of digit frequency of first significant digit\")\n",
    "# plt.savefig('Data/fig1a', dpi=300)\n",
    "# plt.show()"
   ]
  },
  {
   "cell_type": "code",
   "execution_count": 9,
   "metadata": {},
   "outputs": [],
   "source": [
    "# PCA analysis of digit frequencies\n",
    "# from sklearn.preprocessing import StandardScaler\n",
    "# from sklearn.decomposition import PCA\n",
    "\n",
    "# features = ['1', '2', '3', '4', '5', '6', '7', '8', '9']\n",
    "# print(features)\n",
    "\n",
    "# Separating out the features\n",
    "# x = df6.loc[:, features].values\n",
    "# # Separating out the target\n",
    "# y = df6.loc[:,['level_0']].values\n",
    "# # # Standardizing the features\n",
    "\n",
    "# x = StandardScaler().fit_transform(x)\n",
    "# print(x)\n",
    "\n",
    "# pca = PCA(n_components=2)\n",
    "# principalComponents = pca.fit_transform(x)\n",
    "# principalDf = pd.DataFrame(data = principalComponents, columns = ['principal component 1', 'principal component 2'])\n",
    "\n",
    "# finalDf = pd.concat([principalDf, df6[['level_0']]], axis = 1)\n",
    "# print(finalDf)"
   ]
  },
  {
   "cell_type": "code",
   "execution_count": 10,
   "metadata": {},
   "outputs": [],
   "source": [
    "# a PCA plot of the digit frequencies\n",
    "# fig = plt.figure(figsize = (8,8))\n",
    "# ax = fig.add_subplot(1,1,1) \n",
    "# ax.set_xlabel('Principal Component 1', fontsize = 15)\n",
    "# ax.set_ylabel('Principal Component 2', fontsize = 15)\n",
    "# ax.set_title('48', fontsize = 20)\n",
    "\n",
    "# targets = keys\n",
    "# for target in targets:\n",
    "#    indicesToKeep = finalDf['level_0'] == target\n",
    "#    ax.scatter(finalDf.loc[indicesToKeep, 'principal component 1']\n",
    "#               , finalDf.loc[indicesToKeep, 'principal component 2']\n",
    "#               , s = 50)\n",
    "# ax.legend(targets)\n",
    "# ax.grid()"
   ]
  },
  {
   "cell_type": "code",
   "execution_count": null,
   "metadata": {},
   "outputs": [],
   "source": []
  },
  {
   "cell_type": "code",
   "execution_count": null,
   "metadata": {},
   "outputs": [],
   "source": []
  },
  {
   "cell_type": "code",
   "execution_count": null,
   "metadata": {},
   "outputs": [],
   "source": []
  },
  {
   "cell_type": "code",
   "execution_count": null,
   "metadata": {},
   "outputs": [],
   "source": []
  }
 ],
 "metadata": {
  "kernelspec": {
   "display_name": "Python 3",
   "language": "python",
   "name": "python3"
  },
  "language_info": {
   "codemirror_mode": {
    "name": "ipython",
    "version": 3
   },
   "file_extension": ".py",
   "mimetype": "text/x-python",
   "name": "python",
   "nbconvert_exporter": "python",
   "pygments_lexer": "ipython3",
   "version": "3.8.3"
  }
 },
 "nbformat": 4,
 "nbformat_minor": 4
}
