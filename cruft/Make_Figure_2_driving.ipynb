{
 "cells": [
  {
   "cell_type": "code",
   "execution_count": 1,
   "metadata": {},
   "outputs": [],
   "source": [
    "import pandas as pd\n",
    "import numpy as np\n",
    "import matplotlib.pyplot as plt\n",
    "\n",
    "# returns a dataframe with the frequency of digits 0-9 from given list of nums\n",
    "def get_frequencies(nums):\n",
    "    freqs_list = [0, 0, 0, 0, 0, 0, 0, 0, 0, 0]\n",
    "    for num in nums:\n",
    "        if not pd.isna(num):\n",
    "            freqs_list[num] += 1\n",
    "    freqs_df = pd.DataFrame(freqs_list, index=range(0, 10), columns=['freq'])\n",
    "\n",
    "    return freqs_df\n",
    "\n",
    "#returns the first digit after the decimal point\n",
    "def first_after_decimal(num):\n",
    "    if pd.isna(num):\n",
    "        return\n",
    "    if num == 0:\n",
    "        return\n",
    "    else:\n",
    "        num = int(num)\n",
    "        return(first_digit(abs(num)))\n",
    "#     return(first_digit(abs(num)))\n",
    "#     return int((abs(float(num)) * 10) % 10)"
   ]
  },
  {
   "cell_type": "code",
   "execution_count": 2,
   "metadata": {},
   "outputs": [],
   "source": [
    "def first_digit(num):\n",
    "    if pd.isna(num):\n",
    "        return\n",
    "    v = str(num)[0]\n",
    "    if v == '.':\n",
    "        return\n",
    "#     print(int(str(num)))\n",
    "    return int(str(num)[0])"
   ]
  },
  {
   "cell_type": "code",
   "execution_count": 3,
   "metadata": {},
   "outputs": [],
   "source": [
    "all_files = [\"Drivingdata_cols.csv\"] # \"Data/5.csv\",\"Data/28.csv\",\"Data/35.csv\",\"Data/53.csv\",\n",
    "\n",
    "#  \"Data/71.csv\", \"Data/1.csv\", \"Data/14.csv\", \"Data/19_SHORT.csv\", \"Data/22.csv\",\n",
    "#             \"Data/25.csv\", \"Data/32_LETTER.csv\", \"Data/34.csv\", \"Data/36.csv\",\n",
    "#             \"Data/42.csv\", \"Data/43.csv\", \"Data/47.csv\", \"Data/48.csv\", \"Data/49.csv\", \"Data/50.csv\",\n",
    "#             \"Data/51.csv\", \"Data/54.csv\", \"Data/56.csv\", \"Data/59.csv\",\n",
    "#             \"Data/63.csv\", \"Data/67.csv\", \"Data/68.csv\",\n",
    "#             \"Data/70.csv\", \"Data/72.csv\", \"Data/76.csv\", \"Data/79.csv\",\n",
    "#             \"Data/80.csv\", \"Data/82.csv\", \"Data/91.csv\""
   ]
  },
  {
   "cell_type": "code",
   "execution_count": 7,
   "metadata": {},
   "outputs": [
    {
     "name": "stdout",
     "output_type": "stream",
     "text": [
      "1\n",
      "   Odom Reading 1 (Previous)  Odom Reading 1 (Update)  \\\n",
      "0                   0.000000                 0.000000   \n",
      "1                  30.700770                36.558422   \n",
      "2                  10.934111                 9.260083   \n",
      "3                  10.044125                 7.169336   \n",
      "4                   9.109266                 8.274021   \n",
      "5                   9.685139                 7.740214   \n",
      "6                   8.451126                 8.459371   \n",
      "7                   7.837858                 7.970047   \n",
      "8                   6.940393                 7.643832   \n",
      "9                   6.297210                 6.924674   \n",
      "\n",
      "   Odom Reading 2 (Previous)  Odom Reading 2 (Update)  \\\n",
      "0                   0.000000                 0.000000   \n",
      "1                  31.698181                36.466631   \n",
      "2                  11.398502                 9.842450   \n",
      "3                   9.703889                 6.779961   \n",
      "4                   8.223332                 8.302354   \n",
      "5                   9.471994                 8.479377   \n",
      "6                   7.777381                 8.302354   \n",
      "7                   8.829825                 7.452646   \n",
      "8                   7.599001                 7.452646   \n",
      "9                   5.297895                 6.921579   \n",
      "\n",
      "   Odom Reading 3 (Previous)  Odom Reading 3 (Update)  \\\n",
      "0                   0.000000                 0.000000   \n",
      "1                  32.990506                41.738449   \n",
      "2                  11.946203                11.667972   \n",
      "3                   8.860759                 7.517619   \n",
      "4                   7.199367                 7.752545   \n",
      "5                   8.148734                 6.342991   \n",
      "6                   6.882911                 6.812843   \n",
      "7                   8.227848                 5.638215   \n",
      "8                   7.515823                 5.481597   \n",
      "9                   8.227848                 7.047768   \n",
      "\n",
      "   Odom Reading 4 (Previous)  Odom Reading 4 (Update)  \n",
      "0                   0.000000                 0.000000  \n",
      "1                  39.384615                49.235474  \n",
      "2                  10.461538                10.397554  \n",
      "3                   8.307692                 7.645260  \n",
      "4                   5.230769                 8.256881  \n",
      "5                   5.230769                 3.363914  \n",
      "6                   7.076923                 3.669725  \n",
      "7                  11.076923                 5.504587  \n",
      "8                   6.153846                 5.504587  \n",
      "9                   7.076923                 6.422018  \n",
      "['Previous', 'Update', 'Previous', 'Update', 'Previous', 'Update', 'Previous', 'Update']\n",
      "   Drivingdata_cols.csv\n",
      "0              0.000000\n",
      "1             34.163701\n",
      "2             10.346915\n",
      "3              8.465877\n",
      "4              8.468298\n",
      "5              8.620815\n",
      "6              8.194737\n",
      "7              7.913913\n",
      "8              7.284480\n",
      "9              6.541264\n"
     ]
    }
   ],
   "source": [
    "df2 = pd.DataFrame(index=range(0, 10))\n",
    "\n",
    "i = 1\n",
    "std_devs = {}\n",
    "\n",
    "for file in all_files:\n",
    "    print(i)\n",
    "    i += 1\n",
    "    data = pd.read_csv(file, na_values=['-', 'ND'], header=[0])\n",
    "    last_digits = [] #\n",
    "    last_digit_dict = {}\n",
    "    last_digit_freq = {}\n",
    "\n",
    "    for column in data:\n",
    "        nums = data[column]\n",
    "        last_digit = [first_after_decimal(num) for num in nums]\n",
    "        #last_digit = [first_digit(num) for num in nums]\n",
    "        last_digits += last_digit\n",
    "        last_digit_dict[column] = last_digit\n",
    "        \n",
    "\n",
    "    df1 = get_frequencies(last_digits)\n",
    "    \n",
    "    column_data = {}\n",
    "    keys = []\n",
    "    tags = []\n",
    "\n",
    "    for key in last_digit_dict.keys():\n",
    "        frequencies = get_frequencies(last_digit_dict[key])\n",
    "        frequencies['Percentage'] = frequencies['freq'] / sum(frequencies['freq']) * 100\n",
    "        last_digit_freq[key] = frequencies\n",
    "\n",
    "        message = (f\"{key}\"\n",
    "        f\"{frequencies}\"\n",
    "        f\"\")\n",
    "        #print(message)\n",
    "        \n",
    "        column_data[key] = frequencies['Percentage']\n",
    "        keys.append(key)\n",
    "        \n",
    "        prevTag = \"Previous\"\n",
    "        updateTag = \"Update\"\n",
    "        \n",
    "        if prevTag in key:\n",
    "            tags.append(prevTag)\n",
    "            \n",
    "        elif updateTag in key:\n",
    "            tags.append(updateTag)\n",
    " \n",
    "    \n",
    "    df5 = pd.DataFrame(column_data)\n",
    "    #df5['Average'] = df1['freq'] / sum(df1['freq']) * 100\n",
    "    print(df5)\n",
    "#     df5 = df5.drop([0])\n",
    "    \n",
    "    std_devs[file] = df5.std(axis = 1)\n",
    "    print(tags)\n",
    "    \n",
    "# print(std_devs)\n",
    "# df7 = pd.DataFrame(std_devs)\n",
    "# print(df7)\n",
    "        \n",
    "    df1['Percentage'] = df1['freq'] / sum(df1['freq']) * 100\n",
    "    df2[file] = df1['freq'] / sum(df1['freq']) * 100\n",
    "    print(df2)\n",
    "\n",
    "\n",
    "#         df1.columns = ['Element', 'Frequency']\n",
    "#     df1['Percentage'] = df1['Frequency'] / sum(df1['Frequency']) * 100\n",
    "#     if first:\n",
    "#         df2 = df1[['Element', 'Percentage']].copy()\n",
    "#         df2.rename(columns={'Percentage': file}, inplace=True)\n",
    "#         first = False\n",
    "#     else:\n",
    "#         df2[file] = df1['Frequency'] / sum(df1['Frequency']) * 100"
   ]
  },
  {
   "cell_type": "code",
   "execution_count": 9,
   "metadata": {
    "scrolled": false
   },
   "outputs": [
    {
     "name": "stdout",
     "output_type": "stream",
     "text": [
      "                      level_0  Digit  percentage\n",
      "0   Odom Reading 1 (Previous)      0    0.000000\n",
      "1   Odom Reading 1 (Previous)      1   30.700770\n",
      "2   Odom Reading 1 (Previous)      2   10.934111\n",
      "3   Odom Reading 1 (Previous)      3   10.044125\n",
      "4   Odom Reading 1 (Previous)      4    9.109266\n",
      "..                        ...    ...         ...\n",
      "75    Odom Reading 4 (Update)      5    3.363914\n",
      "76    Odom Reading 4 (Update)      6    3.669725\n",
      "77    Odom Reading 4 (Update)      7    5.504587\n",
      "78    Odom Reading 4 (Update)      8    5.504587\n",
      "79    Odom Reading 4 (Update)      9    6.422018\n",
      "\n",
      "[80 rows x 3 columns]\n"
     ]
    },
    {
     "data": {
      "image/png": "[encoded data removed]",
      "text/plain": [
       "<Figure size 432x288 with 1 Axes>"
      ]
     },
     "metadata": {
      "needs_background": "light"
     },
     "output_type": "display_data"
    }
   ],
   "source": [
    "df6 = pd.DataFrame(df5).T.stack().reset_index()#.drop(columns=['level_1'])\n",
    "df6 = df6.rename(columns={0: \"percentage\", \"level_1\": \"Digit\"})\n",
    "print(df6)\n",
    "\n",
    "plt.scatter(x = 'Digit', y = 'percentage', data = df6)\n",
    "# plt.xticks([0,1,2,3,4,5,6,7,8,9])\n",
    "plt.ylim(-1, 60)\n",
    "plt.ylabel(\"Frequency (%)\")\n",
    "plt.xlabel(\"Digit\")\n",
    "plt.title(\"Digit frequency of first significant digit\")\n",
    "plt.savefig('mileage_first_digit', dpi=300)\n",
    "plt.show()"
   ]
  },
  {
   "cell_type": "code",
   "execution_count": 76,
   "metadata": {},
   "outputs": [
    {
     "name": "stdout",
     "output_type": "stream",
     "text": [
      "Digit                    level_0    0          1          2          3  \\\n",
      "0      Odom Reading 1 (Previous)  0.0  30.700770  10.934111  10.044125   \n",
      "1        Odom Reading 1 (Update)  0.0  36.558422   9.260083   7.169336   \n",
      "2      Odom Reading 2 (Previous)  0.0  31.698181  11.398502   9.703889   \n",
      "3        Odom Reading 2 (Update)  0.0  36.466631   9.842450   6.779961   \n",
      "4      Odom Reading 3 (Previous)  0.0  32.990506  11.946203   8.860759   \n",
      "5        Odom Reading 3 (Update)  0.0  41.738449  11.667972   7.517619   \n",
      "6      Odom Reading 4 (Previous)  0.0  39.384615  10.461538   8.307692   \n",
      "7        Odom Reading 4 (Update)  0.0  49.235474  10.397554   7.645260   \n",
      "\n",
      "Digit         4         5         6          7         8         9  \n",
      "0      9.109266  9.685139  8.451126   7.837858  6.940393  6.297210  \n",
      "1      8.274021  7.740214  8.459371   7.970047  7.643832  6.924674  \n",
      "2      8.223332  9.471994  7.777381   8.829825  7.599001  5.297895  \n",
      "3      8.302354  8.479377  8.302354   7.452646  7.452646  6.921579  \n",
      "4      7.199367  8.148734  6.882911   8.227848  7.515823  8.227848  \n",
      "5      7.752545  6.342991  6.812843   5.638215  5.481597  7.047768  \n",
      "6      5.230769  5.230769  7.076923  11.076923  6.153846  7.076923  \n",
      "7      8.256881  3.363914  3.669725   5.504587  5.504587  6.422018  \n",
      "Digit                    level_0    0          1          2          3  \\\n",
      "0      Odom Reading 1 (Previous)  0.0  30.700770  10.934111  10.044125   \n",
      "1        Odom Reading 1 (Update)  0.0  36.558422   9.260083   7.169336   \n",
      "2      Odom Reading 2 (Previous)  0.0  31.698181  11.398502   9.703889   \n",
      "3        Odom Reading 2 (Update)  0.0  36.466631   9.842450   6.779961   \n",
      "4      Odom Reading 3 (Previous)  0.0  32.990506  11.946203   8.860759   \n",
      "5        Odom Reading 3 (Update)  0.0  41.738449  11.667972   7.517619   \n",
      "6      Odom Reading 4 (Previous)  0.0  39.384615  10.461538   8.307692   \n",
      "7        Odom Reading 4 (Update)  0.0  49.235474  10.397554   7.645260   \n",
      "\n",
      "Digit         4         5         6          7         8         9    Target  \n",
      "0      9.109266  9.685139  8.451126   7.837858  6.940393  6.297210  Previous  \n",
      "1      8.274021  7.740214  8.459371   7.970047  7.643832  6.924674    Update  \n",
      "2      8.223332  9.471994  7.777381   8.829825  7.599001  5.297895  Previous  \n",
      "3      8.302354  8.479377  8.302354   7.452646  7.452646  6.921579    Update  \n",
      "4      7.199367  8.148734  6.882911   8.227848  7.515823  8.227848  Previous  \n",
      "5      7.752545  6.342991  6.812843   5.638215  5.481597  7.047768    Update  \n",
      "6      5.230769  5.230769  7.076923  11.076923  6.153846  7.076923  Previous  \n",
      "7      8.256881  3.363914  3.669725   5.504587  5.504587  6.422018    Update  \n"
     ]
    }
   ],
   "source": [
    "df6 = df6.astype({'Digit': str})\n",
    "\n",
    "df6 = pd.pivot_table(df6, values = 'percentage', index = 'level_0', columns = 'Digit').reset_index()\n",
    "print(df6)\n",
    "\n",
    "df6['Target'] = tags\n",
    "print(df6)"
   ]
  },
  {
   "cell_type": "code",
   "execution_count": 77,
   "metadata": {},
   "outputs": [],
   "source": [
    "# plt.boxplot(df7, sym=\"k.\", medianprops=dict(color=\"black\"))\n",
    "# plt.xticks([0,1,2,3,4,5,6,7,8,9])\n",
    "# plt.ylim(-1, 40)\n",
    "# plt.ylabel(\"Standard Deviation\")\n",
    "# plt.xlabel(\"Digit\")\n",
    "# plt.title(\"Standard deviation of digit frequency of first significant digit\")\n",
    "# plt.savefig('Data/fig1a', dpi=300)\n",
    "# plt.show()"
   ]
  },
  {
   "cell_type": "code",
   "execution_count": 78,
   "metadata": {},
   "outputs": [
    {
     "name": "stdout",
     "output_type": "stream",
     "text": [
      "['1', '2', '3', '4', '5', '6', '7', '8', '9']\n",
      "[[-1.16301341  0.22622976  1.60634877  1.2046571   1.1634221   0.86191384\n",
      "   0.0124104   0.17569021 -0.61588005]\n",
      " [-0.13793511 -1.71034061 -0.97270651  0.43990501  0.21157777  0.86750098\n",
      "   0.09199226  0.9785818   0.18957848]\n",
      " [-0.98846846  0.76345182  1.30111282  0.39349386  1.05910911  0.40539786\n",
      "   0.60960345  0.9274131  -1.89867519]\n",
      " [-0.15399837 -1.0366395  -1.32202555  0.4658468   0.57332339  0.76110938\n",
      "  -0.21949815  0.76036662  0.18560584]\n",
      " [-0.76231383  1.39705014  0.54471772 -0.54405075  0.41150727 -0.20067763\n",
      "   0.24719575  0.83247491  1.86242962]\n",
      " [ 0.76856011  1.07518375 -0.66025132 -0.03755984 -0.47222099 -0.24815488\n",
      "  -1.31183891 -1.48935303  0.34759161]\n",
      " [ 0.35664348 -0.32045774  0.04854547 -2.34650319 -1.01654111 -0.06921908\n",
      "   1.96242169 -0.72206057  0.38501696]\n",
      " [ 2.08052559 -0.39447762 -0.54574139  0.42421102 -1.93017754 -2.37787048\n",
      "  -1.39228649 -1.46311304 -0.45566729]]\n",
      "   principal component 1  principal component 2    Target\n",
      "0              -2.255686              -1.094952  Previous\n",
      "1              -0.640205              -0.320668    Update\n",
      "2              -2.353682              -0.690650  Previous\n",
      "3              -0.548026              -0.520835    Update\n",
      "4              -0.878223               1.375781  Previous\n",
      "5               1.827749              -0.476034    Update\n",
      "6               0.850270               2.990752  Previous\n",
      "7               3.997803              -1.263393    Update\n"
     ]
    }
   ],
   "source": [
    "from sklearn.preprocessing import StandardScaler\n",
    "from sklearn.decomposition import PCA\n",
    "\n",
    "features = ['1', '2', '3', '4', '5', '6', '7', '8', '9']\n",
    "print(features)\n",
    "\n",
    "# Separating out the features\n",
    "x = df6.loc[:, features].values\n",
    "# # Separating out the target\n",
    "y = df6.loc[:,['Target']].values\n",
    "# # # Standardizing the features\n",
    "\n",
    "x = StandardScaler().fit_transform(x)\n",
    "print(x)\n",
    "\n",
    "pca = PCA(n_components=2)\n",
    "principalComponents = pca.fit_transform(x)\n",
    "principalDf = pd.DataFrame(data = principalComponents, columns = ['principal component 1', 'principal component 2'])\n",
    "\n",
    "finalDf = pd.concat([principalDf, df6[['Target']]], axis = 1)\n",
    "print(finalDf)"
   ]
  },
  {
   "cell_type": "code",
   "execution_count": 79,
   "metadata": {
    "scrolled": true
   },
   "outputs": [
    {
     "data": {
      "image/png": "[encoded data removed]",
      "text/plain": [
       "<Figure size 576x576 with 1 Axes>"
      ]
     },
     "metadata": {
      "needs_background": "light"
     },
     "output_type": "display_data"
    }
   ],
   "source": [
    "fig = plt.figure(figsize = (8,8))\n",
    "ax = fig.add_subplot(1,1,1) \n",
    "ax.set_xlabel('Principal Component 1', fontsize = 15)\n",
    "ax.set_ylabel('Principal Component 2', fontsize = 15)\n",
    "ax.set_title('2 component PCA', fontsize = 20)\n",
    "\n",
    "targets = [prevTag, updateTag]\n",
    "for target in targets:\n",
    "    indicesToKeep = finalDf['Target'] == target\n",
    "    ax.scatter(finalDf.loc[indicesToKeep, 'principal component 1']\n",
    "               , finalDf.loc[indicesToKeep, 'principal component 2']\n",
    "               , s = 50)\n",
    "ax.legend(targets)\n",
    "ax.grid()\n",
    "\n",
    "fig.savefig('mileage_first_digit_PCA', dpi=300)"
   ]
  },
  {
   "cell_type": "code",
   "execution_count": null,
   "metadata": {},
   "outputs": [],
   "source": []
  }
 ],
 "metadata": {
  "kernelspec": {
   "display_name": "Python 3",
   "language": "python",
   "name": "python3"
  },
  "language_info": {
   "codemirror_mode": {
    "name": "ipython",
    "version": 3
   },
   "file_extension": ".py",
   "mimetype": "text/x-python",
   "name": "python",
   "nbconvert_exporter": "python",
   "pygments_lexer": "ipython3",
   "version": "3.8.3"
  }
 },
 "nbformat": 4,
 "nbformat_minor": 4
}
